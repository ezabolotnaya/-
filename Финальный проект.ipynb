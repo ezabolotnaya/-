{
 "cells": [
  {
   "cell_type": "markdown",
   "metadata": {},
   "source": [
    "# Анализ оттока клиентов"
   ]
  },
  {
   "cell_type": "markdown",
   "metadata": {},
   "source": [
    "**Материалы:**\n",
    "- [Презентация](https://disk.yandex.ru/d/VlqtxXUJnlgFYA)\n",
    "- [Дашборд] (в процессе)"
   ]
  },
  {
   "cell_type": "markdown",
   "metadata": {},
   "source": [
    "**Цель:** проанализировать клиентов регионального банка и выделить сегменты клиентов, которые склонны к уходу из банка."
   ]
  },
  {
   "cell_type": "markdown",
   "metadata": {},
   "source": [
    "**Задачи:**\n",
    "- Провести исследовательский анализ данных, определить все значимые признаки оттока клиентов;\n",
    "- Сформулировать и проверить статистические гипотезы;\n",
    "- Сформировать сегменты, отобрать из них лучшие и дать по ним рекомандации."
   ]
  },
  {
   "cell_type": "markdown",
   "metadata": {},
   "source": [
    "**Описание данных:**\n",
    "Датасет содержит в себе данные о клиентах банка \"Метанпром\". Банк располагается в Ярославле и областных городах: Ростов Великий и Рыбинск.\n",
    "\n",
    "- **userid** - идентификатор пользователя;\n",
    "- **score** - баллы кредитного скоринга;\n",
    "- **City** - город;\n",
    "- **Gender** - пол;\n",
    "- **Age** - возраст;\n",
    "- **Equity** - количество объектов в собственности / количество баллов собственности;\n",
    "- **Balance** - баланс на счете;\n",
    "- **Products** - количество продуктов, которыми пользуется клиент;\n",
    "- **Creditcard** - наличие кредитной карты;\n",
    "- **last_activity** - активный клиент;\n",
    "- **estimated_salary** - заработная плата клиента;\n",
    "- **Churn** - ушёл или нет."
   ]
  },
  {
   "cell_type": "code",
   "execution_count": 1,
   "metadata": {},
   "outputs": [],
   "source": [
    "#загрузим стандартные библиотеки, которые могут понадобится для работы с данными и дальнейшим анализом\n",
    "\n",
    "import pandas as pd\n",
    "import numpy as np\n",
    "from numpy import median\n",
    "from scipy import stats as st\n",
    "import math as mth\n",
    "import datetime as dt\n",
    "from datetime import datetime, timedelta\n",
    "import matplotlib.pyplot as plt\n",
    "import seaborn as sns"
   ]
  },
  {
   "cell_type": "markdown",
   "metadata": {},
   "source": [
    "# Загрузка и изучение данных"
   ]
  },
  {
   "cell_type": "code",
   "execution_count": 2,
   "metadata": {},
   "outputs": [
    {
     "data": {
      "text/html": [
       "<div>\n",
       "<style scoped>\n",
       "    .dataframe tbody tr th:only-of-type {\n",
       "        vertical-align: middle;\n",
       "    }\n",
       "\n",
       "    .dataframe tbody tr th {\n",
       "        vertical-align: top;\n",
       "    }\n",
       "\n",
       "    .dataframe thead th {\n",
       "        text-align: right;\n",
       "    }\n",
       "</style>\n",
       "<table border=\"1\" class=\"dataframe\">\n",
       "  <thead>\n",
       "    <tr style=\"text-align: right;\">\n",
       "      <th></th>\n",
       "      <th>USERID</th>\n",
       "      <th>score</th>\n",
       "      <th>city</th>\n",
       "      <th>gender</th>\n",
       "      <th>age</th>\n",
       "      <th>equity</th>\n",
       "      <th>balance</th>\n",
       "      <th>products</th>\n",
       "      <th>credit_card</th>\n",
       "      <th>last_activity</th>\n",
       "      <th>EST_SALARY</th>\n",
       "      <th>churn</th>\n",
       "    </tr>\n",
       "  </thead>\n",
       "  <tbody>\n",
       "    <tr>\n",
       "      <th>0</th>\n",
       "      <td>183012</td>\n",
       "      <td>850.0</td>\n",
       "      <td>Рыбинск</td>\n",
       "      <td>Ж</td>\n",
       "      <td>25.0</td>\n",
       "      <td>1</td>\n",
       "      <td>59214.82</td>\n",
       "      <td>2</td>\n",
       "      <td>0</td>\n",
       "      <td>1</td>\n",
       "      <td>75719.14</td>\n",
       "      <td>1</td>\n",
       "    </tr>\n",
       "    <tr>\n",
       "      <th>1</th>\n",
       "      <td>146556</td>\n",
       "      <td>861.0</td>\n",
       "      <td>Рыбинск</td>\n",
       "      <td>Ж</td>\n",
       "      <td>37.0</td>\n",
       "      <td>5</td>\n",
       "      <td>850594.33</td>\n",
       "      <td>3</td>\n",
       "      <td>1</td>\n",
       "      <td>0</td>\n",
       "      <td>86621.77</td>\n",
       "      <td>0</td>\n",
       "    </tr>\n",
       "    <tr>\n",
       "      <th>2</th>\n",
       "      <td>120722</td>\n",
       "      <td>892.0</td>\n",
       "      <td>Рыбинск</td>\n",
       "      <td>Ж</td>\n",
       "      <td>30.0</td>\n",
       "      <td>0</td>\n",
       "      <td>NaN</td>\n",
       "      <td>1</td>\n",
       "      <td>1</td>\n",
       "      <td>1</td>\n",
       "      <td>107683.34</td>\n",
       "      <td>0</td>\n",
       "    </tr>\n",
       "    <tr>\n",
       "      <th>3</th>\n",
       "      <td>225363</td>\n",
       "      <td>866.0</td>\n",
       "      <td>Ярославль</td>\n",
       "      <td>Ж</td>\n",
       "      <td>51.0</td>\n",
       "      <td>5</td>\n",
       "      <td>1524746.26</td>\n",
       "      <td>2</td>\n",
       "      <td>0</td>\n",
       "      <td>1</td>\n",
       "      <td>174423.53</td>\n",
       "      <td>1</td>\n",
       "    </tr>\n",
       "    <tr>\n",
       "      <th>4</th>\n",
       "      <td>157978</td>\n",
       "      <td>730.0</td>\n",
       "      <td>Ярославль</td>\n",
       "      <td>М</td>\n",
       "      <td>34.0</td>\n",
       "      <td>5</td>\n",
       "      <td>174.00</td>\n",
       "      <td>1</td>\n",
       "      <td>1</td>\n",
       "      <td>0</td>\n",
       "      <td>67353.16</td>\n",
       "      <td>1</td>\n",
       "    </tr>\n",
       "    <tr>\n",
       "      <th>...</th>\n",
       "      <td>...</td>\n",
       "      <td>...</td>\n",
       "      <td>...</td>\n",
       "      <td>...</td>\n",
       "      <td>...</td>\n",
       "      <td>...</td>\n",
       "      <td>...</td>\n",
       "      <td>...</td>\n",
       "      <td>...</td>\n",
       "      <td>...</td>\n",
       "      <td>...</td>\n",
       "      <td>...</td>\n",
       "    </tr>\n",
       "    <tr>\n",
       "      <th>9995</th>\n",
       "      <td>120553</td>\n",
       "      <td>814.0</td>\n",
       "      <td>Рыбинск</td>\n",
       "      <td>М</td>\n",
       "      <td>27.0</td>\n",
       "      <td>1</td>\n",
       "      <td>78144.65</td>\n",
       "      <td>1</td>\n",
       "      <td>0</td>\n",
       "      <td>1</td>\n",
       "      <td>18943.64</td>\n",
       "      <td>0</td>\n",
       "    </tr>\n",
       "    <tr>\n",
       "      <th>9996</th>\n",
       "      <td>139170</td>\n",
       "      <td>894.0</td>\n",
       "      <td>Ярославль</td>\n",
       "      <td>М</td>\n",
       "      <td>46.0</td>\n",
       "      <td>0</td>\n",
       "      <td>NaN</td>\n",
       "      <td>1</td>\n",
       "      <td>1</td>\n",
       "      <td>0</td>\n",
       "      <td>196898.29</td>\n",
       "      <td>0</td>\n",
       "    </tr>\n",
       "    <tr>\n",
       "      <th>9997</th>\n",
       "      <td>115639</td>\n",
       "      <td>903.0</td>\n",
       "      <td>Ярославль</td>\n",
       "      <td>М</td>\n",
       "      <td>24.0</td>\n",
       "      <td>0</td>\n",
       "      <td>NaN</td>\n",
       "      <td>2</td>\n",
       "      <td>1</td>\n",
       "      <td>1</td>\n",
       "      <td>108905.09</td>\n",
       "      <td>0</td>\n",
       "    </tr>\n",
       "    <tr>\n",
       "      <th>9998</th>\n",
       "      <td>148700</td>\n",
       "      <td>777.0</td>\n",
       "      <td>Ярославль</td>\n",
       "      <td>Ж</td>\n",
       "      <td>68.0</td>\n",
       "      <td>3</td>\n",
       "      <td>865457.97</td>\n",
       "      <td>3</td>\n",
       "      <td>0</td>\n",
       "      <td>1</td>\n",
       "      <td>86874.90</td>\n",
       "      <td>0</td>\n",
       "    </tr>\n",
       "    <tr>\n",
       "      <th>9999</th>\n",
       "      <td>96267</td>\n",
       "      <td>828.0</td>\n",
       "      <td>Рыбинск</td>\n",
       "      <td>Ж</td>\n",
       "      <td>58.0</td>\n",
       "      <td>3</td>\n",
       "      <td>1180886.70</td>\n",
       "      <td>4</td>\n",
       "      <td>0</td>\n",
       "      <td>1</td>\n",
       "      <td>21422.37</td>\n",
       "      <td>0</td>\n",
       "    </tr>\n",
       "  </tbody>\n",
       "</table>\n",
       "<p>10000 rows × 12 columns</p>\n",
       "</div>"
      ],
      "text/plain": [
       "      USERID  score       city gender   age  equity     balance  products  \\\n",
       "0     183012  850.0    Рыбинск      Ж  25.0       1    59214.82         2   \n",
       "1     146556  861.0    Рыбинск      Ж  37.0       5   850594.33         3   \n",
       "2     120722  892.0    Рыбинск      Ж  30.0       0         NaN         1   \n",
       "3     225363  866.0  Ярославль      Ж  51.0       5  1524746.26         2   \n",
       "4     157978  730.0  Ярославль      М  34.0       5      174.00         1   \n",
       "...      ...    ...        ...    ...   ...     ...         ...       ...   \n",
       "9995  120553  814.0    Рыбинск      М  27.0       1    78144.65         1   \n",
       "9996  139170  894.0  Ярославль      М  46.0       0         NaN         1   \n",
       "9997  115639  903.0  Ярославль      М  24.0       0         NaN         2   \n",
       "9998  148700  777.0  Ярославль      Ж  68.0       3   865457.97         3   \n",
       "9999   96267  828.0    Рыбинск      Ж  58.0       3  1180886.70         4   \n",
       "\n",
       "      credit_card  last_activity  EST_SALARY  churn  \n",
       "0               0              1    75719.14      1  \n",
       "1               1              0    86621.77      0  \n",
       "2               1              1   107683.34      0  \n",
       "3               0              1   174423.53      1  \n",
       "4               1              0    67353.16      1  \n",
       "...           ...            ...         ...    ...  \n",
       "9995            0              1    18943.64      0  \n",
       "9996            1              0   196898.29      0  \n",
       "9997            1              1   108905.09      0  \n",
       "9998            0              1    86874.90      0  \n",
       "9999            0              1    21422.37      0  \n",
       "\n",
       "[10000 rows x 12 columns]"
      ]
     },
     "execution_count": 2,
     "metadata": {},
     "output_type": "execute_result"
    }
   ],
   "source": [
    "try:\n",
    "    data = pd.read_csv('bank_scrooge.csv')\n",
    "except:\n",
    "    data = pd.read_csv('https://code.s3.yandex.net/datasets/bank_scrooge.csv')\n",
    "\n",
    "data.shape\n",
    "data"
   ]
  },
  {
   "cell_type": "markdown",
   "metadata": {},
   "source": [
    "Всего в данных 1000 строк (количество клиентов) и 12 столбцов (параметры)."
   ]
  },
  {
   "cell_type": "code",
   "execution_count": 3,
   "metadata": {},
   "outputs": [
    {
     "name": "stdout",
     "output_type": "stream",
     "text": [
      "<class 'pandas.core.frame.DataFrame'>\n",
      "RangeIndex: 10000 entries, 0 to 9999\n",
      "Data columns (total 12 columns):\n",
      " #   Column         Non-Null Count  Dtype  \n",
      "---  ------         --------------  -----  \n",
      " 0   USERID         10000 non-null  int64  \n",
      " 1   score          10000 non-null  float64\n",
      " 2   city           10000 non-null  object \n",
      " 3   gender         10000 non-null  object \n",
      " 4   age            9974 non-null   float64\n",
      " 5   equity         10000 non-null  int64  \n",
      " 6   balance        7705 non-null   float64\n",
      " 7   products       10000 non-null  int64  \n",
      " 8   credit_card    10000 non-null  int64  \n",
      " 9   last_activity  10000 non-null  int64  \n",
      " 10  EST_SALARY     10000 non-null  float64\n",
      " 11  churn          10000 non-null  int64  \n",
      "dtypes: float64(4), int64(6), object(2)\n",
      "memory usage: 937.6+ KB\n"
     ]
    }
   ],
   "source": [
    "data.info()"
   ]
  },
  {
   "cell_type": "code",
   "execution_count": 4,
   "metadata": {},
   "outputs": [],
   "source": [
    "data['score'] = data ['score'].astype(int)"
   ]
  },
  {
   "cell_type": "markdown",
   "metadata": {},
   "source": [
    "Данные почти полные, заисключением двух столбцов: возраст и баланс. На этапе предобработки данных нужно будет привести название столбцов в нижний регистр, изменить тип данных некоторых столбцов."
   ]
  },
  {
   "cell_type": "code",
   "execution_count": 5,
   "metadata": {},
   "outputs": [
    {
     "data": {
      "text/html": [
       "<div>\n",
       "<style scoped>\n",
       "    .dataframe tbody tr th:only-of-type {\n",
       "        vertical-align: middle;\n",
       "    }\n",
       "\n",
       "    .dataframe tbody tr th {\n",
       "        vertical-align: top;\n",
       "    }\n",
       "\n",
       "    .dataframe thead th {\n",
       "        text-align: right;\n",
       "    }\n",
       "</style>\n",
       "<table border=\"1\" class=\"dataframe\">\n",
       "  <thead>\n",
       "    <tr style=\"text-align: right;\">\n",
       "      <th></th>\n",
       "      <th>USERID</th>\n",
       "      <th>score</th>\n",
       "      <th>age</th>\n",
       "      <th>equity</th>\n",
       "      <th>balance</th>\n",
       "      <th>products</th>\n",
       "      <th>credit_card</th>\n",
       "      <th>last_activity</th>\n",
       "      <th>EST_SALARY</th>\n",
       "      <th>churn</th>\n",
       "    </tr>\n",
       "  </thead>\n",
       "  <tbody>\n",
       "    <tr>\n",
       "      <th>count</th>\n",
       "      <td>10000.00000</td>\n",
       "      <td>10000.000000</td>\n",
       "      <td>9974.000000</td>\n",
       "      <td>10000.000000</td>\n",
       "      <td>7.705000e+03</td>\n",
       "      <td>10000.000000</td>\n",
       "      <td>10000.000000</td>\n",
       "      <td>10000.000000</td>\n",
       "      <td>1.000000e+04</td>\n",
       "      <td>10000.000000</td>\n",
       "    </tr>\n",
       "    <tr>\n",
       "      <th>mean</th>\n",
       "      <td>171814.71260</td>\n",
       "      <td>848.699400</td>\n",
       "      <td>42.734409</td>\n",
       "      <td>2.627600</td>\n",
       "      <td>8.277943e+05</td>\n",
       "      <td>1.870100</td>\n",
       "      <td>0.680400</td>\n",
       "      <td>0.523500</td>\n",
       "      <td>1.478669e+05</td>\n",
       "      <td>0.182000</td>\n",
       "    </tr>\n",
       "    <tr>\n",
       "      <th>std</th>\n",
       "      <td>33708.23812</td>\n",
       "      <td>65.448519</td>\n",
       "      <td>12.179971</td>\n",
       "      <td>1.980836</td>\n",
       "      <td>1.980614e+06</td>\n",
       "      <td>0.792647</td>\n",
       "      <td>0.466345</td>\n",
       "      <td>0.499472</td>\n",
       "      <td>1.393885e+05</td>\n",
       "      <td>0.385864</td>\n",
       "    </tr>\n",
       "    <tr>\n",
       "      <th>min</th>\n",
       "      <td>94561.00000</td>\n",
       "      <td>642.000000</td>\n",
       "      <td>18.000000</td>\n",
       "      <td>0.000000</td>\n",
       "      <td>0.000000e+00</td>\n",
       "      <td>0.000000</td>\n",
       "      <td>0.000000</td>\n",
       "      <td>0.000000</td>\n",
       "      <td>2.546300e+03</td>\n",
       "      <td>0.000000</td>\n",
       "    </tr>\n",
       "    <tr>\n",
       "      <th>25%</th>\n",
       "      <td>142810.25000</td>\n",
       "      <td>802.000000</td>\n",
       "      <td>33.000000</td>\n",
       "      <td>0.000000</td>\n",
       "      <td>2.955542e+05</td>\n",
       "      <td>1.000000</td>\n",
       "      <td>0.000000</td>\n",
       "      <td>0.000000</td>\n",
       "      <td>7.525190e+04</td>\n",
       "      <td>0.000000</td>\n",
       "    </tr>\n",
       "    <tr>\n",
       "      <th>50%</th>\n",
       "      <td>172728.00000</td>\n",
       "      <td>853.000000</td>\n",
       "      <td>40.000000</td>\n",
       "      <td>3.000000</td>\n",
       "      <td>5.242722e+05</td>\n",
       "      <td>2.000000</td>\n",
       "      <td>1.000000</td>\n",
       "      <td>1.000000</td>\n",
       "      <td>1.196581e+05</td>\n",
       "      <td>0.000000</td>\n",
       "    </tr>\n",
       "    <tr>\n",
       "      <th>75%</th>\n",
       "      <td>201261.75000</td>\n",
       "      <td>900.000000</td>\n",
       "      <td>51.000000</td>\n",
       "      <td>4.000000</td>\n",
       "      <td>9.807058e+05</td>\n",
       "      <td>2.000000</td>\n",
       "      <td>1.000000</td>\n",
       "      <td>1.000000</td>\n",
       "      <td>1.745005e+05</td>\n",
       "      <td>0.000000</td>\n",
       "    </tr>\n",
       "    <tr>\n",
       "      <th>max</th>\n",
       "      <td>229145.00000</td>\n",
       "      <td>1000.000000</td>\n",
       "      <td>86.000000</td>\n",
       "      <td>9.000000</td>\n",
       "      <td>1.191136e+08</td>\n",
       "      <td>5.000000</td>\n",
       "      <td>1.000000</td>\n",
       "      <td>1.000000</td>\n",
       "      <td>1.395064e+06</td>\n",
       "      <td>1.000000</td>\n",
       "    </tr>\n",
       "  </tbody>\n",
       "</table>\n",
       "</div>"
      ],
      "text/plain": [
       "             USERID         score          age        equity       balance  \\\n",
       "count   10000.00000  10000.000000  9974.000000  10000.000000  7.705000e+03   \n",
       "mean   171814.71260    848.699400    42.734409      2.627600  8.277943e+05   \n",
       "std     33708.23812     65.448519    12.179971      1.980836  1.980614e+06   \n",
       "min     94561.00000    642.000000    18.000000      0.000000  0.000000e+00   \n",
       "25%    142810.25000    802.000000    33.000000      0.000000  2.955542e+05   \n",
       "50%    172728.00000    853.000000    40.000000      3.000000  5.242722e+05   \n",
       "75%    201261.75000    900.000000    51.000000      4.000000  9.807058e+05   \n",
       "max    229145.00000   1000.000000    86.000000      9.000000  1.191136e+08   \n",
       "\n",
       "           products   credit_card  last_activity    EST_SALARY         churn  \n",
       "count  10000.000000  10000.000000   10000.000000  1.000000e+04  10000.000000  \n",
       "mean       1.870100      0.680400       0.523500  1.478669e+05      0.182000  \n",
       "std        0.792647      0.466345       0.499472  1.393885e+05      0.385864  \n",
       "min        0.000000      0.000000       0.000000  2.546300e+03      0.000000  \n",
       "25%        1.000000      0.000000       0.000000  7.525190e+04      0.000000  \n",
       "50%        2.000000      1.000000       1.000000  1.196581e+05      0.000000  \n",
       "75%        2.000000      1.000000       1.000000  1.745005e+05      0.000000  \n",
       "max        5.000000      1.000000       1.000000  1.395064e+06      1.000000  "
      ]
     },
     "execution_count": 5,
     "metadata": {},
     "output_type": "execute_result"
    }
   ],
   "source": [
    "data.describe()"
   ]
  },
  {
   "cell_type": "markdown",
   "metadata": {},
   "source": [
    "Возрастная категория клинетов банка - от 18 до 86 лет, количество баллов в собственности от 0 до 9, максимальное количество продуктов у клиентов - 5. Видим, что минимальное количество продуктов у клиентов - 0, либо это ошибка, либо клиент ушел из банка. Столбцы сredit_сard, last_activity, churn содержат значения 0 и 1."
   ]
  },
  {
   "cell_type": "code",
   "execution_count": 6,
   "metadata": {},
   "outputs": [
    {
     "data": {
      "text/html": [
       "<div>\n",
       "<style scoped>\n",
       "    .dataframe tbody tr th:only-of-type {\n",
       "        vertical-align: middle;\n",
       "    }\n",
       "\n",
       "    .dataframe tbody tr th {\n",
       "        vertical-align: top;\n",
       "    }\n",
       "\n",
       "    .dataframe thead th {\n",
       "        text-align: right;\n",
       "    }\n",
       "</style>\n",
       "<table border=\"1\" class=\"dataframe\">\n",
       "  <thead>\n",
       "    <tr style=\"text-align: right;\">\n",
       "      <th></th>\n",
       "      <th>USERID</th>\n",
       "      <th>score</th>\n",
       "      <th>city</th>\n",
       "      <th>gender</th>\n",
       "      <th>age</th>\n",
       "      <th>equity</th>\n",
       "      <th>balance</th>\n",
       "      <th>products</th>\n",
       "      <th>credit_card</th>\n",
       "      <th>last_activity</th>\n",
       "      <th>EST_SALARY</th>\n",
       "      <th>churn</th>\n",
       "    </tr>\n",
       "  </thead>\n",
       "  <tbody>\n",
       "    <tr>\n",
       "      <th>8957</th>\n",
       "      <td>147837</td>\n",
       "      <td>962</td>\n",
       "      <td>Рыбинск</td>\n",
       "      <td>Ж</td>\n",
       "      <td>79.0</td>\n",
       "      <td>3</td>\n",
       "      <td>NaN</td>\n",
       "      <td>0</td>\n",
       "      <td>0</td>\n",
       "      <td>0</td>\n",
       "      <td>25063.96</td>\n",
       "      <td>1</td>\n",
       "    </tr>\n",
       "  </tbody>\n",
       "</table>\n",
       "</div>"
      ],
      "text/plain": [
       "      USERID  score     city gender   age  equity  balance  products  \\\n",
       "8957  147837    962  Рыбинск      Ж  79.0       3      NaN         0   \n",
       "\n",
       "      credit_card  last_activity  EST_SALARY  churn  \n",
       "8957            0              0    25063.96      1  "
      ]
     },
     "execution_count": 6,
     "metadata": {},
     "output_type": "execute_result"
    }
   ],
   "source": [
    "data[data['products']==0]"
   ]
  },
  {
   "cell_type": "markdown",
   "metadata": {},
   "source": [
    "Эту строку можно удалить, так необходимо проанализировать данные на момент, когда клиенты еще пользовались продуктами банка."
   ]
  },
  {
   "cell_type": "code",
   "execution_count": 7,
   "metadata": {
    "scrolled": false
   },
   "outputs": [
    {
     "data": {
      "text/html": [
       "<div>\n",
       "<style scoped>\n",
       "    .dataframe tbody tr th:only-of-type {\n",
       "        vertical-align: middle;\n",
       "    }\n",
       "\n",
       "    .dataframe tbody tr th {\n",
       "        vertical-align: top;\n",
       "    }\n",
       "\n",
       "    .dataframe thead th {\n",
       "        text-align: right;\n",
       "    }\n",
       "</style>\n",
       "<table border=\"1\" class=\"dataframe\">\n",
       "  <thead>\n",
       "    <tr style=\"text-align: right;\">\n",
       "      <th></th>\n",
       "      <th>USERID</th>\n",
       "      <th>score</th>\n",
       "      <th>age</th>\n",
       "      <th>equity</th>\n",
       "      <th>balance</th>\n",
       "      <th>products</th>\n",
       "      <th>credit_card</th>\n",
       "      <th>last_activity</th>\n",
       "      <th>EST_SALARY</th>\n",
       "      <th>churn</th>\n",
       "    </tr>\n",
       "  </thead>\n",
       "  <tbody>\n",
       "    <tr>\n",
       "      <th>count</th>\n",
       "      <td>9999.000000</td>\n",
       "      <td>9999.000000</td>\n",
       "      <td>9973.000000</td>\n",
       "      <td>9999.000000</td>\n",
       "      <td>7.705000e+03</td>\n",
       "      <td>9999.000000</td>\n",
       "      <td>9999.000000</td>\n",
       "      <td>9999.000000</td>\n",
       "      <td>9.999000e+03</td>\n",
       "      <td>9999.000000</td>\n",
       "    </tr>\n",
       "    <tr>\n",
       "      <th>mean</th>\n",
       "      <td>171817.110611</td>\n",
       "      <td>848.688069</td>\n",
       "      <td>42.730773</td>\n",
       "      <td>2.627563</td>\n",
       "      <td>8.277943e+05</td>\n",
       "      <td>1.870287</td>\n",
       "      <td>0.680468</td>\n",
       "      <td>0.523552</td>\n",
       "      <td>1.478792e+05</td>\n",
       "      <td>0.181918</td>\n",
       "    </tr>\n",
       "    <tr>\n",
       "      <th>std</th>\n",
       "      <td>33709.070798</td>\n",
       "      <td>65.441981</td>\n",
       "      <td>12.175166</td>\n",
       "      <td>1.980931</td>\n",
       "      <td>1.980614e+06</td>\n",
       "      <td>0.792466</td>\n",
       "      <td>0.466319</td>\n",
       "      <td>0.499470</td>\n",
       "      <td>1.393901e+05</td>\n",
       "      <td>0.385796</td>\n",
       "    </tr>\n",
       "    <tr>\n",
       "      <th>min</th>\n",
       "      <td>94561.000000</td>\n",
       "      <td>642.000000</td>\n",
       "      <td>18.000000</td>\n",
       "      <td>0.000000</td>\n",
       "      <td>0.000000e+00</td>\n",
       "      <td>1.000000</td>\n",
       "      <td>0.000000</td>\n",
       "      <td>0.000000</td>\n",
       "      <td>2.546300e+03</td>\n",
       "      <td>0.000000</td>\n",
       "    </tr>\n",
       "    <tr>\n",
       "      <th>25%</th>\n",
       "      <td>142809.500000</td>\n",
       "      <td>802.000000</td>\n",
       "      <td>33.000000</td>\n",
       "      <td>0.000000</td>\n",
       "      <td>2.955542e+05</td>\n",
       "      <td>1.000000</td>\n",
       "      <td>0.000000</td>\n",
       "      <td>0.000000</td>\n",
       "      <td>7.525212e+04</td>\n",
       "      <td>0.000000</td>\n",
       "    </tr>\n",
       "    <tr>\n",
       "      <th>50%</th>\n",
       "      <td>172740.000000</td>\n",
       "      <td>853.000000</td>\n",
       "      <td>40.000000</td>\n",
       "      <td>3.000000</td>\n",
       "      <td>5.242722e+05</td>\n",
       "      <td>2.000000</td>\n",
       "      <td>1.000000</td>\n",
       "      <td>1.000000</td>\n",
       "      <td>1.196615e+05</td>\n",
       "      <td>0.000000</td>\n",
       "    </tr>\n",
       "    <tr>\n",
       "      <th>75%</th>\n",
       "      <td>201262.500000</td>\n",
       "      <td>900.000000</td>\n",
       "      <td>51.000000</td>\n",
       "      <td>4.000000</td>\n",
       "      <td>9.807058e+05</td>\n",
       "      <td>2.000000</td>\n",
       "      <td>1.000000</td>\n",
       "      <td>1.000000</td>\n",
       "      <td>1.745011e+05</td>\n",
       "      <td>0.000000</td>\n",
       "    </tr>\n",
       "    <tr>\n",
       "      <th>max</th>\n",
       "      <td>229145.000000</td>\n",
       "      <td>1000.000000</td>\n",
       "      <td>86.000000</td>\n",
       "      <td>9.000000</td>\n",
       "      <td>1.191136e+08</td>\n",
       "      <td>5.000000</td>\n",
       "      <td>1.000000</td>\n",
       "      <td>1.000000</td>\n",
       "      <td>1.395064e+06</td>\n",
       "      <td>1.000000</td>\n",
       "    </tr>\n",
       "  </tbody>\n",
       "</table>\n",
       "</div>"
      ],
      "text/plain": [
       "              USERID        score          age       equity       balance  \\\n",
       "count    9999.000000  9999.000000  9973.000000  9999.000000  7.705000e+03   \n",
       "mean   171817.110611   848.688069    42.730773     2.627563  8.277943e+05   \n",
       "std     33709.070798    65.441981    12.175166     1.980931  1.980614e+06   \n",
       "min     94561.000000   642.000000    18.000000     0.000000  0.000000e+00   \n",
       "25%    142809.500000   802.000000    33.000000     0.000000  2.955542e+05   \n",
       "50%    172740.000000   853.000000    40.000000     3.000000  5.242722e+05   \n",
       "75%    201262.500000   900.000000    51.000000     4.000000  9.807058e+05   \n",
       "max    229145.000000  1000.000000    86.000000     9.000000  1.191136e+08   \n",
       "\n",
       "          products  credit_card  last_activity    EST_SALARY        churn  \n",
       "count  9999.000000  9999.000000    9999.000000  9.999000e+03  9999.000000  \n",
       "mean      1.870287     0.680468       0.523552  1.478792e+05     0.181918  \n",
       "std       0.792466     0.466319       0.499470  1.393901e+05     0.385796  \n",
       "min       1.000000     0.000000       0.000000  2.546300e+03     0.000000  \n",
       "25%       1.000000     0.000000       0.000000  7.525212e+04     0.000000  \n",
       "50%       2.000000     1.000000       1.000000  1.196615e+05     0.000000  \n",
       "75%       2.000000     1.000000       1.000000  1.745011e+05     0.000000  \n",
       "max       5.000000     1.000000       1.000000  1.395064e+06     1.000000  "
      ]
     },
     "execution_count": 7,
     "metadata": {},
     "output_type": "execute_result"
    }
   ],
   "source": [
    "data = data[data['products']!=0]\n",
    "data.describe()"
   ]
  },
  {
   "cell_type": "markdown",
   "metadata": {},
   "source": [
    "**Вывод:**\n",
    "- средний скорринговый балл: 849;\n",
    "- средний возраст клиентов составляет 43 года, самому молодому клиенту 18 лет, а старшему 86;\n",
    "- средний балл собственности составояет примерно 3, а максимальные 9;\n",
    "- максимальное число продуктов - 5, в среднем у клиентов банка 1-2 продукта;\n",
    "- большая часть клиентов имеет кредитную карту;\n",
    "- половина клиентной проявляли активность в течение 30 дней."
   ]
  },
  {
   "cell_type": "markdown",
   "metadata": {},
   "source": [
    "# Предобработка данных"
   ]
  },
  {
   "cell_type": "code",
   "execution_count": 8,
   "metadata": {},
   "outputs": [
    {
     "data": {
      "text/html": [
       "<div>\n",
       "<style scoped>\n",
       "    .dataframe tbody tr th:only-of-type {\n",
       "        vertical-align: middle;\n",
       "    }\n",
       "\n",
       "    .dataframe tbody tr th {\n",
       "        vertical-align: top;\n",
       "    }\n",
       "\n",
       "    .dataframe thead th {\n",
       "        text-align: right;\n",
       "    }\n",
       "</style>\n",
       "<table border=\"1\" class=\"dataframe\">\n",
       "  <thead>\n",
       "    <tr style=\"text-align: right;\">\n",
       "      <th></th>\n",
       "      <th>userid</th>\n",
       "      <th>score</th>\n",
       "      <th>city</th>\n",
       "      <th>gender</th>\n",
       "      <th>age</th>\n",
       "      <th>equity</th>\n",
       "      <th>balance</th>\n",
       "      <th>products</th>\n",
       "      <th>credit_card</th>\n",
       "      <th>last_activity</th>\n",
       "      <th>est_salary</th>\n",
       "      <th>churn</th>\n",
       "    </tr>\n",
       "  </thead>\n",
       "  <tbody>\n",
       "    <tr>\n",
       "      <th>0</th>\n",
       "      <td>183012</td>\n",
       "      <td>850</td>\n",
       "      <td>Рыбинск</td>\n",
       "      <td>Ж</td>\n",
       "      <td>25.0</td>\n",
       "      <td>1</td>\n",
       "      <td>59214.82</td>\n",
       "      <td>2</td>\n",
       "      <td>0</td>\n",
       "      <td>1</td>\n",
       "      <td>75719.14</td>\n",
       "      <td>1</td>\n",
       "    </tr>\n",
       "    <tr>\n",
       "      <th>1</th>\n",
       "      <td>146556</td>\n",
       "      <td>861</td>\n",
       "      <td>Рыбинск</td>\n",
       "      <td>Ж</td>\n",
       "      <td>37.0</td>\n",
       "      <td>5</td>\n",
       "      <td>850594.33</td>\n",
       "      <td>3</td>\n",
       "      <td>1</td>\n",
       "      <td>0</td>\n",
       "      <td>86621.77</td>\n",
       "      <td>0</td>\n",
       "    </tr>\n",
       "    <tr>\n",
       "      <th>2</th>\n",
       "      <td>120722</td>\n",
       "      <td>892</td>\n",
       "      <td>Рыбинск</td>\n",
       "      <td>Ж</td>\n",
       "      <td>30.0</td>\n",
       "      <td>0</td>\n",
       "      <td>NaN</td>\n",
       "      <td>1</td>\n",
       "      <td>1</td>\n",
       "      <td>1</td>\n",
       "      <td>107683.34</td>\n",
       "      <td>0</td>\n",
       "    </tr>\n",
       "    <tr>\n",
       "      <th>3</th>\n",
       "      <td>225363</td>\n",
       "      <td>866</td>\n",
       "      <td>Ярославль</td>\n",
       "      <td>Ж</td>\n",
       "      <td>51.0</td>\n",
       "      <td>5</td>\n",
       "      <td>1524746.26</td>\n",
       "      <td>2</td>\n",
       "      <td>0</td>\n",
       "      <td>1</td>\n",
       "      <td>174423.53</td>\n",
       "      <td>1</td>\n",
       "    </tr>\n",
       "    <tr>\n",
       "      <th>4</th>\n",
       "      <td>157978</td>\n",
       "      <td>730</td>\n",
       "      <td>Ярославль</td>\n",
       "      <td>М</td>\n",
       "      <td>34.0</td>\n",
       "      <td>5</td>\n",
       "      <td>174.00</td>\n",
       "      <td>1</td>\n",
       "      <td>1</td>\n",
       "      <td>0</td>\n",
       "      <td>67353.16</td>\n",
       "      <td>1</td>\n",
       "    </tr>\n",
       "  </tbody>\n",
       "</table>\n",
       "</div>"
      ],
      "text/plain": [
       "   userid  score       city gender   age  equity     balance  products  \\\n",
       "0  183012    850    Рыбинск      Ж  25.0       1    59214.82         2   \n",
       "1  146556    861    Рыбинск      Ж  37.0       5   850594.33         3   \n",
       "2  120722    892    Рыбинск      Ж  30.0       0         NaN         1   \n",
       "3  225363    866  Ярославль      Ж  51.0       5  1524746.26         2   \n",
       "4  157978    730  Ярославль      М  34.0       5      174.00         1   \n",
       "\n",
       "   credit_card  last_activity  est_salary  churn  \n",
       "0            0              1    75719.14      1  \n",
       "1            1              0    86621.77      0  \n",
       "2            1              1   107683.34      0  \n",
       "3            0              1   174423.53      1  \n",
       "4            1              0    67353.16      1  "
      ]
     },
     "execution_count": 8,
     "metadata": {},
     "output_type": "execute_result"
    }
   ],
   "source": [
    "#приведем название столбцов к нижнему регистру\n",
    "data.columns = data.columns.str.lower()\n",
    "data.head()"
   ]
  },
  {
   "cell_type": "code",
   "execution_count": 9,
   "metadata": {},
   "outputs": [
    {
     "data": {
      "text/plain": [
       "userid              0\n",
       "score               0\n",
       "city                0\n",
       "gender              0\n",
       "age                26\n",
       "equity              0\n",
       "balance          2294\n",
       "products            0\n",
       "credit_card         0\n",
       "last_activity       0\n",
       "est_salary          0\n",
       "churn               0\n",
       "dtype: int64"
      ]
     },
     "execution_count": 9,
     "metadata": {},
     "output_type": "execute_result"
    }
   ],
   "source": [
    "#посмотрим на наличие пропусков\n",
    "data.isna().sum()"
   ]
  },
  {
   "cell_type": "code",
   "execution_count": 10,
   "metadata": {},
   "outputs": [
    {
     "data": {
      "text/plain": [
       "0"
      ]
     },
     "execution_count": 10,
     "metadata": {},
     "output_type": "execute_result"
    }
   ],
   "source": [
    "#проверим наличие явных дубликатов\n",
    "data.duplicated().sum()"
   ]
  },
  {
   "cell_type": "code",
   "execution_count": 11,
   "metadata": {},
   "outputs": [
    {
     "data": {
      "text/plain": [
       "0"
      ]
     },
     "execution_count": 11,
     "metadata": {},
     "output_type": "execute_result"
    }
   ],
   "source": [
    "#проверим наличие неявных дубликатов\n",
    "data.duplicated(subset=['userid', 'city']).sum()"
   ]
  },
  {
   "cell_type": "code",
   "execution_count": 12,
   "metadata": {},
   "outputs": [
    {
     "data": {
      "text/plain": [
       "73"
      ]
     },
     "execution_count": 12,
     "metadata": {},
     "output_type": "execute_result"
    }
   ],
   "source": [
    "data['userid'].duplicated().sum()"
   ]
  },
  {
   "cell_type": "markdown",
   "metadata": {},
   "source": [
    "При анализе дибликатов в столбце 'userid' было выявлено 73 повторения, но  так как банки находится в 3 городах, а при вывода дибликатов по столбцам 'userid' и 'city', они не были обнаружены, можно сделать вывод о том, что либо этот клиенты из разных городов, либо это одни и те же люди, просто открывали продукты в разных городах."
   ]
  },
  {
   "cell_type": "markdown",
   "metadata": {},
   "source": [
    "Как мы заметили ранее, в столбцах \"возраст\" и \"баланс\" есть пропуски, но пока нет смысла что-то с ними делать, кроме как заменить пропуски в столбце \"баланс\" на 0, возможно, в процессе исследования придется от них избавиться, чтобы не искажать результаты анализа. Явыне и неявные дубликаты необнаружены.\n",
    "\n",
    "Посмотрим, как пропуски в столбцах зависят от остальных данных."
   ]
  },
  {
   "cell_type": "code",
   "execution_count": 13,
   "metadata": {},
   "outputs": [
    {
     "name": "stdout",
     "output_type": "stream",
     "text": [
      "city\n",
      "Ростов        1\n",
      "Рыбинск      12\n",
      "Ярославль    13\n",
      "Name: age, dtype: int64\n",
      "_____________________\n",
      "gender\n",
      "Ж    12\n",
      "М    14\n",
      "Name: age, dtype: int64\n",
      "_____________________\n",
      "products\n",
      "1    18\n",
      "2     7\n",
      "3     1\n",
      "4     0\n",
      "5     0\n",
      "Name: age, dtype: int64\n",
      "_____________________\n",
      "credit_card\n",
      "0     6\n",
      "1    20\n",
      "Name: age, dtype: int64\n",
      "_____________________\n",
      "last_activity\n",
      "0     6\n",
      "1    20\n",
      "Name: age, dtype: int64\n",
      "_____________________\n",
      "churn\n",
      "0    25\n",
      "1     1\n",
      "Name: age, dtype: int64\n",
      "_____________________\n"
     ]
    }
   ],
   "source": [
    "# Функция для просмотра взаимосвязей\n",
    "for i in ['city', 'gender', 'products', 'credit_card', 'last_activity', 'churn']:\n",
    "    print(data.groupby(i)['age'].apply(lambda x: x.isna().sum()))\n",
    "    print('_____________________')\n"
   ]
  },
  {
   "cell_type": "markdown",
   "metadata": {},
   "source": [
    "Всего пропусков по возрасты - 26, 25 из которых оставшиеся клиенты, в основном не из Ростова, возможно, это либо неправильно заполеннные анкеты клиентов, либо сбор в данных, но в любом случаей пропуски меньше 1%, поэтому анализ они не будут искажать.\n",
    "\n",
    "Теперь посмотрим, есть ли какие-то взаимосвязи с пропусками в столбце баланса."
   ]
  },
  {
   "cell_type": "code",
   "execution_count": 14,
   "metadata": {},
   "outputs": [
    {
     "name": "stdout",
     "output_type": "stream",
     "text": [
      "city\n",
      "Ростов        235\n",
      "Рыбинск       592\n",
      "Ярославль    1467\n",
      "Name: balance, dtype: int64\n",
      "_____________________\n",
      "gender\n",
      "Ж    1012\n",
      "М    1282\n",
      "Name: balance, dtype: int64\n",
      "_____________________\n",
      "products\n",
      "1    1950\n",
      "2     315\n",
      "3      29\n",
      "4       0\n",
      "5       0\n",
      "Name: balance, dtype: int64\n",
      "_____________________\n",
      "credit_card\n",
      "0     422\n",
      "1    1872\n",
      "Name: balance, dtype: int64\n",
      "_____________________\n",
      "last_activity\n",
      "0    1033\n",
      "1    1261\n",
      "Name: balance, dtype: int64\n",
      "_____________________\n",
      "churn\n",
      "0    2282\n",
      "1      12\n",
      "Name: balance, dtype: int64\n",
      "_____________________\n"
     ]
    }
   ],
   "source": [
    "for i in ['city', 'gender', 'products', 'credit_card', 'last_activity', 'churn']:\n",
    "    print(data.groupby(i)['balance'].apply(lambda x: x.isna().sum()))\n",
    "    print('_____________________')"
   ]
  },
  {
   "cell_type": "markdown",
   "metadata": {},
   "source": [
    "Всего пропусков в столбце баланса было выявлено 2294, что составляет 23% от всех данных. Больше всего пропусков у клиентов из города Ярославль, с одним продуктом, кредитной картой, которые не собираются уходить, возможно, что опять это проблемы при выгрузке данных, либо они скрыты по определенным причинам, но в любом случае почти четверть данных не целесообрано удалять, поэтому можно их занулить."
   ]
  },
  {
   "cell_type": "code",
   "execution_count": 15,
   "metadata": {},
   "outputs": [
    {
     "name": "stderr",
     "output_type": "stream",
     "text": [
      "/tmp/ipykernel_128/2662117181.py:1: SettingWithCopyWarning: \n",
      "A value is trying to be set on a copy of a slice from a DataFrame.\n",
      "Try using .loc[row_indexer,col_indexer] = value instead\n",
      "\n",
      "See the caveats in the documentation: https://pandas.pydata.org/pandas-docs/stable/user_guide/indexing.html#returning-a-view-versus-a-copy\n",
      "  data['balance'] = data['balance'].fillna(0)\n"
     ]
    },
    {
     "data": {
      "text/plain": [
       "userid            0\n",
       "score             0\n",
       "city              0\n",
       "gender            0\n",
       "age              26\n",
       "equity            0\n",
       "balance           0\n",
       "products          0\n",
       "credit_card       0\n",
       "last_activity     0\n",
       "est_salary        0\n",
       "churn             0\n",
       "dtype: int64"
      ]
     },
     "execution_count": 15,
     "metadata": {},
     "output_type": "execute_result"
    }
   ],
   "source": [
    "data['balance'] = data['balance'].fillna(0)\n",
    "data.isna().sum()"
   ]
  },
  {
   "cell_type": "code",
   "execution_count": 16,
   "metadata": {
    "scrolled": true
   },
   "outputs": [
    {
     "data": {
      "text/plain": [
       "array(['Рыбинск', 'Ярославль', 'Ростов'], dtype=object)"
      ]
     },
     "execution_count": 16,
     "metadata": {},
     "output_type": "execute_result"
    }
   ],
   "source": [
    "#посмотрим на уникальные значения столбца city\n",
    "data['city'].unique()"
   ]
  },
  {
   "cell_type": "markdown",
   "metadata": {},
   "source": [
    "Итак, у нас есть три города: Рыбинск, Ярославль и Ростов Великий."
   ]
  },
  {
   "cell_type": "code",
   "execution_count": 17,
   "metadata": {
    "scrolled": true
   },
   "outputs": [
    {
     "name": "stderr",
     "output_type": "stream",
     "text": [
      "/tmp/ipykernel_128/576170672.py:4: SettingWithCopyWarning: \n",
      "A value is trying to be set on a copy of a slice from a DataFrame.\n",
      "Try using .loc[row_indexer,col_indexer] = value instead\n",
      "\n",
      "See the caveats in the documentation: https://pandas.pydata.org/pandas-docs/stable/user_guide/indexing.html#returning-a-view-versus-a-copy\n",
      "  data['city_copy']=data['city']\n",
      "/tmp/ipykernel_128/576170672.py:5: SettingWithCopyWarning: \n",
      "A value is trying to be set on a copy of a slice from a DataFrame.\n",
      "Try using .loc[row_indexer,col_indexer] = value instead\n",
      "\n",
      "See the caveats in the documentation: https://pandas.pydata.org/pandas-docs/stable/user_guide/indexing.html#returning-a-view-versus-a-copy\n",
      "  data['gender_copy']=data['gender']\n"
     ]
    },
    {
     "data": {
      "text/html": [
       "<div>\n",
       "<style scoped>\n",
       "    .dataframe tbody tr th:only-of-type {\n",
       "        vertical-align: middle;\n",
       "    }\n",
       "\n",
       "    .dataframe tbody tr th {\n",
       "        vertical-align: top;\n",
       "    }\n",
       "\n",
       "    .dataframe thead th {\n",
       "        text-align: right;\n",
       "    }\n",
       "</style>\n",
       "<table border=\"1\" class=\"dataframe\">\n",
       "  <thead>\n",
       "    <tr style=\"text-align: right;\">\n",
       "      <th></th>\n",
       "      <th>userid</th>\n",
       "      <th>score</th>\n",
       "      <th>city</th>\n",
       "      <th>gender</th>\n",
       "      <th>age</th>\n",
       "      <th>equity</th>\n",
       "      <th>balance</th>\n",
       "      <th>products</th>\n",
       "      <th>credit_card</th>\n",
       "      <th>last_activity</th>\n",
       "      <th>est_salary</th>\n",
       "      <th>churn</th>\n",
       "      <th>city_copy_Ростов</th>\n",
       "      <th>city_copy_Рыбинск</th>\n",
       "      <th>city_copy_Ярославль</th>\n",
       "      <th>gender_copy_Ж</th>\n",
       "      <th>gender_copy_М</th>\n",
       "    </tr>\n",
       "  </thead>\n",
       "  <tbody>\n",
       "    <tr>\n",
       "      <th>0</th>\n",
       "      <td>183012</td>\n",
       "      <td>850</td>\n",
       "      <td>Рыбинск</td>\n",
       "      <td>Ж</td>\n",
       "      <td>25.0</td>\n",
       "      <td>1</td>\n",
       "      <td>59214.82</td>\n",
       "      <td>2</td>\n",
       "      <td>0</td>\n",
       "      <td>1</td>\n",
       "      <td>75719.14</td>\n",
       "      <td>1</td>\n",
       "      <td>0</td>\n",
       "      <td>1</td>\n",
       "      <td>0</td>\n",
       "      <td>1</td>\n",
       "      <td>0</td>\n",
       "    </tr>\n",
       "    <tr>\n",
       "      <th>1</th>\n",
       "      <td>146556</td>\n",
       "      <td>861</td>\n",
       "      <td>Рыбинск</td>\n",
       "      <td>Ж</td>\n",
       "      <td>37.0</td>\n",
       "      <td>5</td>\n",
       "      <td>850594.33</td>\n",
       "      <td>3</td>\n",
       "      <td>1</td>\n",
       "      <td>0</td>\n",
       "      <td>86621.77</td>\n",
       "      <td>0</td>\n",
       "      <td>0</td>\n",
       "      <td>1</td>\n",
       "      <td>0</td>\n",
       "      <td>1</td>\n",
       "      <td>0</td>\n",
       "    </tr>\n",
       "    <tr>\n",
       "      <th>2</th>\n",
       "      <td>120722</td>\n",
       "      <td>892</td>\n",
       "      <td>Рыбинск</td>\n",
       "      <td>Ж</td>\n",
       "      <td>30.0</td>\n",
       "      <td>0</td>\n",
       "      <td>0.00</td>\n",
       "      <td>1</td>\n",
       "      <td>1</td>\n",
       "      <td>1</td>\n",
       "      <td>107683.34</td>\n",
       "      <td>0</td>\n",
       "      <td>0</td>\n",
       "      <td>1</td>\n",
       "      <td>0</td>\n",
       "      <td>1</td>\n",
       "      <td>0</td>\n",
       "    </tr>\n",
       "    <tr>\n",
       "      <th>3</th>\n",
       "      <td>225363</td>\n",
       "      <td>866</td>\n",
       "      <td>Ярославль</td>\n",
       "      <td>Ж</td>\n",
       "      <td>51.0</td>\n",
       "      <td>5</td>\n",
       "      <td>1524746.26</td>\n",
       "      <td>2</td>\n",
       "      <td>0</td>\n",
       "      <td>1</td>\n",
       "      <td>174423.53</td>\n",
       "      <td>1</td>\n",
       "      <td>0</td>\n",
       "      <td>0</td>\n",
       "      <td>1</td>\n",
       "      <td>1</td>\n",
       "      <td>0</td>\n",
       "    </tr>\n",
       "    <tr>\n",
       "      <th>4</th>\n",
       "      <td>157978</td>\n",
       "      <td>730</td>\n",
       "      <td>Ярославль</td>\n",
       "      <td>М</td>\n",
       "      <td>34.0</td>\n",
       "      <td>5</td>\n",
       "      <td>174.00</td>\n",
       "      <td>1</td>\n",
       "      <td>1</td>\n",
       "      <td>0</td>\n",
       "      <td>67353.16</td>\n",
       "      <td>1</td>\n",
       "      <td>0</td>\n",
       "      <td>0</td>\n",
       "      <td>1</td>\n",
       "      <td>0</td>\n",
       "      <td>1</td>\n",
       "    </tr>\n",
       "  </tbody>\n",
       "</table>\n",
       "</div>"
      ],
      "text/plain": [
       "   userid  score       city gender   age  equity     balance  products  \\\n",
       "0  183012    850    Рыбинск      Ж  25.0       1    59214.82         2   \n",
       "1  146556    861    Рыбинск      Ж  37.0       5   850594.33         3   \n",
       "2  120722    892    Рыбинск      Ж  30.0       0        0.00         1   \n",
       "3  225363    866  Ярославль      Ж  51.0       5  1524746.26         2   \n",
       "4  157978    730  Ярославль      М  34.0       5      174.00         1   \n",
       "\n",
       "   credit_card  last_activity  est_salary  churn  city_copy_Ростов  \\\n",
       "0            0              1    75719.14      1                 0   \n",
       "1            1              0    86621.77      0                 0   \n",
       "2            1              1   107683.34      0                 0   \n",
       "3            0              1   174423.53      1                 0   \n",
       "4            1              0    67353.16      1                 0   \n",
       "\n",
       "   city_copy_Рыбинск  city_copy_Ярославль  gender_copy_Ж  gender_copy_М  \n",
       "0                  1                    0              1              0  \n",
       "1                  1                    0              1              0  \n",
       "2                  1                    0              1              0  \n",
       "3                  0                    1              1              0  \n",
       "4                  0                    1              0              1  "
      ]
     },
     "execution_count": 17,
     "metadata": {},
     "output_type": "execute_result"
    }
   ],
   "source": [
    "#закодируем значения нескольких столбцов\n",
    "\n",
    "#созданим копию столбов \n",
    "data['city_copy']=data['city']\n",
    "data['gender_copy']=data['gender']\n",
    "\n",
    "data = pd.get_dummies(data, columns=['city_copy', 'gender_copy'])\n",
    "\n",
    "data.head()"
   ]
  },
  {
   "cell_type": "code",
   "execution_count": 18,
   "metadata": {
    "scrolled": true
   },
   "outputs": [
    {
     "data": {
      "text/html": [
       "<div>\n",
       "<style scoped>\n",
       "    .dataframe tbody tr th:only-of-type {\n",
       "        vertical-align: middle;\n",
       "    }\n",
       "\n",
       "    .dataframe tbody tr th {\n",
       "        vertical-align: top;\n",
       "    }\n",
       "\n",
       "    .dataframe thead th {\n",
       "        text-align: right;\n",
       "    }\n",
       "</style>\n",
       "<table border=\"1\" class=\"dataframe\">\n",
       "  <thead>\n",
       "    <tr style=\"text-align: right;\">\n",
       "      <th></th>\n",
       "      <th>userid</th>\n",
       "      <th>score</th>\n",
       "      <th>city</th>\n",
       "      <th>gender</th>\n",
       "      <th>age</th>\n",
       "      <th>equity</th>\n",
       "      <th>balance</th>\n",
       "      <th>products</th>\n",
       "      <th>credit_card</th>\n",
       "      <th>last_activity</th>\n",
       "      <th>est_salary</th>\n",
       "      <th>churn</th>\n",
       "      <th>city_Rostov</th>\n",
       "      <th>city_Rybinsk</th>\n",
       "      <th>city_Yaroslavl</th>\n",
       "      <th>female</th>\n",
       "      <th>male</th>\n",
       "    </tr>\n",
       "  </thead>\n",
       "  <tbody>\n",
       "    <tr>\n",
       "      <th>0</th>\n",
       "      <td>183012</td>\n",
       "      <td>850</td>\n",
       "      <td>Рыбинск</td>\n",
       "      <td>Ж</td>\n",
       "      <td>25.0</td>\n",
       "      <td>1</td>\n",
       "      <td>59214.82</td>\n",
       "      <td>2</td>\n",
       "      <td>0</td>\n",
       "      <td>1</td>\n",
       "      <td>75719.14</td>\n",
       "      <td>1</td>\n",
       "      <td>0</td>\n",
       "      <td>1</td>\n",
       "      <td>0</td>\n",
       "      <td>1</td>\n",
       "      <td>0</td>\n",
       "    </tr>\n",
       "    <tr>\n",
       "      <th>1</th>\n",
       "      <td>146556</td>\n",
       "      <td>861</td>\n",
       "      <td>Рыбинск</td>\n",
       "      <td>Ж</td>\n",
       "      <td>37.0</td>\n",
       "      <td>5</td>\n",
       "      <td>850594.33</td>\n",
       "      <td>3</td>\n",
       "      <td>1</td>\n",
       "      <td>0</td>\n",
       "      <td>86621.77</td>\n",
       "      <td>0</td>\n",
       "      <td>0</td>\n",
       "      <td>1</td>\n",
       "      <td>0</td>\n",
       "      <td>1</td>\n",
       "      <td>0</td>\n",
       "    </tr>\n",
       "    <tr>\n",
       "      <th>2</th>\n",
       "      <td>120722</td>\n",
       "      <td>892</td>\n",
       "      <td>Рыбинск</td>\n",
       "      <td>Ж</td>\n",
       "      <td>30.0</td>\n",
       "      <td>0</td>\n",
       "      <td>0.00</td>\n",
       "      <td>1</td>\n",
       "      <td>1</td>\n",
       "      <td>1</td>\n",
       "      <td>107683.34</td>\n",
       "      <td>0</td>\n",
       "      <td>0</td>\n",
       "      <td>1</td>\n",
       "      <td>0</td>\n",
       "      <td>1</td>\n",
       "      <td>0</td>\n",
       "    </tr>\n",
       "    <tr>\n",
       "      <th>3</th>\n",
       "      <td>225363</td>\n",
       "      <td>866</td>\n",
       "      <td>Ярославль</td>\n",
       "      <td>Ж</td>\n",
       "      <td>51.0</td>\n",
       "      <td>5</td>\n",
       "      <td>1524746.26</td>\n",
       "      <td>2</td>\n",
       "      <td>0</td>\n",
       "      <td>1</td>\n",
       "      <td>174423.53</td>\n",
       "      <td>1</td>\n",
       "      <td>0</td>\n",
       "      <td>0</td>\n",
       "      <td>1</td>\n",
       "      <td>1</td>\n",
       "      <td>0</td>\n",
       "    </tr>\n",
       "    <tr>\n",
       "      <th>4</th>\n",
       "      <td>157978</td>\n",
       "      <td>730</td>\n",
       "      <td>Ярославль</td>\n",
       "      <td>М</td>\n",
       "      <td>34.0</td>\n",
       "      <td>5</td>\n",
       "      <td>174.00</td>\n",
       "      <td>1</td>\n",
       "      <td>1</td>\n",
       "      <td>0</td>\n",
       "      <td>67353.16</td>\n",
       "      <td>1</td>\n",
       "      <td>0</td>\n",
       "      <td>0</td>\n",
       "      <td>1</td>\n",
       "      <td>0</td>\n",
       "      <td>1</td>\n",
       "    </tr>\n",
       "  </tbody>\n",
       "</table>\n",
       "</div>"
      ],
      "text/plain": [
       "   userid  score       city gender   age  equity     balance  products  \\\n",
       "0  183012    850    Рыбинск      Ж  25.0       1    59214.82         2   \n",
       "1  146556    861    Рыбинск      Ж  37.0       5   850594.33         3   \n",
       "2  120722    892    Рыбинск      Ж  30.0       0        0.00         1   \n",
       "3  225363    866  Ярославль      Ж  51.0       5  1524746.26         2   \n",
       "4  157978    730  Ярославль      М  34.0       5      174.00         1   \n",
       "\n",
       "   credit_card  last_activity  est_salary  churn  city_Rostov  city_Rybinsk  \\\n",
       "0            0              1    75719.14      1            0             1   \n",
       "1            1              0    86621.77      0            0             1   \n",
       "2            1              1   107683.34      0            0             1   \n",
       "3            0              1   174423.53      1            0             0   \n",
       "4            1              0    67353.16      1            0             0   \n",
       "\n",
       "   city_Yaroslavl  female  male  \n",
       "0               0       1     0  \n",
       "1               0       1     0  \n",
       "2               0       1     0  \n",
       "3               1       1     0  \n",
       "4               1       0     1  "
      ]
     },
     "execution_count": 18,
     "metadata": {},
     "output_type": "execute_result"
    }
   ],
   "source": [
    "data = data.rename(columns = ({'city_copy_Ростов':'city_Rostov', 'city_copy_Рыбинск':'city_Rybinsk','city_copy_Ярославль':'city_Yaroslavl', 'gender_copy_Ж':'female', 'gender_copy_М':'male'}))\n",
    "data.head()"
   ]
  },
  {
   "cell_type": "markdown",
   "metadata": {},
   "source": [
    "**Вывод:**\n",
    "\n",
    "- к нижнему регистру были приведены все названия столбцов;\n",
    "- явных дубликатов не было обнаружено, но среди неявных было получено 73 дибликата по стообце номера пользователя, но при выводе дубликатов не только по номеру пользователя, но и по городу, было определено их отстутствие, соотсветвенно, можно сделать вывод, что это какой-то сбой при заполнения анкет клиентов, возможно люди просто из разных городов, но с одинаковым ФИО и возрастом;\n",
    "- пропуски были обнаружены в двух столбцах: возраст и баланс, но никаких закономерностей не было обнаружено, удалять строки не целесообразно, потому что проспуски в столбце возраст составляли менее 1%, что не повлияет на анализ, а в столюбце баланс почти четверь, что могло бы сильно исказить результат анализа.\n",
    "- для дальнейшего исследования, были закодированы 2 столбца \"пол\" и \"город\".\n"
   ]
  },
  {
   "cell_type": "markdown",
   "metadata": {},
   "source": [
    "# Исследовательский анализ данных"
   ]
  },
  {
   "cell_type": "markdown",
   "metadata": {},
   "source": [
    "**Необходимо провести анализ оттока клинетов в разрезе всех параметров**"
   ]
  },
  {
   "cell_type": "markdown",
   "metadata": {},
   "source": [
    "Для каждого из параметровм рассчитаем сумму, количество и процент оттока клинетов, создавая сводные таблицы, построим визуализацию и сформулируем выводы. \n",
    "\n",
    "Посчитаем средний уровень оттока, котой в дальнейшем отобразим на графиках."
   ]
  },
  {
   "cell_type": "code",
   "execution_count": 19,
   "metadata": {},
   "outputs": [],
   "source": [
    "for column in ['city', 'gender', 'equity', 'products', 'credit_card', 'last_activity', 'churn']:\n",
    "    churn_rate = int((data.query('churn == 1').groupby(column).agg({'churn':'count'})).mean())/100"
   ]
  },
  {
   "cell_type": "code",
   "execution_count": 20,
   "metadata": {},
   "outputs": [
    {
     "name": "stdout",
     "output_type": "stream",
     "text": [
      "18.19 %\n"
     ]
    }
   ],
   "source": [
    "print (churn_rate, '%')"
   ]
  },
  {
   "cell_type": "markdown",
   "metadata": {},
   "source": [
    "Параметр_1: **score** - скоринговый балл отточного клиента."
   ]
  },
  {
   "cell_type": "code",
   "execution_count": 21,
   "metadata": {},
   "outputs": [
    {
     "data": {
      "text/html": [
       "<div>\n",
       "<style scoped>\n",
       "    .dataframe tbody tr th:only-of-type {\n",
       "        vertical-align: middle;\n",
       "    }\n",
       "\n",
       "    .dataframe tbody tr th {\n",
       "        vertical-align: top;\n",
       "    }\n",
       "\n",
       "    .dataframe thead th {\n",
       "        text-align: right;\n",
       "    }\n",
       "</style>\n",
       "<table border=\"1\" class=\"dataframe\">\n",
       "  <thead>\n",
       "    <tr style=\"text-align: right;\">\n",
       "      <th></th>\n",
       "      <th>sum</th>\n",
       "      <th>count</th>\n",
       "      <th>perc</th>\n",
       "    </tr>\n",
       "    <tr>\n",
       "      <th>score</th>\n",
       "      <th></th>\n",
       "      <th></th>\n",
       "      <th></th>\n",
       "    </tr>\n",
       "  </thead>\n",
       "  <tbody>\n",
       "    <tr>\n",
       "      <th>706</th>\n",
       "      <td>1</td>\n",
       "      <td>11</td>\n",
       "      <td>9.090909</td>\n",
       "    </tr>\n",
       "    <tr>\n",
       "      <th>707</th>\n",
       "      <td>1</td>\n",
       "      <td>6</td>\n",
       "      <td>16.666667</td>\n",
       "    </tr>\n",
       "    <tr>\n",
       "      <th>727</th>\n",
       "      <td>1</td>\n",
       "      <td>12</td>\n",
       "      <td>8.333333</td>\n",
       "    </tr>\n",
       "    <tr>\n",
       "      <th>728</th>\n",
       "      <td>1</td>\n",
       "      <td>9</td>\n",
       "      <td>11.111111</td>\n",
       "    </tr>\n",
       "    <tr>\n",
       "      <th>730</th>\n",
       "      <td>1</td>\n",
       "      <td>8</td>\n",
       "      <td>12.500000</td>\n",
       "    </tr>\n",
       "    <tr>\n",
       "      <th>733</th>\n",
       "      <td>1</td>\n",
       "      <td>14</td>\n",
       "      <td>7.142857</td>\n",
       "    </tr>\n",
       "    <tr>\n",
       "      <th>736</th>\n",
       "      <td>1</td>\n",
       "      <td>8</td>\n",
       "      <td>12.500000</td>\n",
       "    </tr>\n",
       "    <tr>\n",
       "      <th>737</th>\n",
       "      <td>1</td>\n",
       "      <td>13</td>\n",
       "      <td>7.692308</td>\n",
       "    </tr>\n",
       "    <tr>\n",
       "      <th>739</th>\n",
       "      <td>1</td>\n",
       "      <td>15</td>\n",
       "      <td>6.666667</td>\n",
       "    </tr>\n",
       "    <tr>\n",
       "      <th>740</th>\n",
       "      <td>1</td>\n",
       "      <td>11</td>\n",
       "      <td>9.090909</td>\n",
       "    </tr>\n",
       "    <tr>\n",
       "      <th>743</th>\n",
       "      <td>1</td>\n",
       "      <td>19</td>\n",
       "      <td>5.263158</td>\n",
       "    </tr>\n",
       "    <tr>\n",
       "      <th>745</th>\n",
       "      <td>1</td>\n",
       "      <td>13</td>\n",
       "      <td>7.692308</td>\n",
       "    </tr>\n",
       "    <tr>\n",
       "      <th>747</th>\n",
       "      <td>1</td>\n",
       "      <td>15</td>\n",
       "      <td>6.666667</td>\n",
       "    </tr>\n",
       "    <tr>\n",
       "      <th>749</th>\n",
       "      <td>1</td>\n",
       "      <td>11</td>\n",
       "      <td>9.090909</td>\n",
       "    </tr>\n",
       "    <tr>\n",
       "      <th>750</th>\n",
       "      <td>1</td>\n",
       "      <td>12</td>\n",
       "      <td>8.333333</td>\n",
       "    </tr>\n",
       "    <tr>\n",
       "      <th>754</th>\n",
       "      <td>1</td>\n",
       "      <td>23</td>\n",
       "      <td>4.347826</td>\n",
       "    </tr>\n",
       "    <tr>\n",
       "      <th>756</th>\n",
       "      <td>1</td>\n",
       "      <td>18</td>\n",
       "      <td>5.555556</td>\n",
       "    </tr>\n",
       "    <tr>\n",
       "      <th>760</th>\n",
       "      <td>1</td>\n",
       "      <td>24</td>\n",
       "      <td>4.166667</td>\n",
       "    </tr>\n",
       "    <tr>\n",
       "      <th>764</th>\n",
       "      <td>1</td>\n",
       "      <td>27</td>\n",
       "      <td>3.703704</td>\n",
       "    </tr>\n",
       "    <tr>\n",
       "      <th>769</th>\n",
       "      <td>1</td>\n",
       "      <td>34</td>\n",
       "      <td>2.941176</td>\n",
       "    </tr>\n",
       "    <tr>\n",
       "      <th>770</th>\n",
       "      <td>1</td>\n",
       "      <td>24</td>\n",
       "      <td>4.166667</td>\n",
       "    </tr>\n",
       "    <tr>\n",
       "      <th>771</th>\n",
       "      <td>1</td>\n",
       "      <td>31</td>\n",
       "      <td>3.225806</td>\n",
       "    </tr>\n",
       "    <tr>\n",
       "      <th>945</th>\n",
       "      <td>1</td>\n",
       "      <td>17</td>\n",
       "      <td>5.882353</td>\n",
       "    </tr>\n",
       "    <tr>\n",
       "      <th>947</th>\n",
       "      <td>1</td>\n",
       "      <td>19</td>\n",
       "      <td>5.263158</td>\n",
       "    </tr>\n",
       "    <tr>\n",
       "      <th>955</th>\n",
       "      <td>1</td>\n",
       "      <td>12</td>\n",
       "      <td>8.333333</td>\n",
       "    </tr>\n",
       "    <tr>\n",
       "      <th>958</th>\n",
       "      <td>1</td>\n",
       "      <td>13</td>\n",
       "      <td>7.692308</td>\n",
       "    </tr>\n",
       "    <tr>\n",
       "      <th>963</th>\n",
       "      <td>1</td>\n",
       "      <td>10</td>\n",
       "      <td>10.000000</td>\n",
       "    </tr>\n",
       "    <tr>\n",
       "      <th>970</th>\n",
       "      <td>1</td>\n",
       "      <td>4</td>\n",
       "      <td>25.000000</td>\n",
       "    </tr>\n",
       "    <tr>\n",
       "      <th>972</th>\n",
       "      <td>1</td>\n",
       "      <td>8</td>\n",
       "      <td>12.500000</td>\n",
       "    </tr>\n",
       "    <tr>\n",
       "      <th>974</th>\n",
       "      <td>1</td>\n",
       "      <td>5</td>\n",
       "      <td>20.000000</td>\n",
       "    </tr>\n",
       "    <tr>\n",
       "      <th>980</th>\n",
       "      <td>1</td>\n",
       "      <td>4</td>\n",
       "      <td>25.000000</td>\n",
       "    </tr>\n",
       "    <tr>\n",
       "      <th>984</th>\n",
       "      <td>1</td>\n",
       "      <td>3</td>\n",
       "      <td>33.333333</td>\n",
       "    </tr>\n",
       "    <tr>\n",
       "      <th>988</th>\n",
       "      <td>1</td>\n",
       "      <td>6</td>\n",
       "      <td>16.666667</td>\n",
       "    </tr>\n",
       "    <tr>\n",
       "      <th>990</th>\n",
       "      <td>1</td>\n",
       "      <td>7</td>\n",
       "      <td>14.285714</td>\n",
       "    </tr>\n",
       "    <tr>\n",
       "      <th>999</th>\n",
       "      <td>1</td>\n",
       "      <td>2</td>\n",
       "      <td>50.000000</td>\n",
       "    </tr>\n",
       "    <tr>\n",
       "      <th>1000</th>\n",
       "      <td>1</td>\n",
       "      <td>6</td>\n",
       "      <td>16.666667</td>\n",
       "    </tr>\n",
       "  </tbody>\n",
       "</table>\n",
       "</div>"
      ],
      "text/plain": [
       "       sum  count       perc\n",
       "score                       \n",
       "706      1     11   9.090909\n",
       "707      1      6  16.666667\n",
       "727      1     12   8.333333\n",
       "728      1      9  11.111111\n",
       "730      1      8  12.500000\n",
       "733      1     14   7.142857\n",
       "736      1      8  12.500000\n",
       "737      1     13   7.692308\n",
       "739      1     15   6.666667\n",
       "740      1     11   9.090909\n",
       "743      1     19   5.263158\n",
       "745      1     13   7.692308\n",
       "747      1     15   6.666667\n",
       "749      1     11   9.090909\n",
       "750      1     12   8.333333\n",
       "754      1     23   4.347826\n",
       "756      1     18   5.555556\n",
       "760      1     24   4.166667\n",
       "764      1     27   3.703704\n",
       "769      1     34   2.941176\n",
       "770      1     24   4.166667\n",
       "771      1     31   3.225806\n",
       "945      1     17   5.882353\n",
       "947      1     19   5.263158\n",
       "955      1     12   8.333333\n",
       "958      1     13   7.692308\n",
       "963      1     10  10.000000\n",
       "970      1      4  25.000000\n",
       "972      1      8  12.500000\n",
       "974      1      5  20.000000\n",
       "980      1      4  25.000000\n",
       "984      1      3  33.333333\n",
       "988      1      6  16.666667\n",
       "990      1      7  14.285714\n",
       "999      1      2  50.000000\n",
       "1000     1      6  16.666667"
      ]
     },
     "execution_count": 21,
     "metadata": {},
     "output_type": "execute_result"
    }
   ],
   "source": [
    "score_churn = data.pivot_table (index = 'score', values = 'churn', aggfunc =['sum', 'count'])\n",
    "score_churn.columns = score_churn.columns.droplevel(level=1)\n",
    "score_churn ['perc'] = score_churn['sum']/score_churn['count']*100\n",
    "score_churn = score_churn [score_churn['sum']==1]\n",
    "score_churn"
   ]
  },
  {
   "cell_type": "code",
   "execution_count": 22,
   "metadata": {
    "scrolled": false
   },
   "outputs": [
    {
     "data": {
      "image/png": "[encoded data removed]",
      "text/plain": [
       "<Figure size 1080x720 with 1 Axes>"
      ]
     },
     "metadata": {
      "needs_background": "light"
     },
     "output_type": "display_data"
    }
   ],
   "source": [
    "score_churn['perc'].plot (kind = 'bar', figsize = (15,10), color = '#fcb4d5')\n",
    "plt.title ('Процент ушедших клиентов в разбивке по скоринговому рейтингу')\n",
    "plt.axhline(churn_rate, label='Уровень оттока', linestyle='--')\n",
    "plt.xlabel ('Скоринговый рейтинг')\n",
    "plt.ylabel ('Процент отточных клиентов')\n",
    "plt.show()"
   ]
  },
  {
   "cell_type": "markdown",
   "metadata": {},
   "source": [
    "Выводы:\n",
    "- из банка уходили клиенты, чей рейтинг 706 и выше;\n",
    "- клиенты с рентингом ниже 970 уходили реже, чем с рейтингом выше;\n",
    "- наиболее выйсок процент ухода клиента из банка - 999."
   ]
  },
  {
   "cell_type": "markdown",
   "metadata": {},
   "source": [
    "Параметр_2: **city** - город."
   ]
  },
  {
   "cell_type": "code",
   "execution_count": 23,
   "metadata": {
    "scrolled": true
   },
   "outputs": [
    {
     "data": {
      "text/html": [
       "<div>\n",
       "<style scoped>\n",
       "    .dataframe tbody tr th:only-of-type {\n",
       "        vertical-align: middle;\n",
       "    }\n",
       "\n",
       "    .dataframe tbody tr th {\n",
       "        vertical-align: top;\n",
       "    }\n",
       "\n",
       "    .dataframe thead th {\n",
       "        text-align: right;\n",
       "    }\n",
       "</style>\n",
       "<table border=\"1\" class=\"dataframe\">\n",
       "  <thead>\n",
       "    <tr style=\"text-align: right;\">\n",
       "      <th></th>\n",
       "      <th>sum</th>\n",
       "      <th>count</th>\n",
       "      <th>perc</th>\n",
       "    </tr>\n",
       "    <tr>\n",
       "      <th>city</th>\n",
       "      <th></th>\n",
       "      <th></th>\n",
       "      <th></th>\n",
       "    </tr>\n",
       "  </thead>\n",
       "  <tbody>\n",
       "    <tr>\n",
       "      <th>Ростов</th>\n",
       "      <td>266</td>\n",
       "      <td>1417</td>\n",
       "      <td>18.772054</td>\n",
       "    </tr>\n",
       "    <tr>\n",
       "      <th>Рыбинск</th>\n",
       "      <td>436</td>\n",
       "      <td>2694</td>\n",
       "      <td>16.184113</td>\n",
       "    </tr>\n",
       "    <tr>\n",
       "      <th>Ярославль</th>\n",
       "      <td>1117</td>\n",
       "      <td>5888</td>\n",
       "      <td>18.970788</td>\n",
       "    </tr>\n",
       "  </tbody>\n",
       "</table>\n",
       "</div>"
      ],
      "text/plain": [
       "            sum  count       perc\n",
       "city                             \n",
       "Ростов      266   1417  18.772054\n",
       "Рыбинск     436   2694  16.184113\n",
       "Ярославль  1117   5888  18.970788"
      ]
     },
     "execution_count": 23,
     "metadata": {},
     "output_type": "execute_result"
    }
   ],
   "source": [
    "city_churn = data.pivot_table (index = 'city', values = 'churn', aggfunc =['sum', 'count'])\n",
    "city_churn.columns = city_churn.columns.droplevel(level=1)\n",
    "city_churn ['perc'] = city_churn['sum']/city_churn['count']*100\n",
    "city_churn"
   ]
  },
  {
   "cell_type": "code",
   "execution_count": 24,
   "metadata": {
    "scrolled": false
   },
   "outputs": [
    {
     "data": {
      "image/png": "[encoded data removed]",
      "text/plain": [
       "<Figure size 1080x720 with 1 Axes>"
      ]
     },
     "metadata": {
      "needs_background": "light"
     },
     "output_type": "display_data"
    }
   ],
   "source": [
    "city_churn['perc'].plot (kind = 'bar', figsize = (15,10), color = '#ffbcd9')\n",
    "plt.title ('Процент ушедших клиентов в разбивке по городу')\n",
    "plt.axhline(churn_rate, label='Уровень оттока', linestyle='--')\n",
    "plt.xlabel ('Наименование города')\n",
    "plt.ylabel ('Процент отточных клиентов')\n",
    "plt.show()"
   ]
  },
  {
   "cell_type": "markdown",
   "metadata": {},
   "source": [
    "Вывод: разницы особой не наблюдается, поэтому при составлении портрета уходящего клиента, город можно не учитывать."
   ]
  },
  {
   "cell_type": "markdown",
   "metadata": {},
   "source": [
    "Параметр_3: **gender** - пол клиента."
   ]
  },
  {
   "cell_type": "code",
   "execution_count": 25,
   "metadata": {},
   "outputs": [
    {
     "data": {
      "text/html": [
       "<div>\n",
       "<style scoped>\n",
       "    .dataframe tbody tr th:only-of-type {\n",
       "        vertical-align: middle;\n",
       "    }\n",
       "\n",
       "    .dataframe tbody tr th {\n",
       "        vertical-align: top;\n",
       "    }\n",
       "\n",
       "    .dataframe thead th {\n",
       "        text-align: right;\n",
       "    }\n",
       "</style>\n",
       "<table border=\"1\" class=\"dataframe\">\n",
       "  <thead>\n",
       "    <tr style=\"text-align: right;\">\n",
       "      <th></th>\n",
       "      <th>sum</th>\n",
       "      <th>count</th>\n",
       "      <th>perc</th>\n",
       "    </tr>\n",
       "    <tr>\n",
       "      <th>gender</th>\n",
       "      <th></th>\n",
       "      <th></th>\n",
       "      <th></th>\n",
       "    </tr>\n",
       "  </thead>\n",
       "  <tbody>\n",
       "    <tr>\n",
       "      <th>Ж</th>\n",
       "      <td>636</td>\n",
       "      <td>4994</td>\n",
       "      <td>12.735282</td>\n",
       "    </tr>\n",
       "    <tr>\n",
       "      <th>М</th>\n",
       "      <td>1183</td>\n",
       "      <td>5005</td>\n",
       "      <td>23.636364</td>\n",
       "    </tr>\n",
       "  </tbody>\n",
       "</table>\n",
       "</div>"
      ],
      "text/plain": [
       "         sum  count       perc\n",
       "gender                        \n",
       "Ж        636   4994  12.735282\n",
       "М       1183   5005  23.636364"
      ]
     },
     "execution_count": 25,
     "metadata": {},
     "output_type": "execute_result"
    }
   ],
   "source": [
    "gender_churn = data.pivot_table (index = 'gender', values = 'churn', aggfunc =['sum', 'count'])\n",
    "gender_churn.columns = gender_churn.columns.droplevel(level=1)\n",
    "gender_churn ['perc'] = gender_churn['sum']/gender_churn['count']*100\n",
    "gender_churn"
   ]
  },
  {
   "cell_type": "code",
   "execution_count": 26,
   "metadata": {},
   "outputs": [
    {
     "data": {
      "image/png": "[encoded data removed]",
      "text/plain": [
       "<Figure size 1080x720 with 1 Axes>"
      ]
     },
     "metadata": {
      "needs_background": "light"
     },
     "output_type": "display_data"
    }
   ],
   "source": [
    "gender_churn['perc'].plot (kind = 'bar', figsize = (15,10), color = '#d8bfd8')\n",
    "plt.title ('Процент ушедших клиентов в разбивке по полу клиента')\n",
    "plt.axhline(churn_rate, label='Уровень оттока', linestyle='--')\n",
    "plt.xlabel ('Пол клиента')\n",
    "plt.ylabel ('Процент отточных клиентов')\n",
    "plt.show()"
   ]
  },
  {
   "cell_type": "markdown",
   "metadata": {},
   "source": [
    "Вывод: отточных клиентов мужского пола почти в 2 раза больше, чем женского пола."
   ]
  },
  {
   "cell_type": "markdown",
   "metadata": {},
   "source": [
    "Параметр_4: **age** - возраст клиента."
   ]
  },
  {
   "cell_type": "code",
   "execution_count": 27,
   "metadata": {},
   "outputs": [
    {
     "data": {
      "text/html": [
       "<div>\n",
       "<style scoped>\n",
       "    .dataframe tbody tr th:only-of-type {\n",
       "        vertical-align: middle;\n",
       "    }\n",
       "\n",
       "    .dataframe tbody tr th {\n",
       "        vertical-align: top;\n",
       "    }\n",
       "\n",
       "    .dataframe thead th {\n",
       "        text-align: right;\n",
       "    }\n",
       "</style>\n",
       "<table border=\"1\" class=\"dataframe\">\n",
       "  <thead>\n",
       "    <tr style=\"text-align: right;\">\n",
       "      <th></th>\n",
       "      <th>sum</th>\n",
       "      <th>count</th>\n",
       "      <th>perc</th>\n",
       "    </tr>\n",
       "    <tr>\n",
       "      <th>age</th>\n",
       "      <th></th>\n",
       "      <th></th>\n",
       "      <th></th>\n",
       "    </tr>\n",
       "  </thead>\n",
       "  <tbody>\n",
       "    <tr>\n",
       "      <th>18.0</th>\n",
       "      <td>1</td>\n",
       "      <td>13</td>\n",
       "      <td>7.692308</td>\n",
       "    </tr>\n",
       "    <tr>\n",
       "      <th>19.0</th>\n",
       "      <td>1</td>\n",
       "      <td>16</td>\n",
       "      <td>6.250000</td>\n",
       "    </tr>\n",
       "    <tr>\n",
       "      <th>20.0</th>\n",
       "      <td>3</td>\n",
       "      <td>23</td>\n",
       "      <td>13.043478</td>\n",
       "    </tr>\n",
       "    <tr>\n",
       "      <th>21.0</th>\n",
       "      <td>4</td>\n",
       "      <td>15</td>\n",
       "      <td>26.666667</td>\n",
       "    </tr>\n",
       "    <tr>\n",
       "      <th>22.0</th>\n",
       "      <td>4</td>\n",
       "      <td>27</td>\n",
       "      <td>14.814815</td>\n",
       "    </tr>\n",
       "    <tr>\n",
       "      <th>...</th>\n",
       "      <td>...</td>\n",
       "      <td>...</td>\n",
       "      <td>...</td>\n",
       "    </tr>\n",
       "    <tr>\n",
       "      <th>81.0</th>\n",
       "      <td>0</td>\n",
       "      <td>4</td>\n",
       "      <td>0.000000</td>\n",
       "    </tr>\n",
       "    <tr>\n",
       "      <th>82.0</th>\n",
       "      <td>0</td>\n",
       "      <td>2</td>\n",
       "      <td>0.000000</td>\n",
       "    </tr>\n",
       "    <tr>\n",
       "      <th>83.0</th>\n",
       "      <td>0</td>\n",
       "      <td>3</td>\n",
       "      <td>0.000000</td>\n",
       "    </tr>\n",
       "    <tr>\n",
       "      <th>84.0</th>\n",
       "      <td>0</td>\n",
       "      <td>2</td>\n",
       "      <td>0.000000</td>\n",
       "    </tr>\n",
       "    <tr>\n",
       "      <th>86.0</th>\n",
       "      <td>0</td>\n",
       "      <td>2</td>\n",
       "      <td>0.000000</td>\n",
       "    </tr>\n",
       "  </tbody>\n",
       "</table>\n",
       "<p>68 rows × 3 columns</p>\n",
       "</div>"
      ],
      "text/plain": [
       "      sum  count       perc\n",
       "age                        \n",
       "18.0    1     13   7.692308\n",
       "19.0    1     16   6.250000\n",
       "20.0    3     23  13.043478\n",
       "21.0    4     15  26.666667\n",
       "22.0    4     27  14.814815\n",
       "...   ...    ...        ...\n",
       "81.0    0      4   0.000000\n",
       "82.0    0      2   0.000000\n",
       "83.0    0      3   0.000000\n",
       "84.0    0      2   0.000000\n",
       "86.0    0      2   0.000000\n",
       "\n",
       "[68 rows x 3 columns]"
      ]
     },
     "execution_count": 27,
     "metadata": {},
     "output_type": "execute_result"
    }
   ],
   "source": [
    "data['age'] = data ['age'].round(0)\n",
    "age_churn = data.pivot_table (index = 'age', values = 'churn', aggfunc =['sum', 'count'])\n",
    "age_churn.columns = age_churn.columns.droplevel(level=1)\n",
    "age_churn ['perc'] = age_churn['sum']/age_churn['count']*100\n",
    "age_churn"
   ]
  },
  {
   "cell_type": "code",
   "execution_count": 28,
   "metadata": {
    "scrolled": false
   },
   "outputs": [
    {
     "data": {
      "image/png": "[encoded data removed]",
      "text/plain": [
       "<Figure size 1080x720 with 1 Axes>"
      ]
     },
     "metadata": {
      "needs_background": "light"
     },
     "output_type": "display_data"
    }
   ],
   "source": [
    "age_churn['perc'].plot (kind = 'bar', figsize = (15,10), color = '#ddbec3')\n",
    "plt.title ('Процент ушедших клиентов в разбивке по возрасту клиента') \n",
    "plt.axhline(churn_rate, label='Уровень оттока', linestyle='--')\n",
    "plt.xlabel ('Возраст клиента')\n",
    "plt.ylabel ('Процент отточных клиентов')\n",
    "plt.show ()"
   ]
  },
  {
   "cell_type": "markdown",
   "metadata": {},
   "source": [
    "Для составления портетов уходящих клиентов, можно дополнительно создать возрастные группы и закодировать их."
   ]
  },
  {
   "cell_type": "code",
   "execution_count": 29,
   "metadata": {
    "scrolled": true
   },
   "outputs": [
    {
     "data": {
      "text/html": [
       "<div>\n",
       "<style scoped>\n",
       "    .dataframe tbody tr th:only-of-type {\n",
       "        vertical-align: middle;\n",
       "    }\n",
       "\n",
       "    .dataframe tbody tr th {\n",
       "        vertical-align: top;\n",
       "    }\n",
       "\n",
       "    .dataframe thead th {\n",
       "        text-align: right;\n",
       "    }\n",
       "</style>\n",
       "<table border=\"1\" class=\"dataframe\">\n",
       "  <thead>\n",
       "    <tr style=\"text-align: right;\">\n",
       "      <th></th>\n",
       "      <th>userid</th>\n",
       "      <th>score</th>\n",
       "      <th>city</th>\n",
       "      <th>gender</th>\n",
       "      <th>age</th>\n",
       "      <th>equity</th>\n",
       "      <th>balance</th>\n",
       "      <th>products</th>\n",
       "      <th>credit_card</th>\n",
       "      <th>last_activity</th>\n",
       "      <th>est_salary</th>\n",
       "      <th>churn</th>\n",
       "      <th>city_Rostov</th>\n",
       "      <th>city_Rybinsk</th>\n",
       "      <th>city_Yaroslavl</th>\n",
       "      <th>female</th>\n",
       "      <th>male</th>\n",
       "      <th>age_group</th>\n",
       "    </tr>\n",
       "  </thead>\n",
       "  <tbody>\n",
       "    <tr>\n",
       "      <th>0</th>\n",
       "      <td>183012</td>\n",
       "      <td>850</td>\n",
       "      <td>Рыбинск</td>\n",
       "      <td>Ж</td>\n",
       "      <td>25.0</td>\n",
       "      <td>1</td>\n",
       "      <td>59214.82</td>\n",
       "      <td>2</td>\n",
       "      <td>0</td>\n",
       "      <td>1</td>\n",
       "      <td>75719.14</td>\n",
       "      <td>1</td>\n",
       "      <td>0</td>\n",
       "      <td>1</td>\n",
       "      <td>0</td>\n",
       "      <td>1</td>\n",
       "      <td>0</td>\n",
       "      <td>18-25</td>\n",
       "    </tr>\n",
       "    <tr>\n",
       "      <th>1</th>\n",
       "      <td>146556</td>\n",
       "      <td>861</td>\n",
       "      <td>Рыбинск</td>\n",
       "      <td>Ж</td>\n",
       "      <td>37.0</td>\n",
       "      <td>5</td>\n",
       "      <td>850594.33</td>\n",
       "      <td>3</td>\n",
       "      <td>1</td>\n",
       "      <td>0</td>\n",
       "      <td>86621.77</td>\n",
       "      <td>0</td>\n",
       "      <td>0</td>\n",
       "      <td>1</td>\n",
       "      <td>0</td>\n",
       "      <td>1</td>\n",
       "      <td>0</td>\n",
       "      <td>26-45</td>\n",
       "    </tr>\n",
       "    <tr>\n",
       "      <th>2</th>\n",
       "      <td>120722</td>\n",
       "      <td>892</td>\n",
       "      <td>Рыбинск</td>\n",
       "      <td>Ж</td>\n",
       "      <td>30.0</td>\n",
       "      <td>0</td>\n",
       "      <td>0.00</td>\n",
       "      <td>1</td>\n",
       "      <td>1</td>\n",
       "      <td>1</td>\n",
       "      <td>107683.34</td>\n",
       "      <td>0</td>\n",
       "      <td>0</td>\n",
       "      <td>1</td>\n",
       "      <td>0</td>\n",
       "      <td>1</td>\n",
       "      <td>0</td>\n",
       "      <td>26-45</td>\n",
       "    </tr>\n",
       "    <tr>\n",
       "      <th>3</th>\n",
       "      <td>225363</td>\n",
       "      <td>866</td>\n",
       "      <td>Ярославль</td>\n",
       "      <td>Ж</td>\n",
       "      <td>51.0</td>\n",
       "      <td>5</td>\n",
       "      <td>1524746.26</td>\n",
       "      <td>2</td>\n",
       "      <td>0</td>\n",
       "      <td>1</td>\n",
       "      <td>174423.53</td>\n",
       "      <td>1</td>\n",
       "      <td>0</td>\n",
       "      <td>0</td>\n",
       "      <td>1</td>\n",
       "      <td>1</td>\n",
       "      <td>0</td>\n",
       "      <td>46-62</td>\n",
       "    </tr>\n",
       "    <tr>\n",
       "      <th>4</th>\n",
       "      <td>157978</td>\n",
       "      <td>730</td>\n",
       "      <td>Ярославль</td>\n",
       "      <td>М</td>\n",
       "      <td>34.0</td>\n",
       "      <td>5</td>\n",
       "      <td>174.00</td>\n",
       "      <td>1</td>\n",
       "      <td>1</td>\n",
       "      <td>0</td>\n",
       "      <td>67353.16</td>\n",
       "      <td>1</td>\n",
       "      <td>0</td>\n",
       "      <td>0</td>\n",
       "      <td>1</td>\n",
       "      <td>0</td>\n",
       "      <td>1</td>\n",
       "      <td>26-45</td>\n",
       "    </tr>\n",
       "  </tbody>\n",
       "</table>\n",
       "</div>"
      ],
      "text/plain": [
       "   userid  score       city gender   age  equity     balance  products  \\\n",
       "0  183012    850    Рыбинск      Ж  25.0       1    59214.82         2   \n",
       "1  146556    861    Рыбинск      Ж  37.0       5   850594.33         3   \n",
       "2  120722    892    Рыбинск      Ж  30.0       0        0.00         1   \n",
       "3  225363    866  Ярославль      Ж  51.0       5  1524746.26         2   \n",
       "4  157978    730  Ярославль      М  34.0       5      174.00         1   \n",
       "\n",
       "   credit_card  last_activity  est_salary  churn  city_Rostov  city_Rybinsk  \\\n",
       "0            0              1    75719.14      1            0             1   \n",
       "1            1              0    86621.77      0            0             1   \n",
       "2            1              1   107683.34      0            0             1   \n",
       "3            0              1   174423.53      1            0             0   \n",
       "4            1              0    67353.16      1            0             0   \n",
       "\n",
       "   city_Yaroslavl  female  male age_group  \n",
       "0               0       1     0     18-25  \n",
       "1               0       1     0     26-45  \n",
       "2               0       1     0     26-45  \n",
       "3               1       1     0     46-62  \n",
       "4               1       0     1     26-45  "
      ]
     },
     "execution_count": 29,
     "metadata": {},
     "output_type": "execute_result"
    }
   ],
   "source": [
    "def age_group(age):\n",
    "    if 25 >= age >= 18:\n",
    "        return '18-25'\n",
    "    if 45 >= age >= 26:\n",
    "        return '26-45'\n",
    "    if 62 >= age >= 46:\n",
    "        return '46-62'\n",
    "    if 63 <= age:\n",
    "        return '63+'\n",
    "    \n",
    "#добавим новый стаолбец с возрастными категориями\n",
    "data['age_group'] = data['age'].apply(age_group)\n",
    "data.head()"
   ]
  },
  {
   "cell_type": "code",
   "execution_count": 30,
   "metadata": {
    "scrolled": true
   },
   "outputs": [
    {
     "data": {
      "text/html": [
       "<div>\n",
       "<style scoped>\n",
       "    .dataframe tbody tr th:only-of-type {\n",
       "        vertical-align: middle;\n",
       "    }\n",
       "\n",
       "    .dataframe tbody tr th {\n",
       "        vertical-align: top;\n",
       "    }\n",
       "\n",
       "    .dataframe thead th {\n",
       "        text-align: right;\n",
       "    }\n",
       "</style>\n",
       "<table border=\"1\" class=\"dataframe\">\n",
       "  <thead>\n",
       "    <tr style=\"text-align: right;\">\n",
       "      <th></th>\n",
       "      <th>userid</th>\n",
       "      <th>score</th>\n",
       "      <th>city</th>\n",
       "      <th>gender</th>\n",
       "      <th>age</th>\n",
       "      <th>equity</th>\n",
       "      <th>balance</th>\n",
       "      <th>products</th>\n",
       "      <th>credit_card</th>\n",
       "      <th>last_activity</th>\n",
       "      <th>...</th>\n",
       "      <th>city_Rostov</th>\n",
       "      <th>city_Rybinsk</th>\n",
       "      <th>city_Yaroslavl</th>\n",
       "      <th>female</th>\n",
       "      <th>male</th>\n",
       "      <th>age_group</th>\n",
       "      <th>age_group_2_18-25</th>\n",
       "      <th>age_group_2_26-45</th>\n",
       "      <th>age_group_2_46-62</th>\n",
       "      <th>age_group_2_63+</th>\n",
       "    </tr>\n",
       "  </thead>\n",
       "  <tbody>\n",
       "    <tr>\n",
       "      <th>0</th>\n",
       "      <td>183012</td>\n",
       "      <td>850</td>\n",
       "      <td>Рыбинск</td>\n",
       "      <td>Ж</td>\n",
       "      <td>25.0</td>\n",
       "      <td>1</td>\n",
       "      <td>59214.82</td>\n",
       "      <td>2</td>\n",
       "      <td>0</td>\n",
       "      <td>1</td>\n",
       "      <td>...</td>\n",
       "      <td>0</td>\n",
       "      <td>1</td>\n",
       "      <td>0</td>\n",
       "      <td>1</td>\n",
       "      <td>0</td>\n",
       "      <td>18-25</td>\n",
       "      <td>1</td>\n",
       "      <td>0</td>\n",
       "      <td>0</td>\n",
       "      <td>0</td>\n",
       "    </tr>\n",
       "    <tr>\n",
       "      <th>1</th>\n",
       "      <td>146556</td>\n",
       "      <td>861</td>\n",
       "      <td>Рыбинск</td>\n",
       "      <td>Ж</td>\n",
       "      <td>37.0</td>\n",
       "      <td>5</td>\n",
       "      <td>850594.33</td>\n",
       "      <td>3</td>\n",
       "      <td>1</td>\n",
       "      <td>0</td>\n",
       "      <td>...</td>\n",
       "      <td>0</td>\n",
       "      <td>1</td>\n",
       "      <td>0</td>\n",
       "      <td>1</td>\n",
       "      <td>0</td>\n",
       "      <td>26-45</td>\n",
       "      <td>0</td>\n",
       "      <td>1</td>\n",
       "      <td>0</td>\n",
       "      <td>0</td>\n",
       "    </tr>\n",
       "    <tr>\n",
       "      <th>2</th>\n",
       "      <td>120722</td>\n",
       "      <td>892</td>\n",
       "      <td>Рыбинск</td>\n",
       "      <td>Ж</td>\n",
       "      <td>30.0</td>\n",
       "      <td>0</td>\n",
       "      <td>0.00</td>\n",
       "      <td>1</td>\n",
       "      <td>1</td>\n",
       "      <td>1</td>\n",
       "      <td>...</td>\n",
       "      <td>0</td>\n",
       "      <td>1</td>\n",
       "      <td>0</td>\n",
       "      <td>1</td>\n",
       "      <td>0</td>\n",
       "      <td>26-45</td>\n",
       "      <td>0</td>\n",
       "      <td>1</td>\n",
       "      <td>0</td>\n",
       "      <td>0</td>\n",
       "    </tr>\n",
       "    <tr>\n",
       "      <th>3</th>\n",
       "      <td>225363</td>\n",
       "      <td>866</td>\n",
       "      <td>Ярославль</td>\n",
       "      <td>Ж</td>\n",
       "      <td>51.0</td>\n",
       "      <td>5</td>\n",
       "      <td>1524746.26</td>\n",
       "      <td>2</td>\n",
       "      <td>0</td>\n",
       "      <td>1</td>\n",
       "      <td>...</td>\n",
       "      <td>0</td>\n",
       "      <td>0</td>\n",
       "      <td>1</td>\n",
       "      <td>1</td>\n",
       "      <td>0</td>\n",
       "      <td>46-62</td>\n",
       "      <td>0</td>\n",
       "      <td>0</td>\n",
       "      <td>1</td>\n",
       "      <td>0</td>\n",
       "    </tr>\n",
       "    <tr>\n",
       "      <th>4</th>\n",
       "      <td>157978</td>\n",
       "      <td>730</td>\n",
       "      <td>Ярославль</td>\n",
       "      <td>М</td>\n",
       "      <td>34.0</td>\n",
       "      <td>5</td>\n",
       "      <td>174.00</td>\n",
       "      <td>1</td>\n",
       "      <td>1</td>\n",
       "      <td>0</td>\n",
       "      <td>...</td>\n",
       "      <td>0</td>\n",
       "      <td>0</td>\n",
       "      <td>1</td>\n",
       "      <td>0</td>\n",
       "      <td>1</td>\n",
       "      <td>26-45</td>\n",
       "      <td>0</td>\n",
       "      <td>1</td>\n",
       "      <td>0</td>\n",
       "      <td>0</td>\n",
       "    </tr>\n",
       "  </tbody>\n",
       "</table>\n",
       "<p>5 rows × 22 columns</p>\n",
       "</div>"
      ],
      "text/plain": [
       "   userid  score       city gender   age  equity     balance  products  \\\n",
       "0  183012    850    Рыбинск      Ж  25.0       1    59214.82         2   \n",
       "1  146556    861    Рыбинск      Ж  37.0       5   850594.33         3   \n",
       "2  120722    892    Рыбинск      Ж  30.0       0        0.00         1   \n",
       "3  225363    866  Ярославль      Ж  51.0       5  1524746.26         2   \n",
       "4  157978    730  Ярославль      М  34.0       5      174.00         1   \n",
       "\n",
       "   credit_card  last_activity  ...  city_Rostov  city_Rybinsk  city_Yaroslavl  \\\n",
       "0            0              1  ...            0             1               0   \n",
       "1            1              0  ...            0             1               0   \n",
       "2            1              1  ...            0             1               0   \n",
       "3            0              1  ...            0             0               1   \n",
       "4            1              0  ...            0             0               1   \n",
       "\n",
       "   female  male  age_group  age_group_2_18-25 age_group_2_26-45  \\\n",
       "0       1     0      18-25                  1                 0   \n",
       "1       1     0      26-45                  0                 1   \n",
       "2       1     0      26-45                  0                 1   \n",
       "3       1     0      46-62                  0                 0   \n",
       "4       0     1      26-45                  0                 1   \n",
       "\n",
       "   age_group_2_46-62  age_group_2_63+  \n",
       "0                  0                0  \n",
       "1                  0                0  \n",
       "2                  0                0  \n",
       "3                  1                0  \n",
       "4                  0                0  \n",
       "\n",
       "[5 rows x 22 columns]"
      ]
     },
     "execution_count": 30,
     "metadata": {},
     "output_type": "execute_result"
    }
   ],
   "source": [
    "# также созданим копию столбца \"age_group\" и закодируем данные\n",
    "data['age_group_2']=data['age_group']\n",
    "data = pd.get_dummies(data, columns = ['age_group_2'])\n",
    "data.head()"
   ]
  },
  {
   "cell_type": "code",
   "execution_count": 31,
   "metadata": {
    "scrolled": true
   },
   "outputs": [
    {
     "data": {
      "text/html": [
       "<div>\n",
       "<style scoped>\n",
       "    .dataframe tbody tr th:only-of-type {\n",
       "        vertical-align: middle;\n",
       "    }\n",
       "\n",
       "    .dataframe tbody tr th {\n",
       "        vertical-align: top;\n",
       "    }\n",
       "\n",
       "    .dataframe thead th {\n",
       "        text-align: right;\n",
       "    }\n",
       "</style>\n",
       "<table border=\"1\" class=\"dataframe\">\n",
       "  <thead>\n",
       "    <tr style=\"text-align: right;\">\n",
       "      <th></th>\n",
       "      <th>userid</th>\n",
       "      <th>score</th>\n",
       "      <th>city</th>\n",
       "      <th>gender</th>\n",
       "      <th>age</th>\n",
       "      <th>equity</th>\n",
       "      <th>balance</th>\n",
       "      <th>products</th>\n",
       "      <th>credit_card</th>\n",
       "      <th>last_activity</th>\n",
       "      <th>...</th>\n",
       "      <th>city_Rostov</th>\n",
       "      <th>city_Rybinsk</th>\n",
       "      <th>city_Yaroslavl</th>\n",
       "      <th>female</th>\n",
       "      <th>male</th>\n",
       "      <th>age_group</th>\n",
       "      <th>18-25</th>\n",
       "      <th>26-45</th>\n",
       "      <th>46-62</th>\n",
       "      <th>63+</th>\n",
       "    </tr>\n",
       "  </thead>\n",
       "  <tbody>\n",
       "    <tr>\n",
       "      <th>0</th>\n",
       "      <td>183012</td>\n",
       "      <td>850</td>\n",
       "      <td>Рыбинск</td>\n",
       "      <td>Ж</td>\n",
       "      <td>25.0</td>\n",
       "      <td>1</td>\n",
       "      <td>59214.82</td>\n",
       "      <td>2</td>\n",
       "      <td>0</td>\n",
       "      <td>1</td>\n",
       "      <td>...</td>\n",
       "      <td>0</td>\n",
       "      <td>1</td>\n",
       "      <td>0</td>\n",
       "      <td>1</td>\n",
       "      <td>0</td>\n",
       "      <td>18-25</td>\n",
       "      <td>1</td>\n",
       "      <td>0</td>\n",
       "      <td>0</td>\n",
       "      <td>0</td>\n",
       "    </tr>\n",
       "    <tr>\n",
       "      <th>1</th>\n",
       "      <td>146556</td>\n",
       "      <td>861</td>\n",
       "      <td>Рыбинск</td>\n",
       "      <td>Ж</td>\n",
       "      <td>37.0</td>\n",
       "      <td>5</td>\n",
       "      <td>850594.33</td>\n",
       "      <td>3</td>\n",
       "      <td>1</td>\n",
       "      <td>0</td>\n",
       "      <td>...</td>\n",
       "      <td>0</td>\n",
       "      <td>1</td>\n",
       "      <td>0</td>\n",
       "      <td>1</td>\n",
       "      <td>0</td>\n",
       "      <td>26-45</td>\n",
       "      <td>0</td>\n",
       "      <td>1</td>\n",
       "      <td>0</td>\n",
       "      <td>0</td>\n",
       "    </tr>\n",
       "    <tr>\n",
       "      <th>2</th>\n",
       "      <td>120722</td>\n",
       "      <td>892</td>\n",
       "      <td>Рыбинск</td>\n",
       "      <td>Ж</td>\n",
       "      <td>30.0</td>\n",
       "      <td>0</td>\n",
       "      <td>0.00</td>\n",
       "      <td>1</td>\n",
       "      <td>1</td>\n",
       "      <td>1</td>\n",
       "      <td>...</td>\n",
       "      <td>0</td>\n",
       "      <td>1</td>\n",
       "      <td>0</td>\n",
       "      <td>1</td>\n",
       "      <td>0</td>\n",
       "      <td>26-45</td>\n",
       "      <td>0</td>\n",
       "      <td>1</td>\n",
       "      <td>0</td>\n",
       "      <td>0</td>\n",
       "    </tr>\n",
       "    <tr>\n",
       "      <th>3</th>\n",
       "      <td>225363</td>\n",
       "      <td>866</td>\n",
       "      <td>Ярославль</td>\n",
       "      <td>Ж</td>\n",
       "      <td>51.0</td>\n",
       "      <td>5</td>\n",
       "      <td>1524746.26</td>\n",
       "      <td>2</td>\n",
       "      <td>0</td>\n",
       "      <td>1</td>\n",
       "      <td>...</td>\n",
       "      <td>0</td>\n",
       "      <td>0</td>\n",
       "      <td>1</td>\n",
       "      <td>1</td>\n",
       "      <td>0</td>\n",
       "      <td>46-62</td>\n",
       "      <td>0</td>\n",
       "      <td>0</td>\n",
       "      <td>1</td>\n",
       "      <td>0</td>\n",
       "    </tr>\n",
       "    <tr>\n",
       "      <th>4</th>\n",
       "      <td>157978</td>\n",
       "      <td>730</td>\n",
       "      <td>Ярославль</td>\n",
       "      <td>М</td>\n",
       "      <td>34.0</td>\n",
       "      <td>5</td>\n",
       "      <td>174.00</td>\n",
       "      <td>1</td>\n",
       "      <td>1</td>\n",
       "      <td>0</td>\n",
       "      <td>...</td>\n",
       "      <td>0</td>\n",
       "      <td>0</td>\n",
       "      <td>1</td>\n",
       "      <td>0</td>\n",
       "      <td>1</td>\n",
       "      <td>26-45</td>\n",
       "      <td>0</td>\n",
       "      <td>1</td>\n",
       "      <td>0</td>\n",
       "      <td>0</td>\n",
       "    </tr>\n",
       "  </tbody>\n",
       "</table>\n",
       "<p>5 rows × 22 columns</p>\n",
       "</div>"
      ],
      "text/plain": [
       "   userid  score       city gender   age  equity     balance  products  \\\n",
       "0  183012    850    Рыбинск      Ж  25.0       1    59214.82         2   \n",
       "1  146556    861    Рыбинск      Ж  37.0       5   850594.33         3   \n",
       "2  120722    892    Рыбинск      Ж  30.0       0        0.00         1   \n",
       "3  225363    866  Ярославль      Ж  51.0       5  1524746.26         2   \n",
       "4  157978    730  Ярославль      М  34.0       5      174.00         1   \n",
       "\n",
       "   credit_card  last_activity  ...  city_Rostov  city_Rybinsk  city_Yaroslavl  \\\n",
       "0            0              1  ...            0             1               0   \n",
       "1            1              0  ...            0             1               0   \n",
       "2            1              1  ...            0             1               0   \n",
       "3            0              1  ...            0             0               1   \n",
       "4            1              0  ...            0             0               1   \n",
       "\n",
       "   female  male  age_group  18-25 26-45  46-62  63+  \n",
       "0       1     0      18-25      1     0      0    0  \n",
       "1       1     0      26-45      0     1      0    0  \n",
       "2       1     0      26-45      0     1      0    0  \n",
       "3       1     0      46-62      0     0      1    0  \n",
       "4       0     1      26-45      0     1      0    0  \n",
       "\n",
       "[5 rows x 22 columns]"
      ]
     },
     "execution_count": 31,
     "metadata": {},
     "output_type": "execute_result"
    }
   ],
   "source": [
    "data = data.rename (columns = ({'age_group_2_18-25':'18-25', 'age_group_2_26-45':'26-45','age_group_2_46-62':'46-62', 'age_group_2_63+':'63+'}))\n",
    "data.head()"
   ]
  },
  {
   "cell_type": "code",
   "execution_count": 32,
   "metadata": {},
   "outputs": [
    {
     "data": {
      "text/html": [
       "<div>\n",
       "<style scoped>\n",
       "    .dataframe tbody tr th:only-of-type {\n",
       "        vertical-align: middle;\n",
       "    }\n",
       "\n",
       "    .dataframe tbody tr th {\n",
       "        vertical-align: top;\n",
       "    }\n",
       "\n",
       "    .dataframe thead th {\n",
       "        text-align: right;\n",
       "    }\n",
       "</style>\n",
       "<table border=\"1\" class=\"dataframe\">\n",
       "  <thead>\n",
       "    <tr style=\"text-align: right;\">\n",
       "      <th></th>\n",
       "      <th>sum</th>\n",
       "      <th>count</th>\n",
       "      <th>perc</th>\n",
       "    </tr>\n",
       "    <tr>\n",
       "      <th>age_group</th>\n",
       "      <th></th>\n",
       "      <th></th>\n",
       "      <th></th>\n",
       "    </tr>\n",
       "  </thead>\n",
       "  <tbody>\n",
       "    <tr>\n",
       "      <th>18-25</th>\n",
       "      <td>62</td>\n",
       "      <td>376</td>\n",
       "      <td>16.489362</td>\n",
       "    </tr>\n",
       "    <tr>\n",
       "      <th>26-45</th>\n",
       "      <td>1111</td>\n",
       "      <td>6074</td>\n",
       "      <td>18.291077</td>\n",
       "    </tr>\n",
       "    <tr>\n",
       "      <th>46-62</th>\n",
       "      <td>613</td>\n",
       "      <td>2744</td>\n",
       "      <td>22.339650</td>\n",
       "    </tr>\n",
       "    <tr>\n",
       "      <th>63+</th>\n",
       "      <td>32</td>\n",
       "      <td>779</td>\n",
       "      <td>4.107831</td>\n",
       "    </tr>\n",
       "  </tbody>\n",
       "</table>\n",
       "</div>"
      ],
      "text/plain": [
       "            sum  count       perc\n",
       "age_group                        \n",
       "18-25        62    376  16.489362\n",
       "26-45      1111   6074  18.291077\n",
       "46-62       613   2744  22.339650\n",
       "63+          32    779   4.107831"
      ]
     },
     "execution_count": 32,
     "metadata": {},
     "output_type": "execute_result"
    }
   ],
   "source": [
    "age_churn = data.pivot_table (index = 'age_group', values = 'churn', aggfunc =['sum', 'count'])\n",
    "age_churn.columns = age_churn.columns.droplevel(level=1)\n",
    "age_churn ['perc'] = age_churn['sum']/age_churn['count']*100\n",
    "age_churn"
   ]
  },
  {
   "cell_type": "code",
   "execution_count": 33,
   "metadata": {},
   "outputs": [
    {
     "data": {
      "image/png": "[encoded data removed]",
      "text/plain": [
       "<Figure size 1080x720 with 1 Axes>"
      ]
     },
     "metadata": {
      "needs_background": "light"
     },
     "output_type": "display_data"
    }
   ],
   "source": [
    "age_churn['perc'].plot (kind = 'bar', figsize = (15,10), color = '#ddbec3')\n",
    "plt.title ('Процент ушедших клиентов в разбивке по возрасту клиента') \n",
    "plt.axhline(churn_rate, label='Уровень оттока', linestyle='--')\n",
    "plt.xlabel ('Возраст клиента')\n",
    "plt.ylabel ('Процент отточных клиентов')\n",
    "plt.show ()"
   ]
  },
  {
   "cell_type": "markdown",
   "metadata": {},
   "source": [
    "Вывод:\n",
    "- больше 20% отточных клиентов относятся к возрастной категории 46-62;\n",
    "- чуть меньше 20% у категории 26-45;\n",
    "- меньше всего у категории 63+."
   ]
  },
  {
   "cell_type": "markdown",
   "metadata": {},
   "source": [
    "Параметр_5: **equity** - количества баллов в собственности."
   ]
  },
  {
   "cell_type": "code",
   "execution_count": 34,
   "metadata": {},
   "outputs": [
    {
     "data": {
      "text/html": [
       "<div>\n",
       "<style scoped>\n",
       "    .dataframe tbody tr th:only-of-type {\n",
       "        vertical-align: middle;\n",
       "    }\n",
       "\n",
       "    .dataframe tbody tr th {\n",
       "        vertical-align: top;\n",
       "    }\n",
       "\n",
       "    .dataframe thead th {\n",
       "        text-align: right;\n",
       "    }\n",
       "</style>\n",
       "<table border=\"1\" class=\"dataframe\">\n",
       "  <thead>\n",
       "    <tr style=\"text-align: right;\">\n",
       "      <th></th>\n",
       "      <th>sum</th>\n",
       "      <th>count</th>\n",
       "      <th>perc</th>\n",
       "    </tr>\n",
       "    <tr>\n",
       "      <th>equity</th>\n",
       "      <th></th>\n",
       "      <th></th>\n",
       "      <th></th>\n",
       "    </tr>\n",
       "  </thead>\n",
       "  <tbody>\n",
       "    <tr>\n",
       "      <th>0</th>\n",
       "      <td>90</td>\n",
       "      <td>2592</td>\n",
       "      <td>3.472222</td>\n",
       "    </tr>\n",
       "    <tr>\n",
       "      <th>1</th>\n",
       "      <td>93</td>\n",
       "      <td>774</td>\n",
       "      <td>12.015504</td>\n",
       "    </tr>\n",
       "    <tr>\n",
       "      <th>2</th>\n",
       "      <td>166</td>\n",
       "      <td>1052</td>\n",
       "      <td>15.779468</td>\n",
       "    </tr>\n",
       "    <tr>\n",
       "      <th>3</th>\n",
       "      <td>321</td>\n",
       "      <td>1542</td>\n",
       "      <td>20.817121</td>\n",
       "    </tr>\n",
       "    <tr>\n",
       "      <th>4</th>\n",
       "      <td>464</td>\n",
       "      <td>1850</td>\n",
       "      <td>25.081081</td>\n",
       "    </tr>\n",
       "    <tr>\n",
       "      <th>5</th>\n",
       "      <td>577</td>\n",
       "      <td>1918</td>\n",
       "      <td>30.083420</td>\n",
       "    </tr>\n",
       "    <tr>\n",
       "      <th>6</th>\n",
       "      <td>58</td>\n",
       "      <td>161</td>\n",
       "      <td>36.024845</td>\n",
       "    </tr>\n",
       "    <tr>\n",
       "      <th>7</th>\n",
       "      <td>37</td>\n",
       "      <td>80</td>\n",
       "      <td>46.250000</td>\n",
       "    </tr>\n",
       "    <tr>\n",
       "      <th>8</th>\n",
       "      <td>6</td>\n",
       "      <td>17</td>\n",
       "      <td>35.294118</td>\n",
       "    </tr>\n",
       "    <tr>\n",
       "      <th>9</th>\n",
       "      <td>7</td>\n",
       "      <td>13</td>\n",
       "      <td>53.846154</td>\n",
       "    </tr>\n",
       "  </tbody>\n",
       "</table>\n",
       "</div>"
      ],
      "text/plain": [
       "        sum  count       perc\n",
       "equity                       \n",
       "0        90   2592   3.472222\n",
       "1        93    774  12.015504\n",
       "2       166   1052  15.779468\n",
       "3       321   1542  20.817121\n",
       "4       464   1850  25.081081\n",
       "5       577   1918  30.083420\n",
       "6        58    161  36.024845\n",
       "7        37     80  46.250000\n",
       "8         6     17  35.294118\n",
       "9         7     13  53.846154"
      ]
     },
     "execution_count": 34,
     "metadata": {},
     "output_type": "execute_result"
    }
   ],
   "source": [
    "equity_churn = data.pivot_table (index = 'equity', values = 'churn', aggfunc =['sum', 'count'])\n",
    "equity_churn.columns = equity_churn.columns.droplevel(level=1)\n",
    "equity_churn ['perc'] = equity_churn['sum']/equity_churn['count']*100\n",
    "equity_churn"
   ]
  },
  {
   "cell_type": "code",
   "execution_count": 35,
   "metadata": {},
   "outputs": [
    {
     "data": {
      "image/png": "[encoded data removed]",
      "text/plain": [
       "<Figure size 1080x720 with 1 Axes>"
      ]
     },
     "metadata": {
      "needs_background": "light"
     },
     "output_type": "display_data"
    }
   ],
   "source": [
    "equity_churn['perc'].plot (kind = 'bar', figsize = (15,10), color = '#8ac8ff')\n",
    "plt.title ('Процент ушедших клиентов в разбивке по количеству баллов в собственности') \n",
    "plt.axhline(churn_rate, label='Уровень оттока', linestyle='--')\n",
    "plt.xlabel ('Количество баллов в собственности')\n",
    "plt.ylabel ('Процент отточных клиентов')\n",
    "plt.show ()"
   ]
  },
  {
   "cell_type": "markdown",
   "metadata": {},
   "source": [
    "Вывод: чем выше оценка стоимости собственности, тем выше процент оттока клиентов."
   ]
  },
  {
   "cell_type": "markdown",
   "metadata": {},
   "source": [
    "Параметр_6: **products** - количества баллов в собственности."
   ]
  },
  {
   "cell_type": "code",
   "execution_count": 36,
   "metadata": {},
   "outputs": [
    {
     "data": {
      "text/html": [
       "<div>\n",
       "<style scoped>\n",
       "    .dataframe tbody tr th:only-of-type {\n",
       "        vertical-align: middle;\n",
       "    }\n",
       "\n",
       "    .dataframe tbody tr th {\n",
       "        vertical-align: top;\n",
       "    }\n",
       "\n",
       "    .dataframe thead th {\n",
       "        text-align: right;\n",
       "    }\n",
       "</style>\n",
       "<table border=\"1\" class=\"dataframe\">\n",
       "  <thead>\n",
       "    <tr style=\"text-align: right;\">\n",
       "      <th></th>\n",
       "      <th>sum</th>\n",
       "      <th>count</th>\n",
       "      <th>perc</th>\n",
       "    </tr>\n",
       "    <tr>\n",
       "      <th>products</th>\n",
       "      <th></th>\n",
       "      <th></th>\n",
       "      <th></th>\n",
       "    </tr>\n",
       "  </thead>\n",
       "  <tbody>\n",
       "    <tr>\n",
       "      <th>1</th>\n",
       "      <td>235</td>\n",
       "      <td>3341</td>\n",
       "      <td>7.033822</td>\n",
       "    </tr>\n",
       "    <tr>\n",
       "      <th>2</th>\n",
       "      <td>979</td>\n",
       "      <td>5126</td>\n",
       "      <td>19.098712</td>\n",
       "    </tr>\n",
       "    <tr>\n",
       "      <th>3</th>\n",
       "      <td>297</td>\n",
       "      <td>1039</td>\n",
       "      <td>28.585178</td>\n",
       "    </tr>\n",
       "    <tr>\n",
       "      <th>4</th>\n",
       "      <td>300</td>\n",
       "      <td>474</td>\n",
       "      <td>63.291139</td>\n",
       "    </tr>\n",
       "    <tr>\n",
       "      <th>5</th>\n",
       "      <td>8</td>\n",
       "      <td>19</td>\n",
       "      <td>42.105263</td>\n",
       "    </tr>\n",
       "  </tbody>\n",
       "</table>\n",
       "</div>"
      ],
      "text/plain": [
       "          sum  count       perc\n",
       "products                       \n",
       "1         235   3341   7.033822\n",
       "2         979   5126  19.098712\n",
       "3         297   1039  28.585178\n",
       "4         300    474  63.291139\n",
       "5           8     19  42.105263"
      ]
     },
     "execution_count": 36,
     "metadata": {},
     "output_type": "execute_result"
    }
   ],
   "source": [
    "products_churn = data.pivot_table (index = 'products', values = 'churn', aggfunc =['sum', 'count'])\n",
    "products_churn.columns = products_churn.columns.droplevel(level=1)\n",
    "products_churn ['perc'] = products_churn['sum']/products_churn['count']*100\n",
    "products_churn"
   ]
  },
  {
   "cell_type": "code",
   "execution_count": 37,
   "metadata": {},
   "outputs": [
    {
     "data": {
      "image/png": "[encoded data removed]",
      "text/plain": [
       "<Figure size 1080x720 with 1 Axes>"
      ]
     },
     "metadata": {
      "needs_background": "light"
     },
     "output_type": "display_data"
    }
   ],
   "source": [
    "products_churn['perc'].plot (kind = 'bar', figsize = (15,10), color = '#80daeb')\n",
    "plt.title ('Процент ушедших клиентов в разбивке по количеству продуктов') \n",
    "plt.axhline(churn_rate, label='Уровень оттока', linestyle='--')\n",
    "plt.xlabel ('Количество продуктов')\n",
    "plt.ylabel ('Процент отточных клиентов')\n",
    "plt.show ()"
   ]
  },
  {
   "cell_type": "markdown",
   "metadata": {},
   "source": [
    "Вывод:\n",
    "-  больше 60% оттока клиентов, у которых было 4 продукта;\n",
    "- чуть больше 40% у клиентов с 5 продуктами;\n",
    "- меньше всего отток вреди клиентов, у которых 1-2 продукта."
   ]
  },
  {
   "cell_type": "markdown",
   "metadata": {},
   "source": [
    "Параметр_7: **credit_card** - наличие кредитной карты."
   ]
  },
  {
   "cell_type": "code",
   "execution_count": 38,
   "metadata": {},
   "outputs": [
    {
     "data": {
      "text/html": [
       "<div>\n",
       "<style scoped>\n",
       "    .dataframe tbody tr th:only-of-type {\n",
       "        vertical-align: middle;\n",
       "    }\n",
       "\n",
       "    .dataframe tbody tr th {\n",
       "        vertical-align: top;\n",
       "    }\n",
       "\n",
       "    .dataframe thead th {\n",
       "        text-align: right;\n",
       "    }\n",
       "</style>\n",
       "<table border=\"1\" class=\"dataframe\">\n",
       "  <thead>\n",
       "    <tr style=\"text-align: right;\">\n",
       "      <th></th>\n",
       "      <th>sum</th>\n",
       "      <th>count</th>\n",
       "      <th>perc</th>\n",
       "    </tr>\n",
       "    <tr>\n",
       "      <th>credit_card</th>\n",
       "      <th></th>\n",
       "      <th></th>\n",
       "      <th></th>\n",
       "    </tr>\n",
       "  </thead>\n",
       "  <tbody>\n",
       "    <tr>\n",
       "      <th>0</th>\n",
       "      <td>816</td>\n",
       "      <td>3195</td>\n",
       "      <td>25.539906</td>\n",
       "    </tr>\n",
       "    <tr>\n",
       "      <th>1</th>\n",
       "      <td>1003</td>\n",
       "      <td>6804</td>\n",
       "      <td>14.741329</td>\n",
       "    </tr>\n",
       "  </tbody>\n",
       "</table>\n",
       "</div>"
      ],
      "text/plain": [
       "              sum  count       perc\n",
       "credit_card                        \n",
       "0             816   3195  25.539906\n",
       "1            1003   6804  14.741329"
      ]
     },
     "execution_count": 38,
     "metadata": {},
     "output_type": "execute_result"
    }
   ],
   "source": [
    "credit_card_churn = data.pivot_table (index = 'credit_card', values = 'churn', aggfunc =['sum', 'count'])\n",
    "credit_card_churn.columns = credit_card_churn.columns.droplevel(level=1)\n",
    "credit_card_churn ['perc'] = credit_card_churn['sum']/credit_card_churn['count']*100\n",
    "credit_card_churn"
   ]
  },
  {
   "cell_type": "code",
   "execution_count": 39,
   "metadata": {},
   "outputs": [
    {
     "data": {
      "image/png": "[encoded data removed]",
      "text/plain": [
       "<Figure size 1080x720 with 1 Axes>"
      ]
     },
     "metadata": {
      "needs_background": "light"
     },
     "output_type": "display_data"
    }
   ],
   "source": [
    "credit_card_churn['perc'].plot (kind = 'bar', figsize = (15,10), color = '#78dbe2')\n",
    "plt.title ('Процент ушедших клиентов в разбивке по наличию кредитной карты') \n",
    "plt.axhline(churn_rate, label='Уровень оттока', linestyle='--')\n",
    "plt.xlabel ('Наличие кредитной карты')\n",
    "plt.ylabel ('Процент отточных клиентов')\n",
    "plt.show ()"
   ]
  },
  {
   "cell_type": "markdown",
   "metadata": {},
   "source": [
    "Вывод: клиенты, у которых не была открыта кредитная карта, уходили почти в 2 раза чаще, чем клиенты с кредитной картой."
   ]
  },
  {
   "cell_type": "markdown",
   "metadata": {},
   "source": [
    "Параметр_7: **last_activity** - активность клиента в течении 30 дней."
   ]
  },
  {
   "cell_type": "code",
   "execution_count": 40,
   "metadata": {},
   "outputs": [
    {
     "data": {
      "text/html": [
       "<div>\n",
       "<style scoped>\n",
       "    .dataframe tbody tr th:only-of-type {\n",
       "        vertical-align: middle;\n",
       "    }\n",
       "\n",
       "    .dataframe tbody tr th {\n",
       "        vertical-align: top;\n",
       "    }\n",
       "\n",
       "    .dataframe thead th {\n",
       "        text-align: right;\n",
       "    }\n",
       "</style>\n",
       "<table border=\"1\" class=\"dataframe\">\n",
       "  <thead>\n",
       "    <tr style=\"text-align: right;\">\n",
       "      <th></th>\n",
       "      <th>sum</th>\n",
       "      <th>count</th>\n",
       "      <th>perc</th>\n",
       "    </tr>\n",
       "    <tr>\n",
       "      <th>last_activity</th>\n",
       "      <th></th>\n",
       "      <th></th>\n",
       "      <th></th>\n",
       "    </tr>\n",
       "  </thead>\n",
       "  <tbody>\n",
       "    <tr>\n",
       "      <th>0</th>\n",
       "      <td>541</td>\n",
       "      <td>4764</td>\n",
       "      <td>11.356003</td>\n",
       "    </tr>\n",
       "    <tr>\n",
       "      <th>1</th>\n",
       "      <td>1278</td>\n",
       "      <td>5235</td>\n",
       "      <td>24.412607</td>\n",
       "    </tr>\n",
       "  </tbody>\n",
       "</table>\n",
       "</div>"
      ],
      "text/plain": [
       "                sum  count       perc\n",
       "last_activity                        \n",
       "0               541   4764  11.356003\n",
       "1              1278   5235  24.412607"
      ]
     },
     "execution_count": 40,
     "metadata": {},
     "output_type": "execute_result"
    }
   ],
   "source": [
    "last_activity_churn = data.pivot_table (index = 'last_activity', values = 'churn', aggfunc =['sum', 'count'])\n",
    "last_activity_churn.columns = last_activity_churn.columns.droplevel(level=1)\n",
    "last_activity_churn ['perc'] = last_activity_churn['sum']/last_activity_churn['count']*100\n",
    "last_activity_churn"
   ]
  },
  {
   "cell_type": "code",
   "execution_count": 41,
   "metadata": {},
   "outputs": [
    {
     "data": {
      "image/png": "[encoded data removed]",
      "text/plain": [
       "<Figure size 1080x720 with 1 Axes>"
      ]
     },
     "metadata": {
      "needs_background": "light"
     },
     "output_type": "display_data"
    }
   ],
   "source": [
    "last_activity_churn['perc'].plot (kind = 'bar', figsize = (15,10), color = '#6de8e6')\n",
    "plt.title ('Процент ушедших клиентов в разбивке по активности клиента') \n",
    "plt.axhline(churn_rate, label='Уровень оттока', linestyle='--')\n",
    "plt.xlabel ('Активность клиента в течение 30 дней')\n",
    "plt.ylabel ('Процент отточных клиентов')\n",
    "plt.show ()"
   ]
  },
  {
   "cell_type": "markdown",
   "metadata": {},
   "source": [
    "Вывод: отток клиентов, которые были активны в течении 30 дней, в 2 раза больше, чем неактивных."
   ]
  },
  {
   "cell_type": "markdown",
   "metadata": {},
   "source": [
    "**Составление портрета уходящих клиентов**"
   ]
  },
  {
   "cell_type": "markdown",
   "metadata": {},
   "source": [
    "После анализа в разрезе парамтеров, можно составить портерт уходящего клиента:\n",
    "- пол: мужской;\n",
    "- возраст: от 26 до 62;\n",
    "- город: не имеет значение;\n",
    "- скоринговый балл: больше 800;\n",
    "- оценка собственности (балл): выше 5 баллов;\n",
    "- количество продуктов: больше 3;\n",
    "- наличие кредитной карты: нет;\n",
    "- последняя активность: да.\n",
    "\n",
    "Выгрузим данные о таких пользователях."
   ]
  },
  {
   "cell_type": "code",
   "execution_count": 42,
   "metadata": {
    "scrolled": false
   },
   "outputs": [
    {
     "data": {
      "text/html": [
       "<div>\n",
       "<style scoped>\n",
       "    .dataframe tbody tr th:only-of-type {\n",
       "        vertical-align: middle;\n",
       "    }\n",
       "\n",
       "    .dataframe tbody tr th {\n",
       "        vertical-align: top;\n",
       "    }\n",
       "\n",
       "    .dataframe thead th {\n",
       "        text-align: right;\n",
       "    }\n",
       "</style>\n",
       "<table border=\"1\" class=\"dataframe\">\n",
       "  <thead>\n",
       "    <tr style=\"text-align: right;\">\n",
       "      <th></th>\n",
       "      <th>userid</th>\n",
       "      <th>score</th>\n",
       "      <th>city</th>\n",
       "      <th>gender</th>\n",
       "      <th>age</th>\n",
       "      <th>equity</th>\n",
       "      <th>balance</th>\n",
       "      <th>products</th>\n",
       "      <th>credit_card</th>\n",
       "      <th>last_activity</th>\n",
       "      <th>...</th>\n",
       "      <th>city_Rostov</th>\n",
       "      <th>city_Rybinsk</th>\n",
       "      <th>city_Yaroslavl</th>\n",
       "      <th>female</th>\n",
       "      <th>male</th>\n",
       "      <th>age_group</th>\n",
       "      <th>18-25</th>\n",
       "      <th>26-45</th>\n",
       "      <th>46-62</th>\n",
       "      <th>63+</th>\n",
       "    </tr>\n",
       "  </thead>\n",
       "  <tbody>\n",
       "    <tr>\n",
       "      <th>72</th>\n",
       "      <td>156677</td>\n",
       "      <td>873</td>\n",
       "      <td>Ярославль</td>\n",
       "      <td>М</td>\n",
       "      <td>39.0</td>\n",
       "      <td>5</td>\n",
       "      <td>915959.85</td>\n",
       "      <td>3</td>\n",
       "      <td>0</td>\n",
       "      <td>1</td>\n",
       "      <td>...</td>\n",
       "      <td>0</td>\n",
       "      <td>0</td>\n",
       "      <td>1</td>\n",
       "      <td>0</td>\n",
       "      <td>1</td>\n",
       "      <td>26-45</td>\n",
       "      <td>0</td>\n",
       "      <td>1</td>\n",
       "      <td>0</td>\n",
       "      <td>0</td>\n",
       "    </tr>\n",
       "    <tr>\n",
       "      <th>81</th>\n",
       "      <td>223978</td>\n",
       "      <td>850</td>\n",
       "      <td>Рыбинск</td>\n",
       "      <td>М</td>\n",
       "      <td>34.0</td>\n",
       "      <td>5</td>\n",
       "      <td>351583.16</td>\n",
       "      <td>4</td>\n",
       "      <td>0</td>\n",
       "      <td>1</td>\n",
       "      <td>...</td>\n",
       "      <td>0</td>\n",
       "      <td>1</td>\n",
       "      <td>0</td>\n",
       "      <td>0</td>\n",
       "      <td>1</td>\n",
       "      <td>26-45</td>\n",
       "      <td>0</td>\n",
       "      <td>1</td>\n",
       "      <td>0</td>\n",
       "      <td>0</td>\n",
       "    </tr>\n",
       "    <tr>\n",
       "      <th>399</th>\n",
       "      <td>212030</td>\n",
       "      <td>867</td>\n",
       "      <td>Ярославль</td>\n",
       "      <td>М</td>\n",
       "      <td>59.0</td>\n",
       "      <td>5</td>\n",
       "      <td>851896.68</td>\n",
       "      <td>3</td>\n",
       "      <td>0</td>\n",
       "      <td>1</td>\n",
       "      <td>...</td>\n",
       "      <td>0</td>\n",
       "      <td>0</td>\n",
       "      <td>1</td>\n",
       "      <td>0</td>\n",
       "      <td>1</td>\n",
       "      <td>46-62</td>\n",
       "      <td>0</td>\n",
       "      <td>0</td>\n",
       "      <td>1</td>\n",
       "      <td>0</td>\n",
       "    </tr>\n",
       "    <tr>\n",
       "      <th>475</th>\n",
       "      <td>140383</td>\n",
       "      <td>908</td>\n",
       "      <td>Ярославль</td>\n",
       "      <td>М</td>\n",
       "      <td>33.0</td>\n",
       "      <td>5</td>\n",
       "      <td>649294.72</td>\n",
       "      <td>4</td>\n",
       "      <td>0</td>\n",
       "      <td>1</td>\n",
       "      <td>...</td>\n",
       "      <td>0</td>\n",
       "      <td>0</td>\n",
       "      <td>1</td>\n",
       "      <td>0</td>\n",
       "      <td>1</td>\n",
       "      <td>26-45</td>\n",
       "      <td>0</td>\n",
       "      <td>1</td>\n",
       "      <td>0</td>\n",
       "      <td>0</td>\n",
       "    </tr>\n",
       "    <tr>\n",
       "      <th>734</th>\n",
       "      <td>170176</td>\n",
       "      <td>893</td>\n",
       "      <td>Ярославль</td>\n",
       "      <td>М</td>\n",
       "      <td>27.0</td>\n",
       "      <td>5</td>\n",
       "      <td>499315.41</td>\n",
       "      <td>3</td>\n",
       "      <td>0</td>\n",
       "      <td>1</td>\n",
       "      <td>...</td>\n",
       "      <td>0</td>\n",
       "      <td>0</td>\n",
       "      <td>1</td>\n",
       "      <td>0</td>\n",
       "      <td>1</td>\n",
       "      <td>26-45</td>\n",
       "      <td>0</td>\n",
       "      <td>1</td>\n",
       "      <td>0</td>\n",
       "      <td>0</td>\n",
       "    </tr>\n",
       "    <tr>\n",
       "      <th>1147</th>\n",
       "      <td>226891</td>\n",
       "      <td>864</td>\n",
       "      <td>Ярославль</td>\n",
       "      <td>М</td>\n",
       "      <td>39.0</td>\n",
       "      <td>5</td>\n",
       "      <td>920418.77</td>\n",
       "      <td>3</td>\n",
       "      <td>0</td>\n",
       "      <td>1</td>\n",
       "      <td>...</td>\n",
       "      <td>0</td>\n",
       "      <td>0</td>\n",
       "      <td>1</td>\n",
       "      <td>0</td>\n",
       "      <td>1</td>\n",
       "      <td>26-45</td>\n",
       "      <td>0</td>\n",
       "      <td>1</td>\n",
       "      <td>0</td>\n",
       "      <td>0</td>\n",
       "    </tr>\n",
       "    <tr>\n",
       "      <th>1204</th>\n",
       "      <td>223416</td>\n",
       "      <td>901</td>\n",
       "      <td>Ярославль</td>\n",
       "      <td>М</td>\n",
       "      <td>27.0</td>\n",
       "      <td>5</td>\n",
       "      <td>1007657.77</td>\n",
       "      <td>3</td>\n",
       "      <td>0</td>\n",
       "      <td>1</td>\n",
       "      <td>...</td>\n",
       "      <td>0</td>\n",
       "      <td>0</td>\n",
       "      <td>1</td>\n",
       "      <td>0</td>\n",
       "      <td>1</td>\n",
       "      <td>26-45</td>\n",
       "      <td>0</td>\n",
       "      <td>1</td>\n",
       "      <td>0</td>\n",
       "      <td>0</td>\n",
       "    </tr>\n",
       "    <tr>\n",
       "      <th>1292</th>\n",
       "      <td>131565</td>\n",
       "      <td>826</td>\n",
       "      <td>Ярославль</td>\n",
       "      <td>М</td>\n",
       "      <td>60.0</td>\n",
       "      <td>5</td>\n",
       "      <td>737821.34</td>\n",
       "      <td>3</td>\n",
       "      <td>0</td>\n",
       "      <td>1</td>\n",
       "      <td>...</td>\n",
       "      <td>0</td>\n",
       "      <td>0</td>\n",
       "      <td>1</td>\n",
       "      <td>0</td>\n",
       "      <td>1</td>\n",
       "      <td>46-62</td>\n",
       "      <td>0</td>\n",
       "      <td>0</td>\n",
       "      <td>1</td>\n",
       "      <td>0</td>\n",
       "    </tr>\n",
       "    <tr>\n",
       "      <th>1365</th>\n",
       "      <td>216512</td>\n",
       "      <td>918</td>\n",
       "      <td>Ярославль</td>\n",
       "      <td>М</td>\n",
       "      <td>34.0</td>\n",
       "      <td>5</td>\n",
       "      <td>1297184.34</td>\n",
       "      <td>3</td>\n",
       "      <td>0</td>\n",
       "      <td>1</td>\n",
       "      <td>...</td>\n",
       "      <td>0</td>\n",
       "      <td>0</td>\n",
       "      <td>1</td>\n",
       "      <td>0</td>\n",
       "      <td>1</td>\n",
       "      <td>26-45</td>\n",
       "      <td>0</td>\n",
       "      <td>1</td>\n",
       "      <td>0</td>\n",
       "      <td>0</td>\n",
       "    </tr>\n",
       "    <tr>\n",
       "      <th>1420</th>\n",
       "      <td>220656</td>\n",
       "      <td>899</td>\n",
       "      <td>Ярославль</td>\n",
       "      <td>М</td>\n",
       "      <td>59.0</td>\n",
       "      <td>5</td>\n",
       "      <td>1682723.25</td>\n",
       "      <td>3</td>\n",
       "      <td>0</td>\n",
       "      <td>1</td>\n",
       "      <td>...</td>\n",
       "      <td>0</td>\n",
       "      <td>0</td>\n",
       "      <td>1</td>\n",
       "      <td>0</td>\n",
       "      <td>1</td>\n",
       "      <td>46-62</td>\n",
       "      <td>0</td>\n",
       "      <td>0</td>\n",
       "      <td>1</td>\n",
       "      <td>0</td>\n",
       "    </tr>\n",
       "    <tr>\n",
       "      <th>1711</th>\n",
       "      <td>167518</td>\n",
       "      <td>870</td>\n",
       "      <td>Ярославль</td>\n",
       "      <td>М</td>\n",
       "      <td>52.0</td>\n",
       "      <td>5</td>\n",
       "      <td>775269.74</td>\n",
       "      <td>3</td>\n",
       "      <td>0</td>\n",
       "      <td>1</td>\n",
       "      <td>...</td>\n",
       "      <td>0</td>\n",
       "      <td>0</td>\n",
       "      <td>1</td>\n",
       "      <td>0</td>\n",
       "      <td>1</td>\n",
       "      <td>46-62</td>\n",
       "      <td>0</td>\n",
       "      <td>0</td>\n",
       "      <td>1</td>\n",
       "      <td>0</td>\n",
       "    </tr>\n",
       "    <tr>\n",
       "      <th>1820</th>\n",
       "      <td>151739</td>\n",
       "      <td>868</td>\n",
       "      <td>Рыбинск</td>\n",
       "      <td>М</td>\n",
       "      <td>33.0</td>\n",
       "      <td>6</td>\n",
       "      <td>669230.15</td>\n",
       "      <td>4</td>\n",
       "      <td>0</td>\n",
       "      <td>1</td>\n",
       "      <td>...</td>\n",
       "      <td>0</td>\n",
       "      <td>1</td>\n",
       "      <td>0</td>\n",
       "      <td>0</td>\n",
       "      <td>1</td>\n",
       "      <td>26-45</td>\n",
       "      <td>0</td>\n",
       "      <td>1</td>\n",
       "      <td>0</td>\n",
       "      <td>0</td>\n",
       "    </tr>\n",
       "    <tr>\n",
       "      <th>2078</th>\n",
       "      <td>186896</td>\n",
       "      <td>860</td>\n",
       "      <td>Ярославль</td>\n",
       "      <td>М</td>\n",
       "      <td>42.0</td>\n",
       "      <td>5</td>\n",
       "      <td>1546551.11</td>\n",
       "      <td>3</td>\n",
       "      <td>0</td>\n",
       "      <td>1</td>\n",
       "      <td>...</td>\n",
       "      <td>0</td>\n",
       "      <td>0</td>\n",
       "      <td>1</td>\n",
       "      <td>0</td>\n",
       "      <td>1</td>\n",
       "      <td>26-45</td>\n",
       "      <td>0</td>\n",
       "      <td>1</td>\n",
       "      <td>0</td>\n",
       "      <td>0</td>\n",
       "    </tr>\n",
       "    <tr>\n",
       "      <th>2623</th>\n",
       "      <td>150673</td>\n",
       "      <td>978</td>\n",
       "      <td>Рыбинск</td>\n",
       "      <td>М</td>\n",
       "      <td>53.0</td>\n",
       "      <td>6</td>\n",
       "      <td>2582959.96</td>\n",
       "      <td>4</td>\n",
       "      <td>0</td>\n",
       "      <td>1</td>\n",
       "      <td>...</td>\n",
       "      <td>0</td>\n",
       "      <td>1</td>\n",
       "      <td>0</td>\n",
       "      <td>0</td>\n",
       "      <td>1</td>\n",
       "      <td>46-62</td>\n",
       "      <td>0</td>\n",
       "      <td>0</td>\n",
       "      <td>1</td>\n",
       "      <td>0</td>\n",
       "    </tr>\n",
       "    <tr>\n",
       "      <th>2688</th>\n",
       "      <td>227234</td>\n",
       "      <td>832</td>\n",
       "      <td>Ярославль</td>\n",
       "      <td>М</td>\n",
       "      <td>55.0</td>\n",
       "      <td>5</td>\n",
       "      <td>585528.59</td>\n",
       "      <td>3</td>\n",
       "      <td>0</td>\n",
       "      <td>1</td>\n",
       "      <td>...</td>\n",
       "      <td>0</td>\n",
       "      <td>0</td>\n",
       "      <td>1</td>\n",
       "      <td>0</td>\n",
       "      <td>1</td>\n",
       "      <td>46-62</td>\n",
       "      <td>0</td>\n",
       "      <td>0</td>\n",
       "      <td>1</td>\n",
       "      <td>0</td>\n",
       "    </tr>\n",
       "    <tr>\n",
       "      <th>2822</th>\n",
       "      <td>210656</td>\n",
       "      <td>920</td>\n",
       "      <td>Ярославль</td>\n",
       "      <td>М</td>\n",
       "      <td>61.0</td>\n",
       "      <td>5</td>\n",
       "      <td>1821523.00</td>\n",
       "      <td>3</td>\n",
       "      <td>0</td>\n",
       "      <td>1</td>\n",
       "      <td>...</td>\n",
       "      <td>0</td>\n",
       "      <td>0</td>\n",
       "      <td>1</td>\n",
       "      <td>0</td>\n",
       "      <td>1</td>\n",
       "      <td>46-62</td>\n",
       "      <td>0</td>\n",
       "      <td>0</td>\n",
       "      <td>1</td>\n",
       "      <td>0</td>\n",
       "    </tr>\n",
       "    <tr>\n",
       "      <th>3067</th>\n",
       "      <td>149601</td>\n",
       "      <td>866</td>\n",
       "      <td>Рыбинск</td>\n",
       "      <td>М</td>\n",
       "      <td>30.0</td>\n",
       "      <td>5</td>\n",
       "      <td>588736.74</td>\n",
       "      <td>4</td>\n",
       "      <td>0</td>\n",
       "      <td>1</td>\n",
       "      <td>...</td>\n",
       "      <td>0</td>\n",
       "      <td>1</td>\n",
       "      <td>0</td>\n",
       "      <td>0</td>\n",
       "      <td>1</td>\n",
       "      <td>26-45</td>\n",
       "      <td>0</td>\n",
       "      <td>1</td>\n",
       "      <td>0</td>\n",
       "      <td>0</td>\n",
       "    </tr>\n",
       "    <tr>\n",
       "      <th>3076</th>\n",
       "      <td>138547</td>\n",
       "      <td>887</td>\n",
       "      <td>Ярославль</td>\n",
       "      <td>М</td>\n",
       "      <td>35.0</td>\n",
       "      <td>6</td>\n",
       "      <td>475768.04</td>\n",
       "      <td>3</td>\n",
       "      <td>0</td>\n",
       "      <td>1</td>\n",
       "      <td>...</td>\n",
       "      <td>0</td>\n",
       "      <td>0</td>\n",
       "      <td>1</td>\n",
       "      <td>0</td>\n",
       "      <td>1</td>\n",
       "      <td>26-45</td>\n",
       "      <td>0</td>\n",
       "      <td>1</td>\n",
       "      <td>0</td>\n",
       "      <td>0</td>\n",
       "    </tr>\n",
       "    <tr>\n",
       "      <th>3267</th>\n",
       "      <td>228880</td>\n",
       "      <td>890</td>\n",
       "      <td>Ярославль</td>\n",
       "      <td>М</td>\n",
       "      <td>54.0</td>\n",
       "      <td>5</td>\n",
       "      <td>3582411.37</td>\n",
       "      <td>3</td>\n",
       "      <td>0</td>\n",
       "      <td>1</td>\n",
       "      <td>...</td>\n",
       "      <td>0</td>\n",
       "      <td>0</td>\n",
       "      <td>1</td>\n",
       "      <td>0</td>\n",
       "      <td>1</td>\n",
       "      <td>46-62</td>\n",
       "      <td>0</td>\n",
       "      <td>0</td>\n",
       "      <td>1</td>\n",
       "      <td>0</td>\n",
       "    </tr>\n",
       "    <tr>\n",
       "      <th>3861</th>\n",
       "      <td>198175</td>\n",
       "      <td>924</td>\n",
       "      <td>Ярославль</td>\n",
       "      <td>М</td>\n",
       "      <td>55.0</td>\n",
       "      <td>5</td>\n",
       "      <td>1675198.33</td>\n",
       "      <td>3</td>\n",
       "      <td>0</td>\n",
       "      <td>1</td>\n",
       "      <td>...</td>\n",
       "      <td>0</td>\n",
       "      <td>0</td>\n",
       "      <td>1</td>\n",
       "      <td>0</td>\n",
       "      <td>1</td>\n",
       "      <td>46-62</td>\n",
       "      <td>0</td>\n",
       "      <td>0</td>\n",
       "      <td>1</td>\n",
       "      <td>0</td>\n",
       "    </tr>\n",
       "    <tr>\n",
       "      <th>3988</th>\n",
       "      <td>129785</td>\n",
       "      <td>904</td>\n",
       "      <td>Рыбинск</td>\n",
       "      <td>М</td>\n",
       "      <td>33.0</td>\n",
       "      <td>5</td>\n",
       "      <td>2427737.60</td>\n",
       "      <td>3</td>\n",
       "      <td>0</td>\n",
       "      <td>1</td>\n",
       "      <td>...</td>\n",
       "      <td>0</td>\n",
       "      <td>1</td>\n",
       "      <td>0</td>\n",
       "      <td>0</td>\n",
       "      <td>1</td>\n",
       "      <td>26-45</td>\n",
       "      <td>0</td>\n",
       "      <td>1</td>\n",
       "      <td>0</td>\n",
       "      <td>0</td>\n",
       "    </tr>\n",
       "    <tr>\n",
       "      <th>4052</th>\n",
       "      <td>177784</td>\n",
       "      <td>923</td>\n",
       "      <td>Ростов</td>\n",
       "      <td>М</td>\n",
       "      <td>35.0</td>\n",
       "      <td>5</td>\n",
       "      <td>1497880.90</td>\n",
       "      <td>4</td>\n",
       "      <td>0</td>\n",
       "      <td>1</td>\n",
       "      <td>...</td>\n",
       "      <td>1</td>\n",
       "      <td>0</td>\n",
       "      <td>0</td>\n",
       "      <td>0</td>\n",
       "      <td>1</td>\n",
       "      <td>26-45</td>\n",
       "      <td>0</td>\n",
       "      <td>1</td>\n",
       "      <td>0</td>\n",
       "      <td>0</td>\n",
       "    </tr>\n",
       "    <tr>\n",
       "      <th>4083</th>\n",
       "      <td>228827</td>\n",
       "      <td>927</td>\n",
       "      <td>Ярославль</td>\n",
       "      <td>М</td>\n",
       "      <td>57.0</td>\n",
       "      <td>7</td>\n",
       "      <td>3134542.35</td>\n",
       "      <td>3</td>\n",
       "      <td>0</td>\n",
       "      <td>1</td>\n",
       "      <td>...</td>\n",
       "      <td>0</td>\n",
       "      <td>0</td>\n",
       "      <td>1</td>\n",
       "      <td>0</td>\n",
       "      <td>1</td>\n",
       "      <td>46-62</td>\n",
       "      <td>0</td>\n",
       "      <td>0</td>\n",
       "      <td>1</td>\n",
       "      <td>0</td>\n",
       "    </tr>\n",
       "    <tr>\n",
       "      <th>4638</th>\n",
       "      <td>113916</td>\n",
       "      <td>901</td>\n",
       "      <td>Ярославль</td>\n",
       "      <td>М</td>\n",
       "      <td>44.0</td>\n",
       "      <td>8</td>\n",
       "      <td>2590265.13</td>\n",
       "      <td>3</td>\n",
       "      <td>0</td>\n",
       "      <td>1</td>\n",
       "      <td>...</td>\n",
       "      <td>0</td>\n",
       "      <td>0</td>\n",
       "      <td>1</td>\n",
       "      <td>0</td>\n",
       "      <td>1</td>\n",
       "      <td>26-45</td>\n",
       "      <td>0</td>\n",
       "      <td>1</td>\n",
       "      <td>0</td>\n",
       "      <td>0</td>\n",
       "    </tr>\n",
       "    <tr>\n",
       "      <th>4827</th>\n",
       "      <td>192136</td>\n",
       "      <td>913</td>\n",
       "      <td>Ярославль</td>\n",
       "      <td>М</td>\n",
       "      <td>41.0</td>\n",
       "      <td>5</td>\n",
       "      <td>1693633.12</td>\n",
       "      <td>3</td>\n",
       "      <td>0</td>\n",
       "      <td>1</td>\n",
       "      <td>...</td>\n",
       "      <td>0</td>\n",
       "      <td>0</td>\n",
       "      <td>1</td>\n",
       "      <td>0</td>\n",
       "      <td>1</td>\n",
       "      <td>26-45</td>\n",
       "      <td>0</td>\n",
       "      <td>1</td>\n",
       "      <td>0</td>\n",
       "      <td>0</td>\n",
       "    </tr>\n",
       "    <tr>\n",
       "      <th>5394</th>\n",
       "      <td>156102</td>\n",
       "      <td>826</td>\n",
       "      <td>Ярославль</td>\n",
       "      <td>М</td>\n",
       "      <td>28.0</td>\n",
       "      <td>7</td>\n",
       "      <td>214989.96</td>\n",
       "      <td>4</td>\n",
       "      <td>0</td>\n",
       "      <td>1</td>\n",
       "      <td>...</td>\n",
       "      <td>0</td>\n",
       "      <td>0</td>\n",
       "      <td>1</td>\n",
       "      <td>0</td>\n",
       "      <td>1</td>\n",
       "      <td>26-45</td>\n",
       "      <td>0</td>\n",
       "      <td>1</td>\n",
       "      <td>0</td>\n",
       "      <td>0</td>\n",
       "    </tr>\n",
       "    <tr>\n",
       "      <th>5396</th>\n",
       "      <td>165534</td>\n",
       "      <td>846</td>\n",
       "      <td>Рыбинск</td>\n",
       "      <td>М</td>\n",
       "      <td>38.0</td>\n",
       "      <td>6</td>\n",
       "      <td>603585.35</td>\n",
       "      <td>4</td>\n",
       "      <td>0</td>\n",
       "      <td>1</td>\n",
       "      <td>...</td>\n",
       "      <td>0</td>\n",
       "      <td>1</td>\n",
       "      <td>0</td>\n",
       "      <td>0</td>\n",
       "      <td>1</td>\n",
       "      <td>26-45</td>\n",
       "      <td>0</td>\n",
       "      <td>1</td>\n",
       "      <td>0</td>\n",
       "      <td>0</td>\n",
       "    </tr>\n",
       "    <tr>\n",
       "      <th>5529</th>\n",
       "      <td>150424</td>\n",
       "      <td>855</td>\n",
       "      <td>Ярославль</td>\n",
       "      <td>М</td>\n",
       "      <td>39.0</td>\n",
       "      <td>5</td>\n",
       "      <td>1146433.23</td>\n",
       "      <td>3</td>\n",
       "      <td>0</td>\n",
       "      <td>1</td>\n",
       "      <td>...</td>\n",
       "      <td>0</td>\n",
       "      <td>0</td>\n",
       "      <td>1</td>\n",
       "      <td>0</td>\n",
       "      <td>1</td>\n",
       "      <td>26-45</td>\n",
       "      <td>0</td>\n",
       "      <td>1</td>\n",
       "      <td>0</td>\n",
       "      <td>0</td>\n",
       "    </tr>\n",
       "    <tr>\n",
       "      <th>5907</th>\n",
       "      <td>116282</td>\n",
       "      <td>814</td>\n",
       "      <td>Ярославль</td>\n",
       "      <td>М</td>\n",
       "      <td>44.0</td>\n",
       "      <td>5</td>\n",
       "      <td>1618334.48</td>\n",
       "      <td>3</td>\n",
       "      <td>0</td>\n",
       "      <td>1</td>\n",
       "      <td>...</td>\n",
       "      <td>0</td>\n",
       "      <td>0</td>\n",
       "      <td>1</td>\n",
       "      <td>0</td>\n",
       "      <td>1</td>\n",
       "      <td>26-45</td>\n",
       "      <td>0</td>\n",
       "      <td>1</td>\n",
       "      <td>0</td>\n",
       "      <td>0</td>\n",
       "    </tr>\n",
       "    <tr>\n",
       "      <th>6041</th>\n",
       "      <td>228797</td>\n",
       "      <td>895</td>\n",
       "      <td>Ярославль</td>\n",
       "      <td>М</td>\n",
       "      <td>48.0</td>\n",
       "      <td>6</td>\n",
       "      <td>2917343.54</td>\n",
       "      <td>3</td>\n",
       "      <td>0</td>\n",
       "      <td>1</td>\n",
       "      <td>...</td>\n",
       "      <td>0</td>\n",
       "      <td>0</td>\n",
       "      <td>1</td>\n",
       "      <td>0</td>\n",
       "      <td>1</td>\n",
       "      <td>46-62</td>\n",
       "      <td>0</td>\n",
       "      <td>0</td>\n",
       "      <td>1</td>\n",
       "      <td>0</td>\n",
       "    </tr>\n",
       "    <tr>\n",
       "      <th>6162</th>\n",
       "      <td>153089</td>\n",
       "      <td>909</td>\n",
       "      <td>Ярославль</td>\n",
       "      <td>М</td>\n",
       "      <td>54.0</td>\n",
       "      <td>5</td>\n",
       "      <td>884462.90</td>\n",
       "      <td>3</td>\n",
       "      <td>0</td>\n",
       "      <td>1</td>\n",
       "      <td>...</td>\n",
       "      <td>0</td>\n",
       "      <td>0</td>\n",
       "      <td>1</td>\n",
       "      <td>0</td>\n",
       "      <td>1</td>\n",
       "      <td>46-62</td>\n",
       "      <td>0</td>\n",
       "      <td>0</td>\n",
       "      <td>1</td>\n",
       "      <td>0</td>\n",
       "    </tr>\n",
       "    <tr>\n",
       "      <th>6254</th>\n",
       "      <td>99111</td>\n",
       "      <td>826</td>\n",
       "      <td>Ростов</td>\n",
       "      <td>М</td>\n",
       "      <td>60.0</td>\n",
       "      <td>5</td>\n",
       "      <td>1333343.17</td>\n",
       "      <td>4</td>\n",
       "      <td>0</td>\n",
       "      <td>1</td>\n",
       "      <td>...</td>\n",
       "      <td>1</td>\n",
       "      <td>0</td>\n",
       "      <td>0</td>\n",
       "      <td>0</td>\n",
       "      <td>1</td>\n",
       "      <td>46-62</td>\n",
       "      <td>0</td>\n",
       "      <td>0</td>\n",
       "      <td>1</td>\n",
       "      <td>0</td>\n",
       "    </tr>\n",
       "    <tr>\n",
       "      <th>6437</th>\n",
       "      <td>191917</td>\n",
       "      <td>915</td>\n",
       "      <td>Ярославль</td>\n",
       "      <td>М</td>\n",
       "      <td>42.0</td>\n",
       "      <td>5</td>\n",
       "      <td>3013357.61</td>\n",
       "      <td>3</td>\n",
       "      <td>0</td>\n",
       "      <td>1</td>\n",
       "      <td>...</td>\n",
       "      <td>0</td>\n",
       "      <td>0</td>\n",
       "      <td>1</td>\n",
       "      <td>0</td>\n",
       "      <td>1</td>\n",
       "      <td>26-45</td>\n",
       "      <td>0</td>\n",
       "      <td>1</td>\n",
       "      <td>0</td>\n",
       "      <td>0</td>\n",
       "    </tr>\n",
       "    <tr>\n",
       "      <th>6486</th>\n",
       "      <td>225731</td>\n",
       "      <td>860</td>\n",
       "      <td>Ярославль</td>\n",
       "      <td>М</td>\n",
       "      <td>52.0</td>\n",
       "      <td>8</td>\n",
       "      <td>947578.39</td>\n",
       "      <td>4</td>\n",
       "      <td>0</td>\n",
       "      <td>1</td>\n",
       "      <td>...</td>\n",
       "      <td>0</td>\n",
       "      <td>0</td>\n",
       "      <td>1</td>\n",
       "      <td>0</td>\n",
       "      <td>1</td>\n",
       "      <td>46-62</td>\n",
       "      <td>0</td>\n",
       "      <td>0</td>\n",
       "      <td>1</td>\n",
       "      <td>0</td>\n",
       "    </tr>\n",
       "    <tr>\n",
       "      <th>6572</th>\n",
       "      <td>163065</td>\n",
       "      <td>834</td>\n",
       "      <td>Ярославль</td>\n",
       "      <td>М</td>\n",
       "      <td>34.0</td>\n",
       "      <td>5</td>\n",
       "      <td>1435912.40</td>\n",
       "      <td>4</td>\n",
       "      <td>0</td>\n",
       "      <td>1</td>\n",
       "      <td>...</td>\n",
       "      <td>0</td>\n",
       "      <td>0</td>\n",
       "      <td>1</td>\n",
       "      <td>0</td>\n",
       "      <td>1</td>\n",
       "      <td>26-45</td>\n",
       "      <td>0</td>\n",
       "      <td>1</td>\n",
       "      <td>0</td>\n",
       "      <td>0</td>\n",
       "    </tr>\n",
       "    <tr>\n",
       "      <th>7015</th>\n",
       "      <td>202077</td>\n",
       "      <td>868</td>\n",
       "      <td>Ярославль</td>\n",
       "      <td>М</td>\n",
       "      <td>37.0</td>\n",
       "      <td>6</td>\n",
       "      <td>818763.06</td>\n",
       "      <td>3</td>\n",
       "      <td>0</td>\n",
       "      <td>1</td>\n",
       "      <td>...</td>\n",
       "      <td>0</td>\n",
       "      <td>0</td>\n",
       "      <td>1</td>\n",
       "      <td>0</td>\n",
       "      <td>1</td>\n",
       "      <td>26-45</td>\n",
       "      <td>0</td>\n",
       "      <td>1</td>\n",
       "      <td>0</td>\n",
       "      <td>0</td>\n",
       "    </tr>\n",
       "    <tr>\n",
       "      <th>8148</th>\n",
       "      <td>226974</td>\n",
       "      <td>874</td>\n",
       "      <td>Рыбинск</td>\n",
       "      <td>М</td>\n",
       "      <td>46.0</td>\n",
       "      <td>5</td>\n",
       "      <td>339427.29</td>\n",
       "      <td>4</td>\n",
       "      <td>0</td>\n",
       "      <td>1</td>\n",
       "      <td>...</td>\n",
       "      <td>0</td>\n",
       "      <td>1</td>\n",
       "      <td>0</td>\n",
       "      <td>0</td>\n",
       "      <td>1</td>\n",
       "      <td>46-62</td>\n",
       "      <td>0</td>\n",
       "      <td>0</td>\n",
       "      <td>1</td>\n",
       "      <td>0</td>\n",
       "    </tr>\n",
       "    <tr>\n",
       "      <th>8244</th>\n",
       "      <td>108656</td>\n",
       "      <td>891</td>\n",
       "      <td>Ярославль</td>\n",
       "      <td>М</td>\n",
       "      <td>54.0</td>\n",
       "      <td>5</td>\n",
       "      <td>443851.94</td>\n",
       "      <td>3</td>\n",
       "      <td>0</td>\n",
       "      <td>1</td>\n",
       "      <td>...</td>\n",
       "      <td>0</td>\n",
       "      <td>0</td>\n",
       "      <td>1</td>\n",
       "      <td>0</td>\n",
       "      <td>1</td>\n",
       "      <td>46-62</td>\n",
       "      <td>0</td>\n",
       "      <td>0</td>\n",
       "      <td>1</td>\n",
       "      <td>0</td>\n",
       "    </tr>\n",
       "    <tr>\n",
       "      <th>8308</th>\n",
       "      <td>210958</td>\n",
       "      <td>913</td>\n",
       "      <td>Ярославль</td>\n",
       "      <td>М</td>\n",
       "      <td>28.0</td>\n",
       "      <td>5</td>\n",
       "      <td>1191027.34</td>\n",
       "      <td>3</td>\n",
       "      <td>0</td>\n",
       "      <td>1</td>\n",
       "      <td>...</td>\n",
       "      <td>0</td>\n",
       "      <td>0</td>\n",
       "      <td>1</td>\n",
       "      <td>0</td>\n",
       "      <td>1</td>\n",
       "      <td>26-45</td>\n",
       "      <td>0</td>\n",
       "      <td>1</td>\n",
       "      <td>0</td>\n",
       "      <td>0</td>\n",
       "    </tr>\n",
       "    <tr>\n",
       "      <th>8335</th>\n",
       "      <td>229017</td>\n",
       "      <td>817</td>\n",
       "      <td>Ярославль</td>\n",
       "      <td>М</td>\n",
       "      <td>49.0</td>\n",
       "      <td>5</td>\n",
       "      <td>2616800.01</td>\n",
       "      <td>4</td>\n",
       "      <td>0</td>\n",
       "      <td>1</td>\n",
       "      <td>...</td>\n",
       "      <td>0</td>\n",
       "      <td>0</td>\n",
       "      <td>1</td>\n",
       "      <td>0</td>\n",
       "      <td>1</td>\n",
       "      <td>46-62</td>\n",
       "      <td>0</td>\n",
       "      <td>0</td>\n",
       "      <td>1</td>\n",
       "      <td>0</td>\n",
       "    </tr>\n",
       "    <tr>\n",
       "      <th>8689</th>\n",
       "      <td>138607</td>\n",
       "      <td>869</td>\n",
       "      <td>Рыбинск</td>\n",
       "      <td>М</td>\n",
       "      <td>40.0</td>\n",
       "      <td>5</td>\n",
       "      <td>655740.71</td>\n",
       "      <td>4</td>\n",
       "      <td>0</td>\n",
       "      <td>1</td>\n",
       "      <td>...</td>\n",
       "      <td>0</td>\n",
       "      <td>1</td>\n",
       "      <td>0</td>\n",
       "      <td>0</td>\n",
       "      <td>1</td>\n",
       "      <td>26-45</td>\n",
       "      <td>0</td>\n",
       "      <td>1</td>\n",
       "      <td>0</td>\n",
       "      <td>0</td>\n",
       "    </tr>\n",
       "    <tr>\n",
       "      <th>8727</th>\n",
       "      <td>186233</td>\n",
       "      <td>916</td>\n",
       "      <td>Ярославль</td>\n",
       "      <td>М</td>\n",
       "      <td>53.0</td>\n",
       "      <td>5</td>\n",
       "      <td>1822496.40</td>\n",
       "      <td>3</td>\n",
       "      <td>0</td>\n",
       "      <td>1</td>\n",
       "      <td>...</td>\n",
       "      <td>0</td>\n",
       "      <td>0</td>\n",
       "      <td>1</td>\n",
       "      <td>0</td>\n",
       "      <td>1</td>\n",
       "      <td>46-62</td>\n",
       "      <td>0</td>\n",
       "      <td>0</td>\n",
       "      <td>1</td>\n",
       "      <td>0</td>\n",
       "    </tr>\n",
       "    <tr>\n",
       "      <th>8894</th>\n",
       "      <td>226885</td>\n",
       "      <td>900</td>\n",
       "      <td>Ярославль</td>\n",
       "      <td>М</td>\n",
       "      <td>35.0</td>\n",
       "      <td>6</td>\n",
       "      <td>2243654.20</td>\n",
       "      <td>4</td>\n",
       "      <td>0</td>\n",
       "      <td>1</td>\n",
       "      <td>...</td>\n",
       "      <td>0</td>\n",
       "      <td>0</td>\n",
       "      <td>1</td>\n",
       "      <td>0</td>\n",
       "      <td>1</td>\n",
       "      <td>26-45</td>\n",
       "      <td>0</td>\n",
       "      <td>1</td>\n",
       "      <td>0</td>\n",
       "      <td>0</td>\n",
       "    </tr>\n",
       "    <tr>\n",
       "      <th>9655</th>\n",
       "      <td>154451</td>\n",
       "      <td>934</td>\n",
       "      <td>Ярославль</td>\n",
       "      <td>М</td>\n",
       "      <td>46.0</td>\n",
       "      <td>5</td>\n",
       "      <td>1464834.59</td>\n",
       "      <td>4</td>\n",
       "      <td>0</td>\n",
       "      <td>1</td>\n",
       "      <td>...</td>\n",
       "      <td>0</td>\n",
       "      <td>0</td>\n",
       "      <td>1</td>\n",
       "      <td>0</td>\n",
       "      <td>1</td>\n",
       "      <td>46-62</td>\n",
       "      <td>0</td>\n",
       "      <td>0</td>\n",
       "      <td>1</td>\n",
       "      <td>0</td>\n",
       "    </tr>\n",
       "    <tr>\n",
       "      <th>9772</th>\n",
       "      <td>162598</td>\n",
       "      <td>925</td>\n",
       "      <td>Ростов</td>\n",
       "      <td>М</td>\n",
       "      <td>58.0</td>\n",
       "      <td>5</td>\n",
       "      <td>2664421.66</td>\n",
       "      <td>4</td>\n",
       "      <td>0</td>\n",
       "      <td>1</td>\n",
       "      <td>...</td>\n",
       "      <td>1</td>\n",
       "      <td>0</td>\n",
       "      <td>0</td>\n",
       "      <td>0</td>\n",
       "      <td>1</td>\n",
       "      <td>46-62</td>\n",
       "      <td>0</td>\n",
       "      <td>0</td>\n",
       "      <td>1</td>\n",
       "      <td>0</td>\n",
       "    </tr>\n",
       "  </tbody>\n",
       "</table>\n",
       "<p>45 rows × 22 columns</p>\n",
       "</div>"
      ],
      "text/plain": [
       "      userid  score       city gender   age  equity     balance  products  \\\n",
       "72    156677    873  Ярославль      М  39.0       5   915959.85         3   \n",
       "81    223978    850    Рыбинск      М  34.0       5   351583.16         4   \n",
       "399   212030    867  Ярославль      М  59.0       5   851896.68         3   \n",
       "475   140383    908  Ярославль      М  33.0       5   649294.72         4   \n",
       "734   170176    893  Ярославль      М  27.0       5   499315.41         3   \n",
       "1147  226891    864  Ярославль      М  39.0       5   920418.77         3   \n",
       "1204  223416    901  Ярославль      М  27.0       5  1007657.77         3   \n",
       "1292  131565    826  Ярославль      М  60.0       5   737821.34         3   \n",
       "1365  216512    918  Ярославль      М  34.0       5  1297184.34         3   \n",
       "1420  220656    899  Ярославль      М  59.0       5  1682723.25         3   \n",
       "1711  167518    870  Ярославль      М  52.0       5   775269.74         3   \n",
       "1820  151739    868    Рыбинск      М  33.0       6   669230.15         4   \n",
       "2078  186896    860  Ярославль      М  42.0       5  1546551.11         3   \n",
       "2623  150673    978    Рыбинск      М  53.0       6  2582959.96         4   \n",
       "2688  227234    832  Ярославль      М  55.0       5   585528.59         3   \n",
       "2822  210656    920  Ярославль      М  61.0       5  1821523.00         3   \n",
       "3067  149601    866    Рыбинск      М  30.0       5   588736.74         4   \n",
       "3076  138547    887  Ярославль      М  35.0       6   475768.04         3   \n",
       "3267  228880    890  Ярославль      М  54.0       5  3582411.37         3   \n",
       "3861  198175    924  Ярославль      М  55.0       5  1675198.33         3   \n",
       "3988  129785    904    Рыбинск      М  33.0       5  2427737.60         3   \n",
       "4052  177784    923     Ростов      М  35.0       5  1497880.90         4   \n",
       "4083  228827    927  Ярославль      М  57.0       7  3134542.35         3   \n",
       "4638  113916    901  Ярославль      М  44.0       8  2590265.13         3   \n",
       "4827  192136    913  Ярославль      М  41.0       5  1693633.12         3   \n",
       "5394  156102    826  Ярославль      М  28.0       7   214989.96         4   \n",
       "5396  165534    846    Рыбинск      М  38.0       6   603585.35         4   \n",
       "5529  150424    855  Ярославль      М  39.0       5  1146433.23         3   \n",
       "5907  116282    814  Ярославль      М  44.0       5  1618334.48         3   \n",
       "6041  228797    895  Ярославль      М  48.0       6  2917343.54         3   \n",
       "6162  153089    909  Ярославль      М  54.0       5   884462.90         3   \n",
       "6254   99111    826     Ростов      М  60.0       5  1333343.17         4   \n",
       "6437  191917    915  Ярославль      М  42.0       5  3013357.61         3   \n",
       "6486  225731    860  Ярославль      М  52.0       8   947578.39         4   \n",
       "6572  163065    834  Ярославль      М  34.0       5  1435912.40         4   \n",
       "7015  202077    868  Ярославль      М  37.0       6   818763.06         3   \n",
       "8148  226974    874    Рыбинск      М  46.0       5   339427.29         4   \n",
       "8244  108656    891  Ярославль      М  54.0       5   443851.94         3   \n",
       "8308  210958    913  Ярославль      М  28.0       5  1191027.34         3   \n",
       "8335  229017    817  Ярославль      М  49.0       5  2616800.01         4   \n",
       "8689  138607    869    Рыбинск      М  40.0       5   655740.71         4   \n",
       "8727  186233    916  Ярославль      М  53.0       5  1822496.40         3   \n",
       "8894  226885    900  Ярославль      М  35.0       6  2243654.20         4   \n",
       "9655  154451    934  Ярославль      М  46.0       5  1464834.59         4   \n",
       "9772  162598    925     Ростов      М  58.0       5  2664421.66         4   \n",
       "\n",
       "      credit_card  last_activity  ...  city_Rostov  city_Rybinsk  \\\n",
       "72              0              1  ...            0             0   \n",
       "81              0              1  ...            0             1   \n",
       "399             0              1  ...            0             0   \n",
       "475             0              1  ...            0             0   \n",
       "734             0              1  ...            0             0   \n",
       "1147            0              1  ...            0             0   \n",
       "1204            0              1  ...            0             0   \n",
       "1292            0              1  ...            0             0   \n",
       "1365            0              1  ...            0             0   \n",
       "1420            0              1  ...            0             0   \n",
       "1711            0              1  ...            0             0   \n",
       "1820            0              1  ...            0             1   \n",
       "2078            0              1  ...            0             0   \n",
       "2623            0              1  ...            0             1   \n",
       "2688            0              1  ...            0             0   \n",
       "2822            0              1  ...            0             0   \n",
       "3067            0              1  ...            0             1   \n",
       "3076            0              1  ...            0             0   \n",
       "3267            0              1  ...            0             0   \n",
       "3861            0              1  ...            0             0   \n",
       "3988            0              1  ...            0             1   \n",
       "4052            0              1  ...            1             0   \n",
       "4083            0              1  ...            0             0   \n",
       "4638            0              1  ...            0             0   \n",
       "4827            0              1  ...            0             0   \n",
       "5394            0              1  ...            0             0   \n",
       "5396            0              1  ...            0             1   \n",
       "5529            0              1  ...            0             0   \n",
       "5907            0              1  ...            0             0   \n",
       "6041            0              1  ...            0             0   \n",
       "6162            0              1  ...            0             0   \n",
       "6254            0              1  ...            1             0   \n",
       "6437            0              1  ...            0             0   \n",
       "6486            0              1  ...            0             0   \n",
       "6572            0              1  ...            0             0   \n",
       "7015            0              1  ...            0             0   \n",
       "8148            0              1  ...            0             1   \n",
       "8244            0              1  ...            0             0   \n",
       "8308            0              1  ...            0             0   \n",
       "8335            0              1  ...            0             0   \n",
       "8689            0              1  ...            0             1   \n",
       "8727            0              1  ...            0             0   \n",
       "8894            0              1  ...            0             0   \n",
       "9655            0              1  ...            0             0   \n",
       "9772            0              1  ...            1             0   \n",
       "\n",
       "      city_Yaroslavl  female  male  age_group  18-25 26-45  46-62  63+  \n",
       "72                 1       0     1      26-45      0     1      0    0  \n",
       "81                 0       0     1      26-45      0     1      0    0  \n",
       "399                1       0     1      46-62      0     0      1    0  \n",
       "475                1       0     1      26-45      0     1      0    0  \n",
       "734                1       0     1      26-45      0     1      0    0  \n",
       "1147               1       0     1      26-45      0     1      0    0  \n",
       "1204               1       0     1      26-45      0     1      0    0  \n",
       "1292               1       0     1      46-62      0     0      1    0  \n",
       "1365               1       0     1      26-45      0     1      0    0  \n",
       "1420               1       0     1      46-62      0     0      1    0  \n",
       "1711               1       0     1      46-62      0     0      1    0  \n",
       "1820               0       0     1      26-45      0     1      0    0  \n",
       "2078               1       0     1      26-45      0     1      0    0  \n",
       "2623               0       0     1      46-62      0     0      1    0  \n",
       "2688               1       0     1      46-62      0     0      1    0  \n",
       "2822               1       0     1      46-62      0     0      1    0  \n",
       "3067               0       0     1      26-45      0     1      0    0  \n",
       "3076               1       0     1      26-45      0     1      0    0  \n",
       "3267               1       0     1      46-62      0     0      1    0  \n",
       "3861               1       0     1      46-62      0     0      1    0  \n",
       "3988               0       0     1      26-45      0     1      0    0  \n",
       "4052               0       0     1      26-45      0     1      0    0  \n",
       "4083               1       0     1      46-62      0     0      1    0  \n",
       "4638               1       0     1      26-45      0     1      0    0  \n",
       "4827               1       0     1      26-45      0     1      0    0  \n",
       "5394               1       0     1      26-45      0     1      0    0  \n",
       "5396               0       0     1      26-45      0     1      0    0  \n",
       "5529               1       0     1      26-45      0     1      0    0  \n",
       "5907               1       0     1      26-45      0     1      0    0  \n",
       "6041               1       0     1      46-62      0     0      1    0  \n",
       "6162               1       0     1      46-62      0     0      1    0  \n",
       "6254               0       0     1      46-62      0     0      1    0  \n",
       "6437               1       0     1      26-45      0     1      0    0  \n",
       "6486               1       0     1      46-62      0     0      1    0  \n",
       "6572               1       0     1      26-45      0     1      0    0  \n",
       "7015               1       0     1      26-45      0     1      0    0  \n",
       "8148               0       0     1      46-62      0     0      1    0  \n",
       "8244               1       0     1      46-62      0     0      1    0  \n",
       "8308               1       0     1      26-45      0     1      0    0  \n",
       "8335               1       0     1      46-62      0     0      1    0  \n",
       "8689               0       0     1      26-45      0     1      0    0  \n",
       "8727               1       0     1      46-62      0     0      1    0  \n",
       "8894               1       0     1      26-45      0     1      0    0  \n",
       "9655               1       0     1      46-62      0     0      1    0  \n",
       "9772               0       0     1      46-62      0     0      1    0  \n",
       "\n",
       "[45 rows x 22 columns]"
      ]
     },
     "execution_count": 42,
     "metadata": {},
     "output_type": "execute_result"
    }
   ],
   "source": [
    "portrait_churn = data.query ('male == 1 and equity >= 5 and score >= 800 and credit_card == 0 and last_activity == 1 and age > 26 \\\n",
    "    and age <= 62 and products >= 3 and churn == 1')\n",
    "portrait_churn"
   ]
  },
  {
   "cell_type": "markdown",
   "metadata": {},
   "source": [
    "Посмотрим теперь на портрет клиентов банка."
   ]
  },
  {
   "cell_type": "code",
   "execution_count": 43,
   "metadata": {
    "scrolled": false
   },
   "outputs": [
    {
     "data": {
      "text/plain": [
       "26-45    6074\n",
       "46-62    2744\n",
       "63+       779\n",
       "18-25     376\n",
       "Name: age_group, dtype: int64"
      ]
     },
     "metadata": {},
     "output_type": "display_data"
    },
    {
     "data": {
      "image/png": "[encoded data removed]",
      "text/plain": [
       "<Figure size 1440x720 with 1 Axes>"
      ]
     },
     "metadata": {
      "needs_background": "light"
     },
     "output_type": "display_data"
    },
    {
     "data": {
      "text/plain": [
       "Ярославль    5888\n",
       "Рыбинск      2694\n",
       "Ростов       1417\n",
       "Name: city, dtype: int64"
      ]
     },
     "metadata": {},
     "output_type": "display_data"
    },
    {
     "data": {
      "image/png": "[encoded data removed]",
      "text/plain": [
       "<Figure size 1440x720 with 1 Axes>"
      ]
     },
     "metadata": {},
     "output_type": "display_data"
    },
    {
     "data": {
      "text/plain": [
       "М    5005\n",
       "Ж    4994\n",
       "Name: gender, dtype: int64"
      ]
     },
     "metadata": {},
     "output_type": "display_data"
    },
    {
     "data": {
      "image/png": "[encoded data removed]",
      "text/plain": [
       "<Figure size 1440x720 with 1 Axes>"
      ]
     },
     "metadata": {},
     "output_type": "display_data"
    },
    {
     "data": {
      "text/plain": [
       "0    2592\n",
       "5    1918\n",
       "4    1850\n",
       "3    1542\n",
       "2    1052\n",
       "1     774\n",
       "6     161\n",
       "7      80\n",
       "8      17\n",
       "9      13\n",
       "Name: equity, dtype: int64"
      ]
     },
     "metadata": {},
     "output_type": "display_data"
    },
    {
     "data": {
      "image/png": "[encoded data removed]",
      "text/plain": [
       "<Figure size 1440x720 with 1 Axes>"
      ]
     },
     "metadata": {},
     "output_type": "display_data"
    },
    {
     "data": {
      "text/plain": [
       "2    5126\n",
       "1    3341\n",
       "3    1039\n",
       "4     474\n",
       "5      19\n",
       "Name: products, dtype: int64"
      ]
     },
     "metadata": {},
     "output_type": "display_data"
    },
    {
     "data": {
      "image/png": "[encoded data removed]",
      "text/plain": [
       "<Figure size 1440x720 with 1 Axes>"
      ]
     },
     "metadata": {},
     "output_type": "display_data"
    },
    {
     "data": {
      "text/plain": [
       "1    6804\n",
       "0    3195\n",
       "Name: credit_card, dtype: int64"
      ]
     },
     "metadata": {},
     "output_type": "display_data"
    },
    {
     "data": {
      "image/png": "[encoded data removed]",
      "text/plain": [
       "<Figure size 1440x720 with 1 Axes>"
      ]
     },
     "metadata": {},
     "output_type": "display_data"
    },
    {
     "data": {
      "text/plain": [
       "1    5235\n",
       "0    4764\n",
       "Name: last_activity, dtype: int64"
      ]
     },
     "metadata": {},
     "output_type": "display_data"
    },
    {
     "data": {
      "image/png": "[encoded data removed]",
      "text/plain": [
       "<Figure size 1440x720 with 1 Axes>"
      ]
     },
     "metadata": {},
     "output_type": "display_data"
    }
   ],
   "source": [
    "for column in ['age_group', 'city', 'gender', 'equity', 'products', 'credit_card', 'last_activity']:\n",
    "    churn_rate = int((data.query('churn == 1').groupby(column).agg({'churn':'count'})).mean())\n",
    "    \n",
    "    plt.figure(figsize=(20,10))\n",
    "    sns.countplot(data=data, x=column, hue='churn', alpha=0.6, edgecolor = 'black', linewidth=2, palette='flag', )\n",
    "    sns.set_style('darkgrid')\n",
    "    plt.axhline(churn_rate, label='Уровень оттока', linestyle='--')\n",
    "    plt.title(f'Столбчатая диаграмма')\n",
    "    plt.xlabel(f'Признак:  {column}')\n",
    "    plt.legend(labels=['Уровень оттока', 'Клиенты', 'Отточные клиенты'])\n",
    "    display(data[column].value_counts().sort_values(ascending=False))\n",
    "    plt.show()"
   ]
  },
  {
   "cell_type": "code",
   "execution_count": 44,
   "metadata": {},
   "outputs": [
    {
     "data": {
      "image/png": "[encoded data removed]",
      "text/plain": [
       "<Figure size 720x360 with 1 Axes>"
      ]
     },
     "metadata": {},
     "output_type": "display_data"
    }
   ],
   "source": [
    "plt.figure(figsize=(10,5))\n",
    "sns.histplot(data=data, x='score', hue='churn', edgecolor = 'black',  stat='density', common_norm=False, kde=True, alpha=0.4, palette='flag')\n",
    "sns.set_style('darkgrid')\n",
    "plt.title('Гистограмма распределения')\n",
    "plt.xlabel('Скоринговый балл')\n",
    "plt.legend(labels=['Отточные клиенты', 'Клиенты'])\n",
    "plt.show()"
   ]
  },
  {
   "cell_type": "markdown",
   "metadata": {},
   "source": [
    "Вывод по портрету клиентов банка:\n",
    "- большая часть клиентов из Яровлавля;\n",
    "- больше всего клиентов возраста от 26 до 45;\n",
    "- клиентов женского пола незначительно больше, чем мужского;\n",
    "- больше всего клиентов с оценков собственности 0;\n",
    "- в основном у клиентов 1-2 продукта;\n",
    "- у больше части клиентов есть кредитная карта;\n",
    "- соотношение активности и неактивности клиентов примерно одинаково.\n",
    "\n",
    "**Портрет клинета банка:**\n",
    "- пол: любой;\n",
    "- город: Ярославль;\n",
    "- возраст: от 26 до 45;\n",
    "- оценка собственности: 0;\n",
    "- количество продуктов: 1-2;\n",
    "- наличие кредитной карты: да;\n",
    "- последняя активность: не имеет значение."
   ]
  },
  {
   "cell_type": "markdown",
   "metadata": {},
   "source": [
    "Относительно сравнительного анализа с оставшимися клиентами, можно сформировать **второй прортер** отточных клиентов:\n",
    "\n",
    "**Портрет уходящего клинета банка:**\n",
    "- пол: мужской;\n",
    "- город: Ярославль;\n",
    "- возраст: от 26 до 45;\n",
    "- скоринговый балл: 820-940;\n",
    "- оценка собственности: 3-5;\n",
    "- количество продуктов: 2;\n",
    "- наличие кредитной карты: да;\n",
    "- последняя активность: да."
   ]
  },
  {
   "cell_type": "markdown",
   "metadata": {},
   "source": [
    "**Корреляционный анализ**"
   ]
  },
  {
   "cell_type": "code",
   "execution_count": 45,
   "metadata": {},
   "outputs": [
    {
     "data": {
      "text/plain": [
       "<AxesSubplot:>"
      ]
     },
     "execution_count": 45,
     "metadata": {},
     "output_type": "execute_result"
    },
    {
     "data": {
      "image/png": "[encoded data removed]",
      "text/plain": [
       "<Figure size 1440x720 with 2 Axes>"
      ]
     },
     "metadata": {},
     "output_type": "display_data"
    }
   ],
   "source": [
    "cor = data.drop(['userid'], axis=1).corr()\n",
    "plt.figure (figsize = (20, 10))\n",
    "sns.heatmap (data.corr(), annot = True, cmap = 'coolwarm', linewidths = 1)\n"
   ]
  },
  {
   "cell_type": "code",
   "execution_count": 46,
   "metadata": {},
   "outputs": [
    {
     "data": {
      "image/png": "[encoded data removed]",
      "text/plain": [
       "<Figure size 720x1440 with 2 Axes>"
      ]
     },
     "metadata": {},
     "output_type": "display_data"
    }
   ],
   "source": [
    "plt.figure(figsize=(10, 20))\n",
    "sns.heatmap(cor.loc[:,['churn']].drop('churn').sort_values('churn'), annot=True, fmt='.0%', cmap='coolwarm',center=0, linecolor='black', linewidths=1)\n",
    "plt.title('Матрица корреляций')\n",
    "plt.show()"
   ]
  },
  {
   "cell_type": "markdown",
   "metadata": {},
   "source": [
    "Вывод: \n",
    "\n",
    "На отток не влияют параметры:\n",
    "- пол: женский;\n",
    "- наличие кредитной карты;\n",
    "- возраст: 63+;\n",
    "- город: Рыбинск\n",
    "\n",
    "На отток клиентов влияют параметры:\n",
    "- количество банковских продуктов;\n",
    "- количество баллов в собственности;\n",
    "- активность в течение 30 дней;\n",
    "- пол: мужской."
   ]
  },
  {
   "cell_type": "markdown",
   "metadata": {},
   "source": [
    "# Статистический анализ данных"
   ]
  },
  {
   "cell_type": "markdown",
   "metadata": {},
   "source": [
    "**Гипотеза №1: различие доходов оставшихся и отточных клиентов**\n",
    "\n",
    "**H0:** статистически значимых различий между средними доходами клинетов, которые продолжаются пользоваться услугами и теми, кого отнесли к группе отточных клиентов нет.\n",
    "\n",
    "**H1:** статистически значимых различий между средними доходами клинетов, которые продолжаются пользоваться услугами и теми, кого отнесли к группе отточных клиентов есть.\n",
    "\n",
    "Для проверки гипотезы проведем t-test:"
   ]
  },
  {
   "cell_type": "code",
   "execution_count": 47,
   "metadata": {},
   "outputs": [
    {
     "name": "stdout",
     "output_type": "stream",
     "text": [
      "0.8724727072323815\n",
      "Принимаем гипотезу Н0\n"
     ]
    }
   ],
   "source": [
    "# results = вызов метода для проверки гипотезы\n",
    "\n",
    "results = st.ttest_ind (data[data['churn']==0]['est_salary'], data[data['churn']==1]['est_salary'], equal_var = False)\n",
    "\n",
    "alpha = 0.05\n",
    "\n",
    "# вывод значения p-value на экран \n",
    "print (results.pvalue) \n",
    "\n",
    "# условный оператор с выводом строки с ответом\n",
    "if results.pvalue < alpha:\n",
    "    print ('Отвергаем гипотезу Н0')\n",
    "else:\n",
    "    print ('Принимаем гипотезу Н0')"
   ]
  },
  {
   "cell_type": "markdown",
   "metadata": {},
   "source": [
    "Вывод: при проведении статистичкого анализа, было выявлено, что статистически значимые различия между средними доходами клинетов, которые продолжаются пользоваться услугами и теми, кого отнесли к группе отточных клиентов нет."
   ]
  },
  {
   "cell_type": "markdown",
   "metadata": {},
   "source": [
    "**Гипотеза №2: различие наличие кредитной карты у оставшихся и отточных клиентов**\n",
    "\n",
    "**H0:** статистически значимых различий между клиентами с кредитной картой, которые продолжаются пользоваться услугами и теми, кого отнесли к группе отточных клиентов нет.\n",
    "\n",
    "**H1:** статистически значимых различий между клиентами с кредитной картой, которые продолжаются пользоваться услугами и теми, кого отнесли к группе отточных клиентов есть.\n",
    "\n",
    "Для проверки гипотезы проведем t-test:"
   ]
  },
  {
   "cell_type": "code",
   "execution_count": 48,
   "metadata": {},
   "outputs": [
    {
     "name": "stdout",
     "output_type": "stream",
     "text": [
      "1.929044005502269e-34\n",
      "Отвергаем гипотезу Н0.\n"
     ]
    }
   ],
   "source": [
    "# results = вызов метода для проверки гипотезы\n",
    "\n",
    "results = st.ttest_ind (data[data['churn']==0]['credit_card'], data[data['churn']==1]['credit_card'], equal_var = False)\n",
    "\n",
    "alpha = 0.05\n",
    "\n",
    "# вывод значения p-value на экран \n",
    "print (results.pvalue) \n",
    "\n",
    "# условный оператор с выводом строки с ответом\n",
    "if results.pvalue < alpha:\n",
    "    print ('Отвергаем гипотезу Н0.')\n",
    "else:\n",
    "    print ('Принимаем гипотезу Н0.')"
   ]
  },
  {
   "cell_type": "markdown",
   "metadata": {},
   "source": [
    "Вывод: при проведении статистичкого анализа, было выявлено, что статистически значимые различия между клинетами с кредитной картой, которые продолжаются пользоваться услугами и теми, кого отнесли к группе отточных клиентов есть."
   ]
  },
  {
   "cell_type": "markdown",
   "metadata": {},
   "source": [
    "**Гипотеза №3: различие в количестве продуктов у оставшихся и отточных клиентов**\n",
    "\n",
    "**H0:** статистически значимых различий между количеством продуктов клиентов, которые продолжаются пользоваться услугами и теми, кого отнесли к группе отточных клиентов нет. \n",
    "\n",
    "**H1:** статистически значимых различий между количеством продуктов клиентов, которые продолжаются пользоваться услугами и теми, кого отнесли к группе отточных клиентов есть.\n",
    "\n",
    "Для проверки гипотезы проведем t-test:"
   ]
  },
  {
   "cell_type": "code",
   "execution_count": 49,
   "metadata": {},
   "outputs": [
    {
     "name": "stdout",
     "output_type": "stream",
     "text": [
      "3.241238337429691e-139\n",
      "Отвергаем гипотезу Н0\n"
     ]
    }
   ],
   "source": [
    "# results = вызов метода для проверки гипотезы\n",
    "\n",
    "results = st.ttest_ind (data[data['churn']==0]['products'], data[data['churn']==1]['products'], equal_var = False)\n",
    "\n",
    "alpha = 0.05\n",
    "\n",
    "# вывод значения p-value на экран \n",
    "print (results.pvalue) \n",
    "\n",
    "# условный оператор с выводом строки с ответом\n",
    "if results.pvalue < alpha:\n",
    "    print ('Отвергаем гипотезу Н0')\n",
    "else:\n",
    "    print ('Принимаем гипотезу Н0')"
   ]
  },
  {
   "cell_type": "markdown",
   "metadata": {},
   "source": [
    "Вывод: при проведении статистичкого анализа, было выявлено, что статистически значимые различия между количеством продуктов клинетов, которые продолжаются пользоваться услугами и теми, кого отнесли к группе отточных клиентов есть."
   ]
  },
  {
   "cell_type": "markdown",
   "metadata": {},
   "source": [
    "# Промежуточные итоги"
   ]
  },
  {
   "cell_type": "markdown",
   "metadata": {},
   "source": [
    "После **исследовательского анализа данных**, были определены портреты отточного клиента и клиента, который остался в банка.\n",
    "\n",
    "**Портрет клинета банка:**\n",
    "- пол: любой;\n",
    "- город: Ярославль;\n",
    "- возраст: от 26 до 45;\n",
    "- оценка собственности: 0;\n",
    "- количество продуктов: 1-2;\n",
    "- наличие кредитной карты: да;\n",
    "- последняя активность: не имеет значение.\n",
    "\n",
    "**Портрет №1 уходящего клиента:**\n",
    "- пол: мужской;\n",
    "- возраст: от 26 до 62;\n",
    "- город: не имеет значение;\n",
    "- скоринговый балл: больше 800;\n",
    "- оценка собственности (балл): выше 5 баллов;\n",
    "- количество продуктов: больше 3;\n",
    "- наличие кредитной карты: нет;\n",
    "- последняя активность: да.\n",
    "\n",
    "**Портрет №2 уходящего клинета банка:**\n",
    "- пол: мужской;\n",
    "- город: Ярославль;\n",
    "- возраст: от 26 до 45;\n",
    "- скоринговый балл: 820-940;\n",
    "- оценка собственности: 3-5;\n",
    "- количество продуктов: 2;\n",
    "- наличие кредитной карты: да;\n",
    "- последняя активность: да."
   ]
  },
  {
   "cell_type": "markdown",
   "metadata": {},
   "source": [
    "После **статистистечкого анализа**, в котором были проверены 3 гипотезы:\n",
    "- различие средних доходов;\n",
    "- различие наличия кредитной карты;\n",
    "- различия в количестве банковских продуктов.\n",
    "\n",
    "Для анализа были использован t-test, который показал, что:\n",
    "-  при проведении статистичкого анализа, было выявлено, что статистически значимые различия между средними доходами клинетов, которые продолжаются пользоваться услугами и теми, кого отнесли к группе отточных клиентов **нет**;\n",
    "- при проведении статистичкого анализа, было выявлено, что статистически значимые различия между клинетами с кредитной картой, которые продолжаются пользоваться услугами и теми, кого отнесли к группе отточных клиентов **есть**;\n",
    "- при проведении статистичкого анализа, было выявлено, что статистически значимые различия между количеством продуктов клинетов, которые продолжаются пользоваться услугами и теми, кого отнесли к группе отточных клиентов **есть**.\n",
    "\n",
    "Далее разделим пользователей на сегменты и посмотрим на их сумму, количество и процент оттока."
   ]
  },
  {
   "cell_type": "markdown",
   "metadata": {},
   "source": [
    "# Сегментация пользователей"
   ]
  },
  {
   "cell_type": "markdown",
   "metadata": {},
   "source": [
    "По итогам проведенного анализа и проверки гипотез выделим несколько сегментов пользователей.\n",
    "\n",
    "В качестве криетриев обратим внимание на следующие параметры:\n",
    "\n",
    "- возраст;\n",
    "- город;\n",
    "- количество обхектов собственности;\n",
    "- количество банковских продуктов."
   ]
  },
  {
   "cell_type": "markdown",
   "metadata": {},
   "source": [
    "**Сегмент №1:**\n",
    "- Пол: мужской\n",
    "- Количество объектов собственности: более 3\n",
    "- Количество используемых продуктов: более 3"
   ]
  },
  {
   "cell_type": "code",
   "execution_count": 50,
   "metadata": {},
   "outputs": [
    {
     "name": "stdout",
     "output_type": "stream",
     "text": [
      "Общее число пользователей в сегменте №1: 617\n",
      "Число отточных пользователей в сегменте №1: 332\n",
      "Доля отточных пользователей в сегменте №1: 53.80875202593193\n"
     ]
    },
    {
     "data": {
      "image/png": "[encoded data removed]",
      "text/plain": [
       "<Figure size 432x432 with 1 Axes>"
      ]
     },
     "metadata": {},
     "output_type": "display_data"
    }
   ],
   "source": [
    "seg_1 = data.query ('male == 1 and equity >= 3 and products >= 3 ')['userid'].count()\n",
    "seg_1_churn = data.query ('male == 1 and equity >= 3 and products >= 3 and churn == 1')['userid'].count()\n",
    "seg_1_no_churn = data.query ('male == 1 and equity >= 3 and products >= 3 and churn == 0')['userid'].count()\n",
    "\n",
    "seg_1_part = seg_1_churn / seg_1 * 100\n",
    "\n",
    "# Рассчитаем общее число пользователей в этом сегменте:\n",
    "print ('Общее число пользователей в сегменте №1:', seg_1 )\n",
    "\n",
    "\n",
    "# Рассчитаем число отточных пользователей в этом сегменте:\n",
    "print ('Число отточных пользователей в сегменте №1:', seg_1_churn)\n",
    "\n",
    "#  Рассчитаем долю отточных пользователей:\n",
    "print ('Доля отточных пользователей в сегменте №1:', seg_1_part)\n",
    "\n",
    "churn = [seg_1_churn, seg_1_no_churn]\n",
    "labels = ['Отточные клиенты', 'Оставшиеся клиенты']\n",
    "\n",
    "plt.figure(figsize=(6,6))\n",
    "plt.pie(churn, labels = labels, autopct='%.0f%%')\n",
    "plt.show()"
   ]
  },
  {
   "cell_type": "markdown",
   "metadata": {},
   "source": [
    "**Сегмент №2:**\n",
    "- Пол: мужской\n",
    "- Город: Ярославль\n",
    "- Количество используемных банковских продуктов: 2\n",
    "- Активность в течение 30 дней: да"
   ]
  },
  {
   "cell_type": "code",
   "execution_count": 51,
   "metadata": {},
   "outputs": [
    {
     "name": "stdout",
     "output_type": "stream",
     "text": [
      "Общее число пользователей в сегменте №1: 509\n",
      "Число отточных пользователей в сегменте №1: 215\n",
      "Доля отточных пользователей в сегменте №1: 42.23968565815324\n"
     ]
    },
    {
     "data": {
      "image/png": "[encoded data removed]",
      "text/plain": [
       "<Figure size 432x432 with 1 Axes>"
      ]
     },
     "metadata": {},
     "output_type": "display_data"
    }
   ],
   "source": [
    "seg_2 = data.query ('male == 1 and city_Yaroslavl == 1 and equity >= 2 and products == 2 \\\n",
    "     and last_activity == 1')['userid'].count()\n",
    "seg_2_churn = data.query ('male == 1 and city_Yaroslavl == 1 and equity >= 2 and products == 2 \\\n",
    "     and last_activity == 1 and churn == 1')['userid'].count()\n",
    "seg_2_no_churn = data.query ('male == 1 and city_Yaroslavl == 1 and equity >= 2 and products == 2 \\\n",
    "     and last_activity == 1 and churn == 0')['userid'].count()\n",
    "\n",
    "seg_2_part = seg_2_churn / seg_2 * 100\n",
    "\n",
    "# Рассчитаем общее число пользователей в этом сегменте:\n",
    "print ('Общее число пользователей в сегменте №1:', seg_2 )\n",
    "\n",
    "\n",
    "# Рассчитаем число отточных пользователей в этом сегменте:\n",
    "print ('Число отточных пользователей в сегменте №1:', seg_2_churn)\n",
    "\n",
    "#  Рассчитаем долю отточных пользователей:\n",
    "print ('Доля отточных пользователей в сегменте №1:', seg_2_part)\n",
    "\n",
    "churn = [seg_2_churn, seg_2_no_churn]\n",
    "labels = ['Отточные клиенты', 'Оставшиеся клиенты']\n",
    "\n",
    "plt.figure(figsize=(6,6))\n",
    "plt.pie(churn, labels = labels, autopct='%.0f%%')\n",
    "plt.show()"
   ]
  },
  {
   "cell_type": "markdown",
   "metadata": {},
   "source": [
    "# Общие выводы"
   ]
  },
  {
   "cell_type": "markdown",
   "metadata": {},
   "source": [
    "После **исследовательского анализа данных**, были определены пареметры, которые влияют на решение клиента об уходе:\n",
    "\n",
    "- пол - мужщины покидают банка чаще женщин;\n",
    "- возраст отточных клиентов - от 26 до 62;\n",
    "- скорринговый балл - чем выше балл, тем чаще уходят;\n",
    "- количество продукта - чем больше продуктов, тем чаще уходят;\n",
    "- оценка собственности (балл) - чем выше балл, тем чаще уходят."
   ]
  },
  {
   "cell_type": "markdown",
   "metadata": {},
   "source": [
    "После **статистистечкого анализа**, в котором были проверены 3 гипотезы:\n",
    "- различие средних доходов;\n",
    "- различие наличия кредитной карты;\n",
    "- различия в количестве банковских продуктов.\n",
    "\n",
    "Для анализа были использован t-test, который показал, что:\n",
    "-  при проведении статистичкого анализа, было выявлено, что статистически значимые различия между средними доходами клинетов, которые продолжаются пользоваться услугами и теми, кого отнесли к группе отточных клиентов **нет**;\n",
    "- при проведении статистичкого анализа, было выявлено, что статистически значимые различия между клинетами с кредитной картой, которые продолжаются пользоваться услугами и теми, кого отнесли к группе отточных клиентов **есть**;\n",
    "- при проведении статистичкого анализа, было выявлено, что статистически значимые различия между количеством продуктов клинетов, которые продолжаются пользоваться услугами и теми, кого отнесли к группе отточных клиентов **есть**."
   ]
  },
  {
   "cell_type": "markdown",
   "metadata": {},
   "source": [
    "По итогам проведенного анализа и проверки гипотез выделим несколько сегментов пользователей.\n",
    "\n",
    "В качестве криетриев обратим внимание на следующие параметры:\n",
    "\n",
    "- возраст;\n",
    "- город;\n",
    "- количество банковских продуктов;\n",
    "- наличие кредитной карты."
   ]
  },
  {
   "cell_type": "markdown",
   "metadata": {},
   "source": [
    "**Рекоменадции для каждого сегмента**:\n",
    "\n",
    "**Сегмент №1:**\n",
    "Процент оттока данного сегмента: **53,8%**\n",
    "\n",
    "- Пол: мужской\n",
    "- Количество объектов собственности: более 3\n",
    "- Количество используемых продуктов: более 3\n",
    "\n",
    "Рекомендации:\n",
    "- предложить оформить крелитную карту;\n",
    "- оповещать клиентов о новых продуктах;\n",
    "- предложить кэшбэк на разные виды товаров и услуг; \n",
    "- предложить выгодные условия, если клиент захочет, чтобы ему перечисляли заработную плату на карту банка;\n",
    "- усовершенствование сайта/приложения банка.\n",
    "\n",
    "\n",
    "**Сегмент №2:**\n",
    "Процент оттока данного сегмента: **42,23%**\n",
    "\n",
    "- Пол: мужской\n",
    "- Город: Ярославль\n",
    "- Количество объектов собственности: более 2\n",
    "- Количество используемных банковских продуктов: 2\n",
    "- Активность в течение 30 дней: да\n",
    "\n",
    "Рекомендации:\n",
    "- оповещать клиентов о новых продуктах;\n",
    "- предложить кэшбэк на разные виды товаров и услуг;\n",
    "- предложить выгодные условия, если клиент захочет, чтобы ему перечисляли заработную плату на карту банка;\n",
    "-  усовершенствование сайта/приложения банка."
   ]
  }
 ],
 "metadata": {
  "ExecuteTimeLog": [
   {
    "duration": 1331,
    "start_time": "2023-08-03T03:55:16.143Z"
   },
   {
    "duration": 159,
    "start_time": "2023-08-03T03:55:32.349Z"
   },
   {
    "duration": 14,
    "start_time": "2023-08-03T03:55:48.440Z"
   },
   {
    "duration": 42,
    "start_time": "2023-08-03T03:56:08.462Z"
   },
   {
    "duration": 13,
    "start_time": "2023-08-03T03:56:33.499Z"
   },
   {
    "duration": 38,
    "start_time": "2023-08-03T03:56:54.501Z"
   },
   {
    "duration": 14,
    "start_time": "2023-08-03T03:57:17.876Z"
   },
   {
    "duration": 7,
    "start_time": "2023-08-03T03:57:26.231Z"
   },
   {
    "duration": 11,
    "start_time": "2023-08-03T03:57:34.094Z"
   },
   {
    "duration": 4,
    "start_time": "2023-08-03T03:57:40.316Z"
   },
   {
    "duration": 6,
    "start_time": "2023-08-03T03:58:04.110Z"
   },
   {
    "duration": 103,
    "start_time": "2023-08-03T03:59:24.895Z"
   },
   {
    "duration": 4,
    "start_time": "2023-08-03T03:59:39.129Z"
   },
   {
    "duration": 4,
    "start_time": "2023-08-03T03:59:47.401Z"
   },
   {
    "duration": 10,
    "start_time": "2023-08-03T04:00:32.733Z"
   },
   {
    "duration": 1206,
    "start_time": "2023-08-03T04:04:07.999Z"
   },
   {
    "duration": 155,
    "start_time": "2023-08-03T04:04:09.207Z"
   },
   {
    "duration": 14,
    "start_time": "2023-08-03T04:04:09.364Z"
   },
   {
    "duration": 107,
    "start_time": "2023-08-03T04:04:09.379Z"
   },
   {
    "duration": 14,
    "start_time": "2023-08-03T04:04:09.488Z"
   },
   {
    "duration": 68,
    "start_time": "2023-08-03T04:04:09.504Z"
   },
   {
    "duration": 14,
    "start_time": "2023-08-03T04:04:09.573Z"
   },
   {
    "duration": 27,
    "start_time": "2023-08-03T04:04:09.588Z"
   },
   {
    "duration": 44,
    "start_time": "2023-08-03T04:04:09.617Z"
   },
   {
    "duration": 5,
    "start_time": "2023-08-03T04:04:09.662Z"
   },
   {
    "duration": 29,
    "start_time": "2023-08-03T04:04:09.668Z"
   },
   {
    "duration": 24,
    "start_time": "2023-08-03T04:04:09.699Z"
   },
   {
    "duration": 1463,
    "start_time": "2023-08-04T04:05:34.966Z"
   },
   {
    "duration": 182,
    "start_time": "2023-08-04T04:05:36.431Z"
   },
   {
    "duration": 13,
    "start_time": "2023-08-04T04:05:36.615Z"
   },
   {
    "duration": 48,
    "start_time": "2023-08-04T04:05:36.631Z"
   },
   {
    "duration": 17,
    "start_time": "2023-08-04T04:05:36.682Z"
   },
   {
    "duration": 36,
    "start_time": "2023-08-04T04:05:36.701Z"
   },
   {
    "duration": 12,
    "start_time": "2023-08-04T04:05:36.739Z"
   },
   {
    "duration": 39,
    "start_time": "2023-08-04T04:05:36.752Z"
   },
   {
    "duration": 10,
    "start_time": "2023-08-04T04:05:36.792Z"
   },
   {
    "duration": 4,
    "start_time": "2023-08-04T04:05:36.804Z"
   },
   {
    "duration": 18,
    "start_time": "2023-08-04T04:05:36.810Z"
   },
   {
    "duration": 13,
    "start_time": "2023-08-04T04:05:36.830Z"
   },
   {
    "duration": 107,
    "start_time": "2023-08-04T04:11:22.120Z"
   },
   {
    "duration": 7,
    "start_time": "2023-08-04T04:11:29.240Z"
   },
   {
    "duration": 7,
    "start_time": "2023-08-04T04:11:58.729Z"
   },
   {
    "duration": 11,
    "start_time": "2023-08-04T04:13:09.123Z"
   },
   {
    "duration": 4,
    "start_time": "2023-08-04T04:13:57.317Z"
   },
   {
    "duration": 9,
    "start_time": "2023-08-04T04:15:01.956Z"
   },
   {
    "duration": 23,
    "start_time": "2023-08-04T04:15:14.956Z"
   },
   {
    "duration": 54,
    "start_time": "2023-08-04T04:17:43.902Z"
   },
   {
    "duration": 31,
    "start_time": "2023-08-04T04:19:02.460Z"
   },
   {
    "duration": 1383,
    "start_time": "2023-08-04T04:19:23.108Z"
   },
   {
    "duration": 225,
    "start_time": "2023-08-04T04:19:24.494Z"
   },
   {
    "duration": 14,
    "start_time": "2023-08-04T04:19:24.723Z"
   },
   {
    "duration": 62,
    "start_time": "2023-08-04T04:19:24.739Z"
   },
   {
    "duration": 18,
    "start_time": "2023-08-04T04:19:24.812Z"
   },
   {
    "duration": 61,
    "start_time": "2023-08-04T04:19:24.831Z"
   },
   {
    "duration": 25,
    "start_time": "2023-08-04T04:19:24.894Z"
   },
   {
    "duration": 14,
    "start_time": "2023-08-04T04:19:24.922Z"
   },
   {
    "duration": 63,
    "start_time": "2023-08-04T04:19:24.938Z"
   },
   {
    "duration": 16,
    "start_time": "2023-08-04T04:19:25.008Z"
   },
   {
    "duration": 13,
    "start_time": "2023-08-04T04:19:25.025Z"
   },
   {
    "duration": 12,
    "start_time": "2023-08-04T04:19:25.040Z"
   },
   {
    "duration": 43,
    "start_time": "2023-08-04T04:19:25.054Z"
   },
   {
    "duration": 28,
    "start_time": "2023-08-04T04:19:25.098Z"
   },
   {
    "duration": 1306,
    "start_time": "2023-08-07T02:51:11.922Z"
   },
   {
    "duration": 158,
    "start_time": "2023-08-07T02:51:13.231Z"
   },
   {
    "duration": 21,
    "start_time": "2023-08-07T02:51:13.391Z"
   },
   {
    "duration": 67,
    "start_time": "2023-08-07T02:51:13.415Z"
   },
   {
    "duration": 12,
    "start_time": "2023-08-07T02:51:13.483Z"
   },
   {
    "duration": 42,
    "start_time": "2023-08-07T02:51:13.496Z"
   },
   {
    "duration": 13,
    "start_time": "2023-08-07T02:51:13.539Z"
   },
   {
    "duration": 7,
    "start_time": "2023-08-07T02:51:13.574Z"
   },
   {
    "duration": 28,
    "start_time": "2023-08-07T02:51:13.582Z"
   },
   {
    "duration": 10,
    "start_time": "2023-08-07T02:51:13.612Z"
   },
   {
    "duration": 30,
    "start_time": "2023-08-07T02:51:13.624Z"
   },
   {
    "duration": 19,
    "start_time": "2023-08-07T02:51:13.656Z"
   },
   {
    "duration": 30,
    "start_time": "2023-08-07T02:51:13.677Z"
   },
   {
    "duration": 32,
    "start_time": "2023-08-07T02:58:29.222Z"
   },
   {
    "duration": 19,
    "start_time": "2023-08-07T02:59:05.267Z"
   },
   {
    "duration": 52,
    "start_time": "2023-08-07T03:00:27.417Z"
   },
   {
    "duration": 52,
    "start_time": "2023-08-07T03:00:33.425Z"
   },
   {
    "duration": 53,
    "start_time": "2023-08-07T03:00:56.850Z"
   },
   {
    "duration": 1739,
    "start_time": "2023-08-07T03:52:26.914Z"
   },
   {
    "duration": 1616,
    "start_time": "2023-08-07T03:52:58.660Z"
   },
   {
    "duration": 1766,
    "start_time": "2023-08-07T03:53:18.152Z"
   },
   {
    "duration": 1787,
    "start_time": "2023-08-07T03:53:38.631Z"
   },
   {
    "duration": 2896,
    "start_time": "2023-08-07T04:29:28.605Z"
   },
   {
    "duration": 1265,
    "start_time": "2023-08-07T04:29:37.958Z"
   },
   {
    "duration": 237,
    "start_time": "2023-08-07T04:29:39.225Z"
   },
   {
    "duration": 19,
    "start_time": "2023-08-07T04:29:39.464Z"
   },
   {
    "duration": 61,
    "start_time": "2023-08-07T04:29:39.494Z"
   },
   {
    "duration": 14,
    "start_time": "2023-08-07T04:29:39.558Z"
   },
   {
    "duration": 54,
    "start_time": "2023-08-07T04:29:39.574Z"
   },
   {
    "duration": 13,
    "start_time": "2023-08-07T04:29:39.630Z"
   },
   {
    "duration": 11,
    "start_time": "2023-08-07T04:29:39.645Z"
   },
   {
    "duration": 30,
    "start_time": "2023-08-07T04:29:39.658Z"
   },
   {
    "duration": 24,
    "start_time": "2023-08-07T04:29:39.691Z"
   },
   {
    "duration": 8,
    "start_time": "2023-08-07T04:29:39.716Z"
   },
   {
    "duration": 6,
    "start_time": "2023-08-07T04:29:39.726Z"
   },
   {
    "duration": 44,
    "start_time": "2023-08-07T04:29:39.734Z"
   },
   {
    "duration": 1882,
    "start_time": "2023-08-07T04:29:39.781Z"
   },
   {
    "duration": 1324,
    "start_time": "2023-08-08T02:04:13.836Z"
   },
   {
    "duration": 153,
    "start_time": "2023-08-08T02:04:15.162Z"
   },
   {
    "duration": 13,
    "start_time": "2023-08-08T02:04:15.317Z"
   },
   {
    "duration": 41,
    "start_time": "2023-08-08T02:04:15.332Z"
   },
   {
    "duration": 30,
    "start_time": "2023-08-08T02:04:15.376Z"
   },
   {
    "duration": 45,
    "start_time": "2023-08-08T02:04:15.408Z"
   },
   {
    "duration": 14,
    "start_time": "2023-08-08T02:04:15.455Z"
   },
   {
    "duration": 6,
    "start_time": "2023-08-08T02:04:15.496Z"
   },
   {
    "duration": 16,
    "start_time": "2023-08-08T02:04:15.504Z"
   },
   {
    "duration": 7,
    "start_time": "2023-08-08T02:04:15.522Z"
   },
   {
    "duration": 9,
    "start_time": "2023-08-08T02:04:15.530Z"
   },
   {
    "duration": 4,
    "start_time": "2023-08-08T02:04:15.540Z"
   },
   {
    "duration": 62,
    "start_time": "2023-08-08T02:04:15.545Z"
   },
   {
    "duration": 1894,
    "start_time": "2023-08-08T02:04:15.609Z"
   },
   {
    "duration": 105,
    "start_time": "2023-08-08T02:12:54.395Z"
   },
   {
    "duration": 13,
    "start_time": "2023-08-08T02:13:15.286Z"
   },
   {
    "duration": 17,
    "start_time": "2023-08-08T02:13:33.653Z"
   },
   {
    "duration": 25,
    "start_time": "2023-08-08T02:15:47.414Z"
   },
   {
    "duration": 30,
    "start_time": "2023-08-08T02:15:59.149Z"
   },
   {
    "duration": 332,
    "start_time": "2023-08-08T02:22:08.987Z"
   },
   {
    "duration": 332,
    "start_time": "2023-08-08T02:22:56.701Z"
   },
   {
    "duration": 406,
    "start_time": "2023-08-08T02:23:37.986Z"
   },
   {
    "duration": 343,
    "start_time": "2023-08-08T02:27:46.739Z"
   },
   {
    "duration": 22,
    "start_time": "2023-08-08T02:30:18.366Z"
   },
   {
    "duration": 23,
    "start_time": "2023-08-08T02:30:31.782Z"
   },
   {
    "duration": 179,
    "start_time": "2023-08-08T02:31:30.696Z"
   },
   {
    "duration": 28,
    "start_time": "2023-08-08T02:34:05.065Z"
   },
   {
    "duration": 22,
    "start_time": "2023-08-08T02:34:46.096Z"
   },
   {
    "duration": 164,
    "start_time": "2023-08-08T02:35:18.188Z"
   },
   {
    "duration": 26,
    "start_time": "2023-08-08T02:36:48.255Z"
   },
   {
    "duration": 956,
    "start_time": "2023-08-08T02:38:55.257Z"
   },
   {
    "duration": 23,
    "start_time": "2023-08-08T02:47:05.202Z"
   },
   {
    "duration": 20,
    "start_time": "2023-08-08T02:47:10.515Z"
   },
   {
    "duration": 178,
    "start_time": "2023-08-08T02:47:33.741Z"
   },
   {
    "duration": 142,
    "start_time": "2023-08-08T02:49:03.316Z"
   },
   {
    "duration": 1057,
    "start_time": "2023-08-08T02:49:17.286Z"
   },
   {
    "duration": 196,
    "start_time": "2023-08-08T02:49:33.394Z"
   },
   {
    "duration": 204,
    "start_time": "2023-08-08T02:49:44.715Z"
   },
   {
    "duration": 192,
    "start_time": "2023-08-08T02:49:54.910Z"
   },
   {
    "duration": 30,
    "start_time": "2023-08-08T02:50:37.766Z"
   },
   {
    "duration": 11,
    "start_time": "2023-08-08T02:51:11.576Z"
   },
   {
    "duration": 232,
    "start_time": "2023-08-08T02:51:48.866Z"
   },
   {
    "duration": 21,
    "start_time": "2023-08-08T02:53:20.535Z"
   },
   {
    "duration": 167,
    "start_time": "2023-08-08T02:53:37.325Z"
   },
   {
    "duration": 186,
    "start_time": "2023-08-08T02:53:48.279Z"
   },
   {
    "duration": 188,
    "start_time": "2023-08-08T02:54:15.544Z"
   },
   {
    "duration": 172,
    "start_time": "2023-08-08T02:54:43.984Z"
   },
   {
    "duration": 23,
    "start_time": "2023-08-08T02:57:05.708Z"
   },
   {
    "duration": 161,
    "start_time": "2023-08-08T02:57:22.476Z"
   },
   {
    "duration": 145,
    "start_time": "2023-08-08T02:57:32.550Z"
   },
   {
    "duration": 162,
    "start_time": "2023-08-08T02:57:46.864Z"
   },
   {
    "duration": 20,
    "start_time": "2023-08-08T02:59:25.688Z"
   },
   {
    "duration": 148,
    "start_time": "2023-08-08T02:59:42.431Z"
   },
   {
    "duration": 278,
    "start_time": "2023-08-08T02:59:52.001Z"
   },
   {
    "duration": 161,
    "start_time": "2023-08-08T03:00:02.440Z"
   },
   {
    "duration": 22,
    "start_time": "2023-08-08T03:11:42.915Z"
   },
   {
    "duration": 18,
    "start_time": "2023-08-08T03:13:00.921Z"
   },
   {
    "duration": 29,
    "start_time": "2023-08-08T03:13:28.735Z"
   },
   {
    "duration": 28,
    "start_time": "2023-08-08T03:14:22.632Z"
   },
   {
    "duration": 5,
    "start_time": "2023-08-08T03:14:31.646Z"
   },
   {
    "duration": 21,
    "start_time": "2023-08-08T03:14:47.349Z"
   },
   {
    "duration": 21,
    "start_time": "2023-08-08T03:17:27.535Z"
   },
   {
    "duration": 21,
    "start_time": "2023-08-08T03:18:23.318Z"
   },
   {
    "duration": 167,
    "start_time": "2023-08-08T03:18:31.758Z"
   },
   {
    "duration": 4265,
    "start_time": "2023-08-08T03:18:43.766Z"
   },
   {
    "duration": 26,
    "start_time": "2023-08-08T04:11:49.078Z"
   },
   {
    "duration": 27,
    "start_time": "2023-08-08T04:11:52.372Z"
   },
   {
    "duration": 130,
    "start_time": "2023-08-08T04:12:08.906Z"
   },
   {
    "duration": 24,
    "start_time": "2023-08-08T04:12:47.153Z"
   },
   {
    "duration": 30,
    "start_time": "2023-08-08T04:12:49.669Z"
   },
   {
    "duration": 31,
    "start_time": "2023-08-08T04:13:33.559Z"
   },
   {
    "duration": 1229,
    "start_time": "2023-08-08T04:13:40.866Z"
   },
   {
    "duration": 158,
    "start_time": "2023-08-08T04:13:42.098Z"
   },
   {
    "duration": 11,
    "start_time": "2023-08-08T04:13:42.258Z"
   },
   {
    "duration": 87,
    "start_time": "2023-08-08T04:13:42.270Z"
   },
   {
    "duration": 14,
    "start_time": "2023-08-08T04:13:42.359Z"
   },
   {
    "duration": 39,
    "start_time": "2023-08-08T04:13:42.375Z"
   },
   {
    "duration": 13,
    "start_time": "2023-08-08T04:13:42.416Z"
   },
   {
    "duration": 11,
    "start_time": "2023-08-08T04:13:42.430Z"
   },
   {
    "duration": 10,
    "start_time": "2023-08-08T04:13:42.443Z"
   },
   {
    "duration": 6,
    "start_time": "2023-08-08T04:13:42.454Z"
   },
   {
    "duration": 40,
    "start_time": "2023-08-08T04:13:42.462Z"
   },
   {
    "duration": 5,
    "start_time": "2023-08-08T04:13:42.503Z"
   },
   {
    "duration": 25,
    "start_time": "2023-08-08T04:13:42.509Z"
   },
   {
    "duration": 59,
    "start_time": "2023-08-08T04:13:42.537Z"
   },
   {
    "duration": 368,
    "start_time": "2023-08-08T04:13:42.598Z"
   },
   {
    "duration": 29,
    "start_time": "2023-08-08T04:13:42.967Z"
   },
   {
    "duration": 199,
    "start_time": "2023-08-08T04:13:42.998Z"
   },
   {
    "duration": 24,
    "start_time": "2023-08-08T04:13:43.198Z"
   },
   {
    "duration": 211,
    "start_time": "2023-08-08T04:13:43.223Z"
   },
   {
    "duration": 25,
    "start_time": "2023-08-08T04:13:43.435Z"
   },
   {
    "duration": 1011,
    "start_time": "2023-08-08T04:13:43.461Z"
   },
   {
    "duration": 25,
    "start_time": "2023-08-08T04:13:44.474Z"
   },
   {
    "duration": 29,
    "start_time": "2023-08-08T04:13:44.500Z"
   },
   {
    "duration": 20,
    "start_time": "2023-08-08T04:13:44.531Z"
   },
   {
    "duration": 45,
    "start_time": "2023-08-08T04:13:44.552Z"
   },
   {
    "duration": 243,
    "start_time": "2023-08-08T04:13:44.600Z"
   },
   {
    "duration": 22,
    "start_time": "2023-08-08T04:13:44.845Z"
   },
   {
    "duration": 205,
    "start_time": "2023-08-08T04:13:44.870Z"
   },
   {
    "duration": 30,
    "start_time": "2023-08-08T04:13:45.077Z"
   },
   {
    "duration": 276,
    "start_time": "2023-08-08T04:13:45.109Z"
   },
   {
    "duration": 31,
    "start_time": "2023-08-08T04:13:45.396Z"
   },
   {
    "duration": 168,
    "start_time": "2023-08-08T04:13:45.429Z"
   },
   {
    "duration": 22,
    "start_time": "2023-08-08T04:13:45.598Z"
   },
   {
    "duration": 179,
    "start_time": "2023-08-08T04:13:45.622Z"
   },
   {
    "duration": 2540,
    "start_time": "2023-08-08T04:13:45.803Z"
   },
   {
    "duration": 22,
    "start_time": "2023-08-08T04:14:08.181Z"
   },
   {
    "duration": 20,
    "start_time": "2023-08-08T04:14:16.436Z"
   },
   {
    "duration": 155,
    "start_time": "2023-08-08T04:14:18.740Z"
   },
   {
    "duration": 47,
    "start_time": "2023-08-08T13:06:07.297Z"
   },
   {
    "duration": 1524,
    "start_time": "2023-08-08T13:06:16.459Z"
   },
   {
    "duration": 147,
    "start_time": "2023-08-08T13:06:17.986Z"
   },
   {
    "duration": 14,
    "start_time": "2023-08-08T13:06:18.134Z"
   },
   {
    "duration": 42,
    "start_time": "2023-08-08T13:06:18.151Z"
   },
   {
    "duration": 20,
    "start_time": "2023-08-08T13:06:18.209Z"
   },
   {
    "duration": 156,
    "start_time": "2023-08-08T13:06:18.231Z"
   },
   {
    "duration": 13,
    "start_time": "2023-08-08T13:06:18.390Z"
   },
   {
    "duration": 35,
    "start_time": "2023-08-08T13:06:18.406Z"
   },
   {
    "duration": 27,
    "start_time": "2023-08-08T13:06:18.442Z"
   },
   {
    "duration": 21,
    "start_time": "2023-08-08T13:06:18.472Z"
   },
   {
    "duration": 25,
    "start_time": "2023-08-08T13:06:18.495Z"
   },
   {
    "duration": 44,
    "start_time": "2023-08-08T13:06:18.522Z"
   },
   {
    "duration": 32,
    "start_time": "2023-08-08T13:06:18.568Z"
   },
   {
    "duration": 17,
    "start_time": "2023-08-08T13:06:18.602Z"
   },
   {
    "duration": 38,
    "start_time": "2023-08-08T13:06:18.621Z"
   },
   {
    "duration": 361,
    "start_time": "2023-08-08T13:06:18.661Z"
   },
   {
    "duration": 24,
    "start_time": "2023-08-08T13:06:19.024Z"
   },
   {
    "duration": 192,
    "start_time": "2023-08-08T13:06:19.050Z"
   },
   {
    "duration": 21,
    "start_time": "2023-08-08T13:06:19.243Z"
   },
   {
    "duration": 183,
    "start_time": "2023-08-08T13:06:19.266Z"
   },
   {
    "duration": 25,
    "start_time": "2023-08-08T13:06:19.451Z"
   },
   {
    "duration": 996,
    "start_time": "2023-08-08T13:06:19.479Z"
   },
   {
    "duration": 20,
    "start_time": "2023-08-08T13:06:20.477Z"
   },
   {
    "duration": 74,
    "start_time": "2023-08-08T13:06:20.498Z"
   },
   {
    "duration": 29,
    "start_time": "2023-08-08T13:06:20.574Z"
   },
   {
    "duration": 22,
    "start_time": "2023-08-08T13:06:20.605Z"
   },
   {
    "duration": 172,
    "start_time": "2023-08-08T13:06:20.629Z"
   },
   {
    "duration": 21,
    "start_time": "2023-08-08T13:06:20.804Z"
   },
   {
    "duration": 269,
    "start_time": "2023-08-08T13:06:20.827Z"
   },
   {
    "duration": 28,
    "start_time": "2023-08-08T13:06:21.097Z"
   },
   {
    "duration": 405,
    "start_time": "2023-08-08T13:06:21.127Z"
   },
   {
    "duration": 43,
    "start_time": "2023-08-08T13:06:21.534Z"
   },
   {
    "duration": 159,
    "start_time": "2023-08-08T13:06:21.579Z"
   },
   {
    "duration": 20,
    "start_time": "2023-08-08T13:06:21.739Z"
   },
   {
    "duration": 167,
    "start_time": "2023-08-08T13:06:21.761Z"
   },
   {
    "duration": 112,
    "start_time": "2023-08-08T13:06:21.930Z"
   },
   {
    "duration": 0,
    "start_time": "2023-08-08T13:06:22.043Z"
   },
   {
    "duration": 10,
    "start_time": "2023-08-08T13:06:30.877Z"
   },
   {
    "duration": 32,
    "start_time": "2023-08-08T13:06:41.858Z"
   },
   {
    "duration": 2517,
    "start_time": "2023-08-08T13:11:54.374Z"
   },
   {
    "duration": 9,
    "start_time": "2023-08-08T13:31:46.906Z"
   },
   {
    "duration": 9,
    "start_time": "2023-08-08T13:31:56.827Z"
   },
   {
    "duration": 231,
    "start_time": "2023-08-08T13:32:18.075Z"
   },
   {
    "duration": 9,
    "start_time": "2023-08-08T13:34:42.709Z"
   },
   {
    "duration": 8,
    "start_time": "2023-08-08T13:36:55.108Z"
   },
   {
    "duration": 11,
    "start_time": "2023-08-08T13:37:25.995Z"
   },
   {
    "duration": 1395,
    "start_time": "2023-08-09T01:24:29.113Z"
   },
   {
    "duration": 153,
    "start_time": "2023-08-09T01:24:30.511Z"
   },
   {
    "duration": 15,
    "start_time": "2023-08-09T01:24:30.667Z"
   },
   {
    "duration": 208,
    "start_time": "2023-08-09T01:24:30.685Z"
   },
   {
    "duration": 17,
    "start_time": "2023-08-09T01:24:30.895Z"
   },
   {
    "duration": 91,
    "start_time": "2023-08-09T01:24:30.914Z"
   },
   {
    "duration": 17,
    "start_time": "2023-08-09T01:24:31.006Z"
   },
   {
    "duration": 33,
    "start_time": "2023-08-09T01:24:31.025Z"
   },
   {
    "duration": 22,
    "start_time": "2023-08-09T01:24:31.060Z"
   },
   {
    "duration": 26,
    "start_time": "2023-08-09T01:24:31.085Z"
   },
   {
    "duration": 25,
    "start_time": "2023-08-09T01:24:31.113Z"
   },
   {
    "duration": 5,
    "start_time": "2023-08-09T01:24:31.140Z"
   },
   {
    "duration": 27,
    "start_time": "2023-08-09T01:24:31.147Z"
   },
   {
    "duration": 16,
    "start_time": "2023-08-09T01:24:31.176Z"
   },
   {
    "duration": 46,
    "start_time": "2023-08-09T01:24:31.196Z"
   },
   {
    "duration": 379,
    "start_time": "2023-08-09T01:24:31.244Z"
   },
   {
    "duration": 22,
    "start_time": "2023-08-09T01:24:31.625Z"
   },
   {
    "duration": 204,
    "start_time": "2023-08-09T01:24:31.648Z"
   },
   {
    "duration": 21,
    "start_time": "2023-08-09T01:24:31.854Z"
   },
   {
    "duration": 187,
    "start_time": "2023-08-09T01:24:31.877Z"
   },
   {
    "duration": 45,
    "start_time": "2023-08-09T01:24:32.066Z"
   },
   {
    "duration": 1107,
    "start_time": "2023-08-09T01:24:32.113Z"
   },
   {
    "duration": 18,
    "start_time": "2023-08-09T01:24:33.222Z"
   },
   {
    "duration": 28,
    "start_time": "2023-08-09T01:24:33.241Z"
   },
   {
    "duration": 44,
    "start_time": "2023-08-09T01:24:33.270Z"
   },
   {
    "duration": 20,
    "start_time": "2023-08-09T01:24:33.315Z"
   },
   {
    "duration": 191,
    "start_time": "2023-08-09T01:24:33.337Z"
   },
   {
    "duration": 19,
    "start_time": "2023-08-09T01:24:33.531Z"
   },
   {
    "duration": 205,
    "start_time": "2023-08-09T01:24:33.551Z"
   },
   {
    "duration": 18,
    "start_time": "2023-08-09T01:24:33.758Z"
   },
   {
    "duration": 248,
    "start_time": "2023-08-09T01:24:33.777Z"
   },
   {
    "duration": 20,
    "start_time": "2023-08-09T01:24:34.027Z"
   },
   {
    "duration": 165,
    "start_time": "2023-08-09T01:24:34.048Z"
   },
   {
    "duration": 26,
    "start_time": "2023-08-09T01:24:34.215Z"
   },
   {
    "duration": 189,
    "start_time": "2023-08-09T01:24:34.243Z"
   },
   {
    "duration": 29,
    "start_time": "2023-08-09T01:24:34.434Z"
   },
   {
    "duration": 2444,
    "start_time": "2023-08-09T01:24:34.466Z"
   },
   {
    "duration": 9,
    "start_time": "2023-08-09T01:24:36.911Z"
   },
   {
    "duration": 10,
    "start_time": "2023-08-09T01:24:36.922Z"
   },
   {
    "duration": 10,
    "start_time": "2023-08-09T01:24:36.934Z"
   },
   {
    "duration": 26,
    "start_time": "2023-08-09T01:42:30.727Z"
   },
   {
    "duration": 18,
    "start_time": "2023-08-09T01:42:50.249Z"
   },
   {
    "duration": 30,
    "start_time": "2023-08-09T01:43:20.006Z"
   },
   {
    "duration": 105,
    "start_time": "2023-08-09T01:52:39.926Z"
   },
   {
    "duration": 395,
    "start_time": "2023-08-09T01:52:56.657Z"
   },
   {
    "duration": 15143,
    "start_time": "2023-08-09T01:53:09.391Z"
   },
   {
    "duration": 14929,
    "start_time": "2023-08-09T01:53:28.954Z"
   },
   {
    "duration": 46,
    "start_time": "2023-08-09T01:53:59.943Z"
   },
   {
    "duration": 33,
    "start_time": "2023-08-09T01:54:38.709Z"
   },
   {
    "duration": 42,
    "start_time": "2023-08-09T01:55:29.120Z"
   },
   {
    "duration": 2272,
    "start_time": "2023-08-09T01:58:32.172Z"
   },
   {
    "duration": 2551,
    "start_time": "2023-08-09T02:09:29.797Z"
   },
   {
    "duration": 8,
    "start_time": "2023-08-09T02:16:44.114Z"
   },
   {
    "duration": 9,
    "start_time": "2023-08-09T02:17:45.814Z"
   },
   {
    "duration": 9,
    "start_time": "2023-08-09T02:18:54.909Z"
   },
   {
    "duration": 31,
    "start_time": "2023-08-09T02:30:37.829Z"
   },
   {
    "duration": 39,
    "start_time": "2023-08-09T02:34:00.364Z"
   },
   {
    "duration": 7027,
    "start_time": "2023-08-09T02:40:35.770Z"
   },
   {
    "duration": 1190,
    "start_time": "2023-08-09T02:41:17.566Z"
   },
   {
    "duration": 178,
    "start_time": "2023-08-09T02:41:18.758Z"
   },
   {
    "duration": 13,
    "start_time": "2023-08-09T02:41:18.938Z"
   },
   {
    "duration": 40,
    "start_time": "2023-08-09T02:41:18.954Z"
   },
   {
    "duration": 11,
    "start_time": "2023-08-09T02:41:18.995Z"
   },
   {
    "duration": 35,
    "start_time": "2023-08-09T02:41:19.008Z"
   },
   {
    "duration": 13,
    "start_time": "2023-08-09T02:41:19.045Z"
   },
   {
    "duration": 10,
    "start_time": "2023-08-09T02:41:19.059Z"
   },
   {
    "duration": 28,
    "start_time": "2023-08-09T02:41:19.070Z"
   },
   {
    "duration": 9,
    "start_time": "2023-08-09T02:41:19.101Z"
   },
   {
    "duration": 7,
    "start_time": "2023-08-09T02:41:19.112Z"
   },
   {
    "duration": 4,
    "start_time": "2023-08-09T02:41:19.121Z"
   },
   {
    "duration": 22,
    "start_time": "2023-08-09T02:41:19.127Z"
   },
   {
    "duration": 48,
    "start_time": "2023-08-09T02:41:19.151Z"
   },
   {
    "duration": 26,
    "start_time": "2023-08-09T02:41:19.201Z"
   },
   {
    "duration": 349,
    "start_time": "2023-08-09T02:41:19.228Z"
   },
   {
    "duration": 26,
    "start_time": "2023-08-09T02:41:19.579Z"
   },
   {
    "duration": 179,
    "start_time": "2023-08-09T02:41:19.607Z"
   },
   {
    "duration": 26,
    "start_time": "2023-08-09T02:41:19.787Z"
   },
   {
    "duration": 155,
    "start_time": "2023-08-09T02:41:19.815Z"
   },
   {
    "duration": 34,
    "start_time": "2023-08-09T02:41:19.971Z"
   },
   {
    "duration": 944,
    "start_time": "2023-08-09T02:41:20.006Z"
   },
   {
    "duration": 21,
    "start_time": "2023-08-09T02:41:20.952Z"
   },
   {
    "duration": 39,
    "start_time": "2023-08-09T02:41:20.975Z"
   },
   {
    "duration": 18,
    "start_time": "2023-08-09T02:41:21.016Z"
   },
   {
    "duration": 18,
    "start_time": "2023-08-09T02:41:21.036Z"
   },
   {
    "duration": 177,
    "start_time": "2023-08-09T02:41:21.055Z"
   },
   {
    "duration": 19,
    "start_time": "2023-08-09T02:41:21.235Z"
   },
   {
    "duration": 195,
    "start_time": "2023-08-09T02:41:21.256Z"
   },
   {
    "duration": 27,
    "start_time": "2023-08-09T02:41:21.453Z"
   },
   {
    "duration": 226,
    "start_time": "2023-08-09T02:41:21.481Z"
   },
   {
    "duration": 18,
    "start_time": "2023-08-09T02:41:21.709Z"
   },
   {
    "duration": 151,
    "start_time": "2023-08-09T02:41:21.728Z"
   },
   {
    "duration": 27,
    "start_time": "2023-08-09T02:41:21.881Z"
   },
   {
    "duration": 151,
    "start_time": "2023-08-09T02:41:21.910Z"
   },
   {
    "duration": 44,
    "start_time": "2023-08-09T02:41:22.063Z"
   },
   {
    "duration": 2418,
    "start_time": "2023-08-09T02:41:22.109Z"
   },
   {
    "duration": 7188,
    "start_time": "2023-08-09T02:41:24.528Z"
   },
   {
    "duration": 2770,
    "start_time": "2023-08-09T02:41:31.717Z"
   },
   {
    "duration": 9,
    "start_time": "2023-08-09T02:41:34.489Z"
   },
   {
    "duration": 10,
    "start_time": "2023-08-09T02:41:34.499Z"
   },
   {
    "duration": 22,
    "start_time": "2023-08-09T02:41:34.511Z"
   },
   {
    "duration": 407,
    "start_time": "2023-08-09T02:43:02.362Z"
   },
   {
    "duration": 72,
    "start_time": "2023-08-09T03:22:51.510Z"
   },
   {
    "duration": 69,
    "start_time": "2023-08-09T03:23:06.994Z"
   },
   {
    "duration": 1620,
    "start_time": "2023-08-09T03:23:27.515Z"
   },
   {
    "duration": 27,
    "start_time": "2023-08-09T03:23:51.334Z"
   },
   {
    "duration": 58,
    "start_time": "2023-08-09T03:24:51.697Z"
   },
   {
    "duration": 23,
    "start_time": "2023-08-09T03:25:17.868Z"
   },
   {
    "duration": 23,
    "start_time": "2023-08-09T03:25:30.663Z"
   },
   {
    "duration": 44,
    "start_time": "2023-08-09T03:28:22.659Z"
   },
   {
    "duration": 40,
    "start_time": "2023-08-09T03:28:55.572Z"
   },
   {
    "duration": 43,
    "start_time": "2023-08-09T03:29:22.364Z"
   },
   {
    "duration": 48,
    "start_time": "2023-08-09T03:29:45.646Z"
   },
   {
    "duration": 58,
    "start_time": "2023-08-09T03:30:04.249Z"
   },
   {
    "duration": 50,
    "start_time": "2023-08-09T03:30:32.937Z"
   },
   {
    "duration": 43,
    "start_time": "2023-08-09T03:31:04.409Z"
   },
   {
    "duration": 22,
    "start_time": "2023-08-09T03:31:28.802Z"
   },
   {
    "duration": 23,
    "start_time": "2023-08-09T03:32:04.343Z"
   },
   {
    "duration": 48,
    "start_time": "2023-08-09T03:34:24.986Z"
   },
   {
    "duration": 71,
    "start_time": "2023-08-09T03:34:56.336Z"
   },
   {
    "duration": 67,
    "start_time": "2023-08-09T03:35:37.724Z"
   },
   {
    "duration": 44,
    "start_time": "2023-08-09T03:35:59.633Z"
   },
   {
    "duration": 61,
    "start_time": "2023-08-09T03:36:41.130Z"
   },
   {
    "duration": 47,
    "start_time": "2023-08-09T03:37:37.150Z"
   },
   {
    "duration": 45,
    "start_time": "2023-08-09T03:38:35.038Z"
   },
   {
    "duration": 46,
    "start_time": "2023-08-09T03:39:15.975Z"
   },
   {
    "duration": 47,
    "start_time": "2023-08-09T03:39:20.231Z"
   },
   {
    "duration": 23,
    "start_time": "2023-08-09T03:40:23.498Z"
   },
   {
    "duration": 43,
    "start_time": "2023-08-09T03:42:32.458Z"
   },
   {
    "duration": 26,
    "start_time": "2023-08-09T03:42:48.722Z"
   },
   {
    "duration": 28,
    "start_time": "2023-08-09T03:43:38.765Z"
   },
   {
    "duration": 19,
    "start_time": "2023-08-09T03:55:00.884Z"
   },
   {
    "duration": 62,
    "start_time": "2023-08-09T03:56:18.740Z"
   },
   {
    "duration": 22,
    "start_time": "2023-08-09T03:56:29.359Z"
   },
   {
    "duration": 27,
    "start_time": "2023-08-09T03:56:48.102Z"
   },
   {
    "duration": 1596,
    "start_time": "2023-08-09T10:41:15.164Z"
   },
   {
    "duration": 123,
    "start_time": "2023-08-09T10:41:16.762Z"
   },
   {
    "duration": 14,
    "start_time": "2023-08-09T10:41:16.886Z"
   },
   {
    "duration": 46,
    "start_time": "2023-08-09T10:41:16.903Z"
   },
   {
    "duration": 17,
    "start_time": "2023-08-09T10:41:16.967Z"
   },
   {
    "duration": 39,
    "start_time": "2023-08-09T10:41:16.986Z"
   },
   {
    "duration": 13,
    "start_time": "2023-08-09T10:41:17.028Z"
   },
   {
    "duration": 14,
    "start_time": "2023-08-09T10:41:17.069Z"
   },
   {
    "duration": 16,
    "start_time": "2023-08-09T10:41:17.085Z"
   },
   {
    "duration": 6,
    "start_time": "2023-08-09T10:41:17.103Z"
   },
   {
    "duration": 8,
    "start_time": "2023-08-09T10:41:17.111Z"
   },
   {
    "duration": 47,
    "start_time": "2023-08-09T10:41:17.120Z"
   },
   {
    "duration": 25,
    "start_time": "2023-08-09T10:41:17.169Z"
   },
   {
    "duration": 15,
    "start_time": "2023-08-09T10:41:17.195Z"
   },
   {
    "duration": 56,
    "start_time": "2023-08-09T10:41:17.212Z"
   },
   {
    "duration": 424,
    "start_time": "2023-08-09T10:41:17.271Z"
   },
   {
    "duration": 23,
    "start_time": "2023-08-09T10:41:17.697Z"
   },
   {
    "duration": 198,
    "start_time": "2023-08-09T10:41:17.722Z"
   },
   {
    "duration": 22,
    "start_time": "2023-08-09T10:41:17.922Z"
   },
   {
    "duration": 171,
    "start_time": "2023-08-09T10:41:17.946Z"
   },
   {
    "duration": 25,
    "start_time": "2023-08-09T10:41:18.119Z"
   },
   {
    "duration": 1094,
    "start_time": "2023-08-09T10:41:18.146Z"
   },
   {
    "duration": 29,
    "start_time": "2023-08-09T10:41:19.242Z"
   },
   {
    "duration": 33,
    "start_time": "2023-08-09T10:41:19.273Z"
   },
   {
    "duration": 22,
    "start_time": "2023-08-09T10:41:19.308Z"
   },
   {
    "duration": 49,
    "start_time": "2023-08-09T10:41:19.332Z"
   },
   {
    "duration": 193,
    "start_time": "2023-08-09T10:41:19.383Z"
   },
   {
    "duration": 22,
    "start_time": "2023-08-09T10:41:19.580Z"
   },
   {
    "duration": 220,
    "start_time": "2023-08-09T10:41:19.604Z"
   },
   {
    "duration": 22,
    "start_time": "2023-08-09T10:41:19.826Z"
   },
   {
    "duration": 298,
    "start_time": "2023-08-09T10:41:19.849Z"
   },
   {
    "duration": 37,
    "start_time": "2023-08-09T10:41:20.148Z"
   },
   {
    "duration": 171,
    "start_time": "2023-08-09T10:41:20.187Z"
   },
   {
    "duration": 27,
    "start_time": "2023-08-09T10:41:20.360Z"
   },
   {
    "duration": 221,
    "start_time": "2023-08-09T10:41:20.390Z"
   },
   {
    "duration": 54,
    "start_time": "2023-08-09T10:41:20.613Z"
   },
   {
    "duration": 2593,
    "start_time": "2023-08-09T10:41:20.669Z"
   },
   {
    "duration": 515,
    "start_time": "2023-08-09T10:41:23.264Z"
   },
   {
    "duration": 2544,
    "start_time": "2023-08-09T10:41:23.781Z"
   },
   {
    "duration": 116,
    "start_time": "2023-08-09T10:41:26.328Z"
   },
   {
    "duration": 0,
    "start_time": "2023-08-09T10:41:26.445Z"
   },
   {
    "duration": 0,
    "start_time": "2023-08-09T10:41:26.446Z"
   },
   {
    "duration": 0,
    "start_time": "2023-08-09T10:41:26.448Z"
   },
   {
    "duration": 0,
    "start_time": "2023-08-09T10:41:26.449Z"
   },
   {
    "duration": 0,
    "start_time": "2023-08-09T10:41:26.450Z"
   },
   {
    "duration": 2533,
    "start_time": "2023-08-09T10:42:22.883Z"
   },
   {
    "duration": 559,
    "start_time": "2023-08-09T10:42:29.070Z"
   },
   {
    "duration": 1351,
    "start_time": "2023-08-10T11:00:19.861Z"
   },
   {
    "duration": 133,
    "start_time": "2023-08-10T11:00:21.214Z"
   },
   {
    "duration": 13,
    "start_time": "2023-08-10T11:00:21.349Z"
   },
   {
    "duration": 74,
    "start_time": "2023-08-10T11:00:21.363Z"
   },
   {
    "duration": 12,
    "start_time": "2023-08-10T11:00:21.439Z"
   },
   {
    "duration": 69,
    "start_time": "2023-08-10T11:00:21.453Z"
   },
   {
    "duration": 13,
    "start_time": "2023-08-10T11:00:21.525Z"
   },
   {
    "duration": 36,
    "start_time": "2023-08-10T11:00:21.540Z"
   },
   {
    "duration": 138,
    "start_time": "2023-08-10T11:00:21.578Z"
   },
   {
    "duration": 32,
    "start_time": "2023-08-10T11:00:21.718Z"
   },
   {
    "duration": 24,
    "start_time": "2023-08-10T11:00:21.752Z"
   },
   {
    "duration": 26,
    "start_time": "2023-08-10T11:00:21.778Z"
   },
   {
    "duration": 45,
    "start_time": "2023-08-10T11:00:21.806Z"
   },
   {
    "duration": 14,
    "start_time": "2023-08-10T11:00:21.854Z"
   },
   {
    "duration": 33,
    "start_time": "2023-08-10T11:00:21.870Z"
   },
   {
    "duration": 362,
    "start_time": "2023-08-10T11:00:21.904Z"
   },
   {
    "duration": 21,
    "start_time": "2023-08-10T11:00:22.267Z"
   },
   {
    "duration": 204,
    "start_time": "2023-08-10T11:00:22.290Z"
   },
   {
    "duration": 25,
    "start_time": "2023-08-10T11:00:22.496Z"
   },
   {
    "duration": 199,
    "start_time": "2023-08-10T11:00:22.523Z"
   },
   {
    "duration": 31,
    "start_time": "2023-08-10T11:00:22.724Z"
   },
   {
    "duration": 993,
    "start_time": "2023-08-10T11:00:22.757Z"
   },
   {
    "duration": 23,
    "start_time": "2023-08-10T11:00:23.751Z"
   },
   {
    "duration": 44,
    "start_time": "2023-08-10T11:00:23.776Z"
   },
   {
    "duration": 20,
    "start_time": "2023-08-10T11:00:23.822Z"
   },
   {
    "duration": 24,
    "start_time": "2023-08-10T11:00:23.844Z"
   },
   {
    "duration": 166,
    "start_time": "2023-08-10T11:00:23.870Z"
   },
   {
    "duration": 29,
    "start_time": "2023-08-10T11:00:24.037Z"
   },
   {
    "duration": 231,
    "start_time": "2023-08-10T11:00:24.068Z"
   },
   {
    "duration": 21,
    "start_time": "2023-08-10T11:00:24.301Z"
   },
   {
    "duration": 256,
    "start_time": "2023-08-10T11:00:24.324Z"
   },
   {
    "duration": 20,
    "start_time": "2023-08-10T11:00:24.582Z"
   },
   {
    "duration": 165,
    "start_time": "2023-08-10T11:00:24.603Z"
   },
   {
    "duration": 19,
    "start_time": "2023-08-10T11:00:24.770Z"
   },
   {
    "duration": 164,
    "start_time": "2023-08-10T11:00:24.791Z"
   },
   {
    "duration": 40,
    "start_time": "2023-08-10T11:00:24.957Z"
   },
   {
    "duration": 2633,
    "start_time": "2023-08-10T11:00:24.998Z"
   },
   {
    "duration": 451,
    "start_time": "2023-08-10T11:00:27.632Z"
   },
   {
    "duration": 2311,
    "start_time": "2023-08-10T11:00:28.085Z"
   },
   {
    "duration": 457,
    "start_time": "2023-08-10T11:00:30.398Z"
   },
   {
    "duration": 8,
    "start_time": "2023-08-10T11:00:30.859Z"
   },
   {
    "duration": 36,
    "start_time": "2023-08-10T11:00:30.869Z"
   },
   {
    "duration": 27,
    "start_time": "2023-08-10T11:00:30.907Z"
   },
   {
    "duration": 49,
    "start_time": "2023-08-10T11:00:30.936Z"
   },
   {
    "duration": 86,
    "start_time": "2023-08-10T11:00:30.987Z"
   },
   {
    "duration": 163,
    "start_time": "2023-08-10T11:29:49.877Z"
   },
   {
    "duration": 164,
    "start_time": "2023-08-10T11:30:18.372Z"
   },
   {
    "duration": 1208,
    "start_time": "2023-08-10T11:30:28.762Z"
   },
   {
    "duration": 114,
    "start_time": "2023-08-10T11:30:29.972Z"
   },
   {
    "duration": 13,
    "start_time": "2023-08-10T11:30:30.087Z"
   },
   {
    "duration": 90,
    "start_time": "2023-08-10T11:30:30.102Z"
   },
   {
    "duration": 20,
    "start_time": "2023-08-10T11:30:30.194Z"
   },
   {
    "duration": 61,
    "start_time": "2023-08-10T11:30:30.216Z"
   },
   {
    "duration": 22,
    "start_time": "2023-08-10T11:30:30.278Z"
   },
   {
    "duration": 54,
    "start_time": "2023-08-10T11:30:30.302Z"
   },
   {
    "duration": 51,
    "start_time": "2023-08-10T11:30:30.357Z"
   },
   {
    "duration": 58,
    "start_time": "2023-08-10T11:30:30.410Z"
   },
   {
    "duration": 115,
    "start_time": "2023-08-10T11:30:30.469Z"
   },
   {
    "duration": 88,
    "start_time": "2023-08-10T11:30:30.586Z"
   },
   {
    "duration": 70,
    "start_time": "2023-08-10T11:30:30.675Z"
   },
   {
    "duration": 71,
    "start_time": "2023-08-10T11:30:30.748Z"
   },
   {
    "duration": 162,
    "start_time": "2023-08-10T11:30:30.821Z"
   },
   {
    "duration": 346,
    "start_time": "2023-08-10T11:30:30.984Z"
   },
   {
    "duration": 26,
    "start_time": "2023-08-10T11:30:31.332Z"
   },
   {
    "duration": 182,
    "start_time": "2023-08-10T11:30:31.359Z"
   },
   {
    "duration": 27,
    "start_time": "2023-08-10T11:30:31.543Z"
   },
   {
    "duration": 161,
    "start_time": "2023-08-10T11:30:31.573Z"
   },
   {
    "duration": 30,
    "start_time": "2023-08-10T11:30:31.736Z"
   },
   {
    "duration": 1100,
    "start_time": "2023-08-10T11:30:31.768Z"
   },
   {
    "duration": 22,
    "start_time": "2023-08-10T11:30:32.870Z"
   },
   {
    "duration": 46,
    "start_time": "2023-08-10T11:30:32.895Z"
   },
   {
    "duration": 22,
    "start_time": "2023-08-10T11:30:32.953Z"
   },
   {
    "duration": 22,
    "start_time": "2023-08-10T11:30:32.977Z"
   },
   {
    "duration": 198,
    "start_time": "2023-08-10T11:30:33.001Z"
   },
   {
    "duration": 20,
    "start_time": "2023-08-10T11:30:33.201Z"
   },
   {
    "duration": 195,
    "start_time": "2023-08-10T11:30:33.223Z"
   },
   {
    "duration": 19,
    "start_time": "2023-08-10T11:30:33.420Z"
   },
   {
    "duration": 244,
    "start_time": "2023-08-10T11:30:33.440Z"
   },
   {
    "duration": 20,
    "start_time": "2023-08-10T11:30:33.685Z"
   },
   {
    "duration": 155,
    "start_time": "2023-08-10T11:30:33.707Z"
   },
   {
    "duration": 19,
    "start_time": "2023-08-10T11:30:33.864Z"
   },
   {
    "duration": 166,
    "start_time": "2023-08-10T11:30:33.885Z"
   },
   {
    "duration": 52,
    "start_time": "2023-08-10T11:30:34.053Z"
   },
   {
    "duration": 2426,
    "start_time": "2023-08-10T11:30:34.108Z"
   },
   {
    "duration": 482,
    "start_time": "2023-08-10T11:30:36.536Z"
   },
   {
    "duration": 2419,
    "start_time": "2023-08-10T11:30:37.020Z"
   },
   {
    "duration": 9,
    "start_time": "2023-08-10T11:30:39.441Z"
   },
   {
    "duration": 11,
    "start_time": "2023-08-10T11:30:39.454Z"
   },
   {
    "duration": 21,
    "start_time": "2023-08-10T11:30:39.467Z"
   },
   {
    "duration": 61,
    "start_time": "2023-08-10T11:30:39.490Z"
   },
   {
    "duration": 51,
    "start_time": "2023-08-10T11:30:39.553Z"
   },
   {
    "duration": 1166,
    "start_time": "2023-08-10T16:42:23.165Z"
   },
   {
    "duration": 110,
    "start_time": "2023-08-10T16:42:24.336Z"
   },
   {
    "duration": 13,
    "start_time": "2023-08-10T16:42:24.448Z"
   },
   {
    "duration": 50,
    "start_time": "2023-08-10T16:42:24.463Z"
   },
   {
    "duration": 13,
    "start_time": "2023-08-10T16:42:24.515Z"
   },
   {
    "duration": 50,
    "start_time": "2023-08-10T16:42:24.530Z"
   },
   {
    "duration": 14,
    "start_time": "2023-08-10T16:42:24.581Z"
   },
   {
    "duration": 24,
    "start_time": "2023-08-10T16:42:24.597Z"
   },
   {
    "duration": 14,
    "start_time": "2023-08-10T16:42:24.624Z"
   },
   {
    "duration": 40,
    "start_time": "2023-08-10T16:42:24.639Z"
   },
   {
    "duration": 18,
    "start_time": "2023-08-10T16:42:24.681Z"
   },
   {
    "duration": 25,
    "start_time": "2023-08-10T16:42:24.701Z"
   },
   {
    "duration": 53,
    "start_time": "2023-08-10T16:42:24.730Z"
   },
   {
    "duration": 15,
    "start_time": "2023-08-10T16:42:24.785Z"
   },
   {
    "duration": 38,
    "start_time": "2023-08-10T16:42:24.801Z"
   },
   {
    "duration": 359,
    "start_time": "2023-08-10T16:42:24.840Z"
   },
   {
    "duration": 22,
    "start_time": "2023-08-10T16:42:25.201Z"
   },
   {
    "duration": 217,
    "start_time": "2023-08-10T16:42:25.225Z"
   },
   {
    "duration": 28,
    "start_time": "2023-08-10T16:42:25.443Z"
   },
   {
    "duration": 171,
    "start_time": "2023-08-10T16:42:25.473Z"
   },
   {
    "duration": 32,
    "start_time": "2023-08-10T16:42:25.646Z"
   },
   {
    "duration": 1031,
    "start_time": "2023-08-10T16:42:25.680Z"
   },
   {
    "duration": 21,
    "start_time": "2023-08-10T16:42:26.712Z"
   },
   {
    "duration": 42,
    "start_time": "2023-08-10T16:42:26.735Z"
   },
   {
    "duration": 20,
    "start_time": "2023-08-10T16:42:26.779Z"
   },
   {
    "duration": 23,
    "start_time": "2023-08-10T16:42:26.800Z"
   },
   {
    "duration": 183,
    "start_time": "2023-08-10T16:42:26.825Z"
   },
   {
    "duration": 21,
    "start_time": "2023-08-10T16:42:27.010Z"
   },
   {
    "duration": 221,
    "start_time": "2023-08-10T16:42:27.037Z"
   },
   {
    "duration": 20,
    "start_time": "2023-08-10T16:42:27.259Z"
   },
   {
    "duration": 256,
    "start_time": "2023-08-10T16:42:27.281Z"
   },
   {
    "duration": 30,
    "start_time": "2023-08-10T16:42:27.538Z"
   },
   {
    "duration": 152,
    "start_time": "2023-08-10T16:42:27.570Z"
   },
   {
    "duration": 18,
    "start_time": "2023-08-10T16:42:27.724Z"
   },
   {
    "duration": 170,
    "start_time": "2023-08-10T16:42:27.743Z"
   },
   {
    "duration": 45,
    "start_time": "2023-08-10T16:42:27.915Z"
   },
   {
    "duration": 2443,
    "start_time": "2023-08-10T16:42:27.962Z"
   },
   {
    "duration": 504,
    "start_time": "2023-08-10T16:42:30.407Z"
   },
   {
    "duration": 2376,
    "start_time": "2023-08-10T16:42:30.913Z"
   },
   {
    "duration": 8,
    "start_time": "2023-08-10T16:42:33.293Z"
   },
   {
    "duration": 8,
    "start_time": "2023-08-10T16:42:33.303Z"
   },
   {
    "duration": 16,
    "start_time": "2023-08-10T16:42:33.312Z"
   },
   {
    "duration": 48,
    "start_time": "2023-08-10T16:42:33.330Z"
   },
   {
    "duration": 28,
    "start_time": "2023-08-10T16:42:33.379Z"
   },
   {
    "duration": 1427,
    "start_time": "2023-08-11T07:37:02.916Z"
   },
   {
    "duration": 120,
    "start_time": "2023-08-11T07:37:04.345Z"
   },
   {
    "duration": 16,
    "start_time": "2023-08-11T07:37:04.467Z"
   },
   {
    "duration": 89,
    "start_time": "2023-08-11T07:37:04.485Z"
   },
   {
    "duration": 28,
    "start_time": "2023-08-11T07:37:04.576Z"
   },
   {
    "duration": 51,
    "start_time": "2023-08-11T07:37:04.605Z"
   },
   {
    "duration": 18,
    "start_time": "2023-08-11T07:37:04.658Z"
   },
   {
    "duration": 30,
    "start_time": "2023-08-11T07:37:04.678Z"
   },
   {
    "duration": 36,
    "start_time": "2023-08-11T07:37:04.709Z"
   },
   {
    "duration": 22,
    "start_time": "2023-08-11T07:37:04.748Z"
   },
   {
    "duration": 13,
    "start_time": "2023-08-11T07:37:04.772Z"
   },
   {
    "duration": 12,
    "start_time": "2023-08-11T07:37:04.789Z"
   },
   {
    "duration": 38,
    "start_time": "2023-08-11T07:37:04.803Z"
   },
   {
    "duration": 17,
    "start_time": "2023-08-11T07:37:04.843Z"
   },
   {
    "duration": 44,
    "start_time": "2023-08-11T07:37:04.862Z"
   },
   {
    "duration": 432,
    "start_time": "2023-08-11T07:37:04.909Z"
   },
   {
    "duration": 21,
    "start_time": "2023-08-11T07:37:05.343Z"
   },
   {
    "duration": 191,
    "start_time": "2023-08-11T07:37:05.366Z"
   },
   {
    "duration": 19,
    "start_time": "2023-08-11T07:37:05.559Z"
   },
   {
    "duration": 156,
    "start_time": "2023-08-11T07:37:05.580Z"
   },
   {
    "duration": 23,
    "start_time": "2023-08-11T07:37:05.738Z"
   },
   {
    "duration": 1016,
    "start_time": "2023-08-11T07:37:05.763Z"
   },
   {
    "duration": 31,
    "start_time": "2023-08-11T07:37:06.780Z"
   },
   {
    "duration": 197,
    "start_time": "2023-08-11T07:37:06.813Z"
   },
   {
    "duration": 37,
    "start_time": "2023-08-11T07:37:07.012Z"
   },
   {
    "duration": 25,
    "start_time": "2023-08-11T07:37:07.051Z"
   },
   {
    "duration": 181,
    "start_time": "2023-08-11T07:37:07.079Z"
   },
   {
    "duration": 19,
    "start_time": "2023-08-11T07:37:07.263Z"
   },
   {
    "duration": 223,
    "start_time": "2023-08-11T07:37:07.287Z"
   },
   {
    "duration": 19,
    "start_time": "2023-08-11T07:37:07.512Z"
   },
   {
    "duration": 268,
    "start_time": "2023-08-11T07:37:07.533Z"
   },
   {
    "duration": 20,
    "start_time": "2023-08-11T07:37:07.803Z"
   },
   {
    "duration": 157,
    "start_time": "2023-08-11T07:37:07.824Z"
   },
   {
    "duration": 28,
    "start_time": "2023-08-11T07:37:07.982Z"
   },
   {
    "duration": 149,
    "start_time": "2023-08-11T07:37:08.012Z"
   },
   {
    "duration": 46,
    "start_time": "2023-08-11T07:37:08.162Z"
   },
   {
    "duration": 2532,
    "start_time": "2023-08-11T07:37:08.209Z"
   },
   {
    "duration": 495,
    "start_time": "2023-08-11T07:37:10.743Z"
   },
   {
    "duration": 2283,
    "start_time": "2023-08-11T07:37:11.239Z"
   },
   {
    "duration": 8,
    "start_time": "2023-08-11T07:37:13.524Z"
   },
   {
    "duration": 38,
    "start_time": "2023-08-11T07:37:13.533Z"
   },
   {
    "duration": 12,
    "start_time": "2023-08-11T07:37:13.572Z"
   },
   {
    "duration": 31,
    "start_time": "2023-08-11T07:37:13.585Z"
   },
   {
    "duration": 27,
    "start_time": "2023-08-11T07:37:13.618Z"
   },
   {
    "duration": 51,
    "start_time": "2023-08-11T08:13:42.980Z"
   },
   {
    "duration": 1393,
    "start_time": "2023-08-11T08:13:51.775Z"
   },
   {
    "duration": 191,
    "start_time": "2023-08-11T08:13:53.170Z"
   },
   {
    "duration": 19,
    "start_time": "2023-08-11T08:13:53.368Z"
   },
   {
    "duration": 57,
    "start_time": "2023-08-11T08:13:53.389Z"
   },
   {
    "duration": 19,
    "start_time": "2023-08-11T08:13:53.448Z"
   },
   {
    "duration": 41,
    "start_time": "2023-08-11T08:13:53.469Z"
   },
   {
    "duration": 14,
    "start_time": "2023-08-11T08:13:53.512Z"
   },
   {
    "duration": 27,
    "start_time": "2023-08-11T08:13:53.528Z"
   },
   {
    "duration": 28,
    "start_time": "2023-08-11T08:13:53.557Z"
   },
   {
    "duration": 13,
    "start_time": "2023-08-11T08:13:53.588Z"
   },
   {
    "duration": 25,
    "start_time": "2023-08-11T08:13:53.603Z"
   },
   {
    "duration": 36,
    "start_time": "2023-08-11T08:13:53.631Z"
   },
   {
    "duration": 12,
    "start_time": "2023-08-11T08:13:53.670Z"
   },
   {
    "duration": 44,
    "start_time": "2023-08-11T08:13:53.684Z"
   },
   {
    "duration": 16,
    "start_time": "2023-08-11T08:13:53.730Z"
   },
   {
    "duration": 45,
    "start_time": "2023-08-11T08:13:53.748Z"
   },
   {
    "duration": 370,
    "start_time": "2023-08-11T08:13:53.795Z"
   },
   {
    "duration": 24,
    "start_time": "2023-08-11T08:13:54.167Z"
   },
   {
    "duration": 205,
    "start_time": "2023-08-11T08:13:54.194Z"
   },
   {
    "duration": 23,
    "start_time": "2023-08-11T08:13:54.401Z"
   },
   {
    "duration": 167,
    "start_time": "2023-08-11T08:13:54.426Z"
   },
   {
    "duration": 26,
    "start_time": "2023-08-11T08:13:54.595Z"
   },
   {
    "duration": 1052,
    "start_time": "2023-08-11T08:13:54.624Z"
   },
   {
    "duration": 22,
    "start_time": "2023-08-11T08:13:55.678Z"
   },
   {
    "duration": 37,
    "start_time": "2023-08-11T08:13:55.702Z"
   },
   {
    "duration": 37,
    "start_time": "2023-08-11T08:13:55.740Z"
   },
   {
    "duration": 22,
    "start_time": "2023-08-11T08:13:55.779Z"
   },
   {
    "duration": 185,
    "start_time": "2023-08-11T08:13:55.805Z"
   },
   {
    "duration": 22,
    "start_time": "2023-08-11T08:13:55.992Z"
   },
   {
    "duration": 216,
    "start_time": "2023-08-11T08:13:56.016Z"
   },
   {
    "duration": 31,
    "start_time": "2023-08-11T08:13:56.234Z"
   },
   {
    "duration": 270,
    "start_time": "2023-08-11T08:13:56.267Z"
   },
   {
    "duration": 30,
    "start_time": "2023-08-11T08:13:56.539Z"
   },
   {
    "duration": 170,
    "start_time": "2023-08-11T08:13:56.571Z"
   },
   {
    "duration": 27,
    "start_time": "2023-08-11T08:13:56.743Z"
   },
   {
    "duration": 163,
    "start_time": "2023-08-11T08:13:56.771Z"
   },
   {
    "duration": 52,
    "start_time": "2023-08-11T08:13:56.935Z"
   },
   {
    "duration": 2615,
    "start_time": "2023-08-11T08:13:56.988Z"
   },
   {
    "duration": 488,
    "start_time": "2023-08-11T08:13:59.604Z"
   },
   {
    "duration": 2496,
    "start_time": "2023-08-11T08:14:00.094Z"
   },
   {
    "duration": 10,
    "start_time": "2023-08-11T08:14:02.592Z"
   },
   {
    "duration": 51,
    "start_time": "2023-08-11T08:14:02.604Z"
   },
   {
    "duration": 26,
    "start_time": "2023-08-11T08:14:02.657Z"
   },
   {
    "duration": 37,
    "start_time": "2023-08-11T08:14:02.685Z"
   },
   {
    "duration": 54,
    "start_time": "2023-08-11T08:14:02.724Z"
   },
   {
    "duration": 107,
    "start_time": "2023-08-11T08:33:41.410Z"
   },
   {
    "duration": 29,
    "start_time": "2023-08-11T08:33:52.606Z"
   },
   {
    "duration": 24,
    "start_time": "2023-08-11T08:34:09.775Z"
   },
   {
    "duration": 25,
    "start_time": "2023-08-11T08:37:58.224Z"
   },
   {
    "duration": 22,
    "start_time": "2023-08-11T08:38:04.848Z"
   },
   {
    "duration": 21,
    "start_time": "2023-08-11T08:38:13.877Z"
   },
   {
    "duration": 19,
    "start_time": "2023-08-11T08:38:23.824Z"
   },
   {
    "duration": 1315,
    "start_time": "2023-08-11T08:38:39.215Z"
   },
   {
    "duration": 112,
    "start_time": "2023-08-11T08:38:40.532Z"
   },
   {
    "duration": 13,
    "start_time": "2023-08-11T08:38:40.646Z"
   },
   {
    "duration": 59,
    "start_time": "2023-08-11T08:38:40.662Z"
   },
   {
    "duration": 15,
    "start_time": "2023-08-11T08:38:40.723Z"
   },
   {
    "duration": 48,
    "start_time": "2023-08-11T08:38:40.739Z"
   },
   {
    "duration": 14,
    "start_time": "2023-08-11T08:38:40.789Z"
   },
   {
    "duration": 16,
    "start_time": "2023-08-11T08:38:40.805Z"
   },
   {
    "duration": 30,
    "start_time": "2023-08-11T08:38:40.822Z"
   },
   {
    "duration": 7,
    "start_time": "2023-08-11T08:38:40.858Z"
   },
   {
    "duration": 45,
    "start_time": "2023-08-11T08:38:40.867Z"
   },
   {
    "duration": 31,
    "start_time": "2023-08-11T08:38:40.914Z"
   },
   {
    "duration": 21,
    "start_time": "2023-08-11T08:38:40.947Z"
   },
   {
    "duration": 11,
    "start_time": "2023-08-11T08:38:40.970Z"
   },
   {
    "duration": 20,
    "start_time": "2023-08-11T08:38:40.982Z"
   },
   {
    "duration": 52,
    "start_time": "2023-08-11T08:38:41.004Z"
   },
   {
    "duration": 18,
    "start_time": "2023-08-11T08:38:41.058Z"
   },
   {
    "duration": 44,
    "start_time": "2023-08-11T08:38:41.078Z"
   },
   {
    "duration": 378,
    "start_time": "2023-08-11T08:38:41.124Z"
   },
   {
    "duration": 25,
    "start_time": "2023-08-11T08:38:41.505Z"
   },
   {
    "duration": 198,
    "start_time": "2023-08-11T08:38:41.532Z"
   },
   {
    "duration": 29,
    "start_time": "2023-08-11T08:38:41.731Z"
   },
   {
    "duration": 166,
    "start_time": "2023-08-11T08:38:41.762Z"
   },
   {
    "duration": 36,
    "start_time": "2023-08-11T08:38:41.930Z"
   },
   {
    "duration": 1051,
    "start_time": "2023-08-11T08:38:41.968Z"
   },
   {
    "duration": 21,
    "start_time": "2023-08-11T08:38:43.022Z"
   },
   {
    "duration": 61,
    "start_time": "2023-08-11T08:38:43.045Z"
   },
   {
    "duration": 26,
    "start_time": "2023-08-11T08:38:43.110Z"
   },
   {
    "duration": 25,
    "start_time": "2023-08-11T08:38:43.138Z"
   },
   {
    "duration": 184,
    "start_time": "2023-08-11T08:38:43.165Z"
   },
   {
    "duration": 30,
    "start_time": "2023-08-11T08:38:43.351Z"
   },
   {
    "duration": 221,
    "start_time": "2023-08-11T08:38:43.383Z"
   },
   {
    "duration": 21,
    "start_time": "2023-08-11T08:38:43.606Z"
   },
   {
    "duration": 284,
    "start_time": "2023-08-11T08:38:43.629Z"
   },
   {
    "duration": 23,
    "start_time": "2023-08-11T08:38:43.915Z"
   },
   {
    "duration": 181,
    "start_time": "2023-08-11T08:38:43.940Z"
   },
   {
    "duration": 37,
    "start_time": "2023-08-11T08:38:44.124Z"
   },
   {
    "duration": 184,
    "start_time": "2023-08-11T08:38:44.163Z"
   },
   {
    "duration": 52,
    "start_time": "2023-08-11T08:38:44.350Z"
   },
   {
    "duration": 2616,
    "start_time": "2023-08-11T08:38:44.404Z"
   },
   {
    "duration": 531,
    "start_time": "2023-08-11T08:38:47.022Z"
   },
   {
    "duration": 2471,
    "start_time": "2023-08-11T08:38:47.555Z"
   },
   {
    "duration": 10,
    "start_time": "2023-08-11T08:38:50.028Z"
   },
   {
    "duration": 57,
    "start_time": "2023-08-11T08:38:50.040Z"
   },
   {
    "duration": 54,
    "start_time": "2023-08-11T08:38:50.099Z"
   },
   {
    "duration": 62,
    "start_time": "2023-08-11T08:38:50.155Z"
   },
   {
    "duration": 51,
    "start_time": "2023-08-11T08:38:50.219Z"
   },
   {
    "duration": 33,
    "start_time": "2023-08-11T08:48:56.608Z"
   },
   {
    "duration": 105,
    "start_time": "2023-08-11T08:59:06.363Z"
   },
   {
    "duration": 424,
    "start_time": "2023-08-11T08:59:11.513Z"
   },
   {
    "duration": 221,
    "start_time": "2023-08-11T08:59:27.282Z"
   },
   {
    "duration": 463,
    "start_time": "2023-08-11T09:00:20.191Z"
   },
   {
    "duration": 12,
    "start_time": "2023-08-11T09:02:51.300Z"
   },
   {
    "duration": 13,
    "start_time": "2023-08-11T09:02:58.882Z"
   },
   {
    "duration": 11,
    "start_time": "2023-08-11T09:04:04.722Z"
   },
   {
    "duration": 30,
    "start_time": "2023-08-11T09:04:20.413Z"
   },
   {
    "duration": 135,
    "start_time": "2023-08-11T09:04:46.558Z"
   },
   {
    "duration": 5,
    "start_time": "2023-08-11T09:04:55.142Z"
   },
   {
    "duration": 99,
    "start_time": "2023-08-11T09:05:21.350Z"
   },
   {
    "duration": 93,
    "start_time": "2023-08-11T09:05:36.457Z"
   },
   {
    "duration": 574,
    "start_time": "2023-08-11T09:06:30.208Z"
   },
   {
    "duration": 43,
    "start_time": "2023-08-11T09:07:12.753Z"
   },
   {
    "duration": 4,
    "start_time": "2023-08-11T09:07:19.390Z"
   },
   {
    "duration": 545,
    "start_time": "2023-08-11T09:07:50.147Z"
   },
   {
    "duration": 304,
    "start_time": "2023-08-11T09:08:02.860Z"
   },
   {
    "duration": 321,
    "start_time": "2023-08-11T09:08:11.122Z"
   },
   {
    "duration": 306,
    "start_time": "2023-08-11T09:08:18.662Z"
   },
   {
    "duration": 1234,
    "start_time": "2023-08-11T09:08:58.328Z"
   },
   {
    "duration": 147,
    "start_time": "2023-08-11T09:08:59.565Z"
   },
   {
    "duration": 13,
    "start_time": "2023-08-11T09:08:59.713Z"
   },
   {
    "duration": 54,
    "start_time": "2023-08-11T09:08:59.728Z"
   },
   {
    "duration": 12,
    "start_time": "2023-08-11T09:08:59.784Z"
   },
   {
    "duration": 38,
    "start_time": "2023-08-11T09:08:59.797Z"
   },
   {
    "duration": 27,
    "start_time": "2023-08-11T09:08:59.837Z"
   },
   {
    "duration": 17,
    "start_time": "2023-08-11T09:08:59.866Z"
   },
   {
    "duration": 15,
    "start_time": "2023-08-11T09:08:59.885Z"
   },
   {
    "duration": 6,
    "start_time": "2023-08-11T09:08:59.902Z"
   },
   {
    "duration": 15,
    "start_time": "2023-08-11T09:08:59.910Z"
   },
   {
    "duration": 35,
    "start_time": "2023-08-11T09:08:59.927Z"
   },
   {
    "duration": 19,
    "start_time": "2023-08-11T09:08:59.963Z"
   },
   {
    "duration": 8,
    "start_time": "2023-08-11T09:08:59.984Z"
   },
   {
    "duration": 13,
    "start_time": "2023-08-11T09:08:59.993Z"
   },
   {
    "duration": 66,
    "start_time": "2023-08-11T09:09:00.008Z"
   },
   {
    "duration": 33,
    "start_time": "2023-08-11T09:09:00.076Z"
   },
   {
    "duration": 48,
    "start_time": "2023-08-11T09:09:00.111Z"
   },
   {
    "duration": 5,
    "start_time": "2023-08-11T09:09:00.161Z"
   },
   {
    "duration": 43,
    "start_time": "2023-08-11T09:09:00.168Z"
   },
   {
    "duration": 472,
    "start_time": "2023-08-11T09:09:00.213Z"
   },
   {
    "duration": 22,
    "start_time": "2023-08-11T09:09:00.687Z"
   },
   {
    "duration": 325,
    "start_time": "2023-08-11T09:09:00.711Z"
   },
   {
    "duration": 35,
    "start_time": "2023-08-11T09:09:01.038Z"
   },
   {
    "duration": 264,
    "start_time": "2023-08-11T09:09:01.075Z"
   },
   {
    "duration": 37,
    "start_time": "2023-08-11T09:09:01.342Z"
   },
   {
    "duration": 1212,
    "start_time": "2023-08-11T09:09:01.381Z"
   },
   {
    "duration": 23,
    "start_time": "2023-08-11T09:09:02.598Z"
   },
   {
    "duration": 43,
    "start_time": "2023-08-11T09:09:02.622Z"
   },
   {
    "duration": 21,
    "start_time": "2023-08-11T09:09:02.667Z"
   },
   {
    "duration": 23,
    "start_time": "2023-08-11T09:09:02.690Z"
   },
   {
    "duration": 328,
    "start_time": "2023-08-11T09:09:02.714Z"
   },
   {
    "duration": 33,
    "start_time": "2023-08-11T09:09:03.043Z"
   },
   {
    "duration": 304,
    "start_time": "2023-08-11T09:09:03.078Z"
   },
   {
    "duration": 21,
    "start_time": "2023-08-11T09:09:03.384Z"
   },
   {
    "duration": 387,
    "start_time": "2023-08-11T09:09:03.407Z"
   },
   {
    "duration": 23,
    "start_time": "2023-08-11T09:09:03.796Z"
   },
   {
    "duration": 307,
    "start_time": "2023-08-11T09:09:03.821Z"
   },
   {
    "duration": 31,
    "start_time": "2023-08-11T09:09:04.129Z"
   },
   {
    "duration": 271,
    "start_time": "2023-08-11T09:09:04.162Z"
   },
   {
    "duration": 52,
    "start_time": "2023-08-11T09:09:04.435Z"
   },
   {
    "duration": 2525,
    "start_time": "2023-08-11T09:09:04.488Z"
   },
   {
    "duration": 532,
    "start_time": "2023-08-11T09:09:07.015Z"
   },
   {
    "duration": 2465,
    "start_time": "2023-08-11T09:09:07.549Z"
   },
   {
    "duration": 9,
    "start_time": "2023-08-11T09:09:10.016Z"
   },
   {
    "duration": 34,
    "start_time": "2023-08-11T09:09:10.027Z"
   },
   {
    "duration": 32,
    "start_time": "2023-08-11T09:09:10.063Z"
   },
   {
    "duration": 49,
    "start_time": "2023-08-11T09:09:10.097Z"
   },
   {
    "duration": 41,
    "start_time": "2023-08-11T09:09:10.148Z"
   },
   {
    "duration": 4,
    "start_time": "2023-08-11T09:10:32.949Z"
   },
   {
    "duration": 36,
    "start_time": "2023-08-11T09:10:45.580Z"
   },
   {
    "duration": 3,
    "start_time": "2023-08-11T09:10:47.327Z"
   },
   {
    "duration": 3,
    "start_time": "2023-08-11T09:10:56.137Z"
   },
   {
    "duration": 528,
    "start_time": "2023-08-11T12:02:56.905Z"
   },
   {
    "duration": 581,
    "start_time": "2023-08-11T12:03:02.298Z"
   },
   {
    "duration": 45,
    "start_time": "2023-08-11T12:17:28.240Z"
   },
   {
    "duration": 38,
    "start_time": "2023-08-11T12:18:29.284Z"
   },
   {
    "duration": 28,
    "start_time": "2023-08-11T12:19:05.484Z"
   },
   {
    "duration": 30,
    "start_time": "2023-08-11T12:19:19.405Z"
   },
   {
    "duration": 44,
    "start_time": "2023-08-11T12:19:28.861Z"
   },
   {
    "duration": 30,
    "start_time": "2023-08-11T12:19:47.236Z"
   },
   {
    "duration": 31,
    "start_time": "2023-08-11T12:19:56.702Z"
   },
   {
    "duration": 35,
    "start_time": "2023-08-11T12:20:24.881Z"
   },
   {
    "duration": 45,
    "start_time": "2023-08-11T12:21:25.925Z"
   },
   {
    "duration": 44,
    "start_time": "2023-08-11T12:21:42.752Z"
   },
   {
    "duration": 45,
    "start_time": "2023-08-11T12:21:47.279Z"
   },
   {
    "duration": 34,
    "start_time": "2023-08-11T12:22:11.385Z"
   },
   {
    "duration": 27,
    "start_time": "2023-08-11T12:24:39.015Z"
   },
   {
    "duration": 55,
    "start_time": "2023-08-11T12:28:26.989Z"
   },
   {
    "duration": 41,
    "start_time": "2023-08-11T12:28:37.499Z"
   },
   {
    "duration": 11,
    "start_time": "2023-08-11T12:29:44.732Z"
   },
   {
    "duration": 11,
    "start_time": "2023-08-11T12:31:08.297Z"
   },
   {
    "duration": 20,
    "start_time": "2023-08-11T12:31:17.993Z"
   },
   {
    "duration": 17,
    "start_time": "2023-08-11T12:32:14.933Z"
   },
   {
    "duration": 19,
    "start_time": "2023-08-11T12:32:50.676Z"
   },
   {
    "duration": 22,
    "start_time": "2023-08-11T12:41:40.802Z"
   },
   {
    "duration": 120,
    "start_time": "2023-08-11T12:44:56.066Z"
   },
   {
    "duration": 106,
    "start_time": "2023-08-11T12:45:02.347Z"
   },
   {
    "duration": 103,
    "start_time": "2023-08-11T12:45:29.232Z"
   },
   {
    "duration": 101,
    "start_time": "2023-08-11T12:46:59.081Z"
   },
   {
    "duration": 237,
    "start_time": "2023-08-11T12:47:19.218Z"
   },
   {
    "duration": 35,
    "start_time": "2023-08-11T12:47:51.202Z"
   },
   {
    "duration": 156,
    "start_time": "2023-08-11T12:48:09.448Z"
   },
   {
    "duration": 1108,
    "start_time": "2023-08-11T19:45:28.212Z"
   },
   {
    "duration": 195,
    "start_time": "2023-08-11T19:45:29.322Z"
   },
   {
    "duration": 12,
    "start_time": "2023-08-11T19:45:29.518Z"
   },
   {
    "duration": 58,
    "start_time": "2023-08-11T19:45:29.533Z"
   },
   {
    "duration": 11,
    "start_time": "2023-08-11T19:45:29.593Z"
   },
   {
    "duration": 35,
    "start_time": "2023-08-11T19:45:29.606Z"
   },
   {
    "duration": 12,
    "start_time": "2023-08-11T19:45:29.643Z"
   },
   {
    "duration": 22,
    "start_time": "2023-08-11T19:45:29.656Z"
   },
   {
    "duration": 11,
    "start_time": "2023-08-11T19:45:29.679Z"
   },
   {
    "duration": 9,
    "start_time": "2023-08-11T19:45:29.692Z"
   },
   {
    "duration": 17,
    "start_time": "2023-08-11T19:45:29.703Z"
   },
   {
    "duration": 45,
    "start_time": "2023-08-11T19:45:29.721Z"
   },
   {
    "duration": 16,
    "start_time": "2023-08-11T19:45:29.768Z"
   },
   {
    "duration": 7,
    "start_time": "2023-08-11T19:45:29.785Z"
   },
   {
    "duration": 9,
    "start_time": "2023-08-11T19:45:29.793Z"
   },
   {
    "duration": 21,
    "start_time": "2023-08-11T19:45:29.804Z"
   },
   {
    "duration": 13,
    "start_time": "2023-08-11T19:45:29.826Z"
   },
   {
    "duration": 51,
    "start_time": "2023-08-11T19:45:29.840Z"
   },
   {
    "duration": 3,
    "start_time": "2023-08-11T19:45:29.892Z"
   },
   {
    "duration": 31,
    "start_time": "2023-08-11T19:45:29.896Z"
   },
   {
    "duration": 504,
    "start_time": "2023-08-11T19:45:29.928Z"
   },
   {
    "duration": 27,
    "start_time": "2023-08-11T19:45:30.433Z"
   },
   {
    "duration": 294,
    "start_time": "2023-08-11T19:45:30.462Z"
   },
   {
    "duration": 28,
    "start_time": "2023-08-11T19:45:30.758Z"
   },
   {
    "duration": 254,
    "start_time": "2023-08-11T19:45:30.787Z"
   },
   {
    "duration": 32,
    "start_time": "2023-08-11T19:45:31.043Z"
   },
   {
    "duration": 1074,
    "start_time": "2023-08-11T19:45:31.077Z"
   },
   {
    "duration": 25,
    "start_time": "2023-08-11T19:45:32.155Z"
   },
   {
    "duration": 44,
    "start_time": "2023-08-11T19:45:32.182Z"
   },
   {
    "duration": 21,
    "start_time": "2023-08-11T19:45:32.227Z"
   },
   {
    "duration": 24,
    "start_time": "2023-08-11T19:45:32.250Z"
   },
   {
    "duration": 287,
    "start_time": "2023-08-11T19:45:32.276Z"
   },
   {
    "duration": 24,
    "start_time": "2023-08-11T19:45:32.565Z"
   },
   {
    "duration": 299,
    "start_time": "2023-08-11T19:45:32.591Z"
   },
   {
    "duration": 21,
    "start_time": "2023-08-11T19:45:32.891Z"
   },
   {
    "duration": 360,
    "start_time": "2023-08-11T19:45:32.914Z"
   },
   {
    "duration": 19,
    "start_time": "2023-08-11T19:45:33.276Z"
   },
   {
    "duration": 281,
    "start_time": "2023-08-11T19:45:33.297Z"
   },
   {
    "duration": 19,
    "start_time": "2023-08-11T19:45:33.580Z"
   },
   {
    "duration": 278,
    "start_time": "2023-08-11T19:45:33.601Z"
   },
   {
    "duration": 38,
    "start_time": "2023-08-11T19:45:33.881Z"
   },
   {
    "duration": 2305,
    "start_time": "2023-08-11T19:45:33.920Z"
   },
   {
    "duration": 422,
    "start_time": "2023-08-11T19:45:36.227Z"
   },
   {
    "duration": 2156,
    "start_time": "2023-08-11T19:45:36.651Z"
   },
   {
    "duration": 396,
    "start_time": "2023-08-11T19:45:38.808Z"
   },
   {
    "duration": 7,
    "start_time": "2023-08-11T19:45:39.206Z"
   },
   {
    "duration": 25,
    "start_time": "2023-08-11T19:45:39.215Z"
   },
   {
    "duration": 13,
    "start_time": "2023-08-11T19:45:39.242Z"
   },
   {
    "duration": 78,
    "start_time": "2023-08-11T19:45:39.257Z"
   },
   {
    "duration": 85,
    "start_time": "2023-08-11T19:45:39.336Z"
   },
   {
    "duration": 1669,
    "start_time": "2023-08-12T02:16:02.700Z"
   },
   {
    "duration": 220,
    "start_time": "2023-08-12T02:16:04.371Z"
   },
   {
    "duration": 15,
    "start_time": "2023-08-12T02:16:04.593Z"
   },
   {
    "duration": 92,
    "start_time": "2023-08-12T02:16:04.611Z"
   },
   {
    "duration": 24,
    "start_time": "2023-08-12T02:16:04.705Z"
   },
   {
    "duration": 110,
    "start_time": "2023-08-12T02:16:04.732Z"
   },
   {
    "duration": 22,
    "start_time": "2023-08-12T02:16:04.844Z"
   },
   {
    "duration": 81,
    "start_time": "2023-08-12T02:16:04.868Z"
   },
   {
    "duration": 22,
    "start_time": "2023-08-12T02:16:04.952Z"
   },
   {
    "duration": 46,
    "start_time": "2023-08-12T02:16:04.978Z"
   },
   {
    "duration": 54,
    "start_time": "2023-08-12T02:16:05.027Z"
   },
   {
    "duration": 93,
    "start_time": "2023-08-12T02:16:05.084Z"
   },
   {
    "duration": 43,
    "start_time": "2023-08-12T02:16:05.179Z"
   },
   {
    "duration": 35,
    "start_time": "2023-08-12T02:16:05.228Z"
   },
   {
    "duration": 17,
    "start_time": "2023-08-12T02:16:05.266Z"
   },
   {
    "duration": 47,
    "start_time": "2023-08-12T02:16:05.285Z"
   },
   {
    "duration": 80,
    "start_time": "2023-08-12T02:16:05.334Z"
   },
   {
    "duration": 83,
    "start_time": "2023-08-12T02:16:05.416Z"
   },
   {
    "duration": 4,
    "start_time": "2023-08-12T02:16:05.500Z"
   },
   {
    "duration": 84,
    "start_time": "2023-08-12T02:16:05.506Z"
   },
   {
    "duration": 665,
    "start_time": "2023-08-12T02:16:05.592Z"
   },
   {
    "duration": 30,
    "start_time": "2023-08-12T02:16:06.259Z"
   },
   {
    "duration": 339,
    "start_time": "2023-08-12T02:16:06.290Z"
   },
   {
    "duration": 29,
    "start_time": "2023-08-12T02:16:06.633Z"
   },
   {
    "duration": 297,
    "start_time": "2023-08-12T02:16:06.664Z"
   },
   {
    "duration": 26,
    "start_time": "2023-08-12T02:16:06.963Z"
   },
   {
    "duration": 1223,
    "start_time": "2023-08-12T02:16:06.991Z"
   },
   {
    "duration": 28,
    "start_time": "2023-08-12T02:16:08.218Z"
   },
   {
    "duration": 44,
    "start_time": "2023-08-12T02:16:08.247Z"
   },
   {
    "duration": 26,
    "start_time": "2023-08-12T02:16:08.292Z"
   },
   {
    "duration": 32,
    "start_time": "2023-08-12T02:16:08.320Z"
   },
   {
    "duration": 266,
    "start_time": "2023-08-12T02:16:08.358Z"
   },
   {
    "duration": 36,
    "start_time": "2023-08-12T02:16:08.629Z"
   },
   {
    "duration": 353,
    "start_time": "2023-08-12T02:16:08.670Z"
   },
   {
    "duration": 26,
    "start_time": "2023-08-12T02:16:09.028Z"
   },
   {
    "duration": 436,
    "start_time": "2023-08-12T02:16:09.056Z"
   },
   {
    "duration": 48,
    "start_time": "2023-08-12T02:16:09.494Z"
   },
   {
    "duration": 288,
    "start_time": "2023-08-12T02:16:09.553Z"
   },
   {
    "duration": 24,
    "start_time": "2023-08-12T02:16:09.847Z"
   },
   {
    "duration": 348,
    "start_time": "2023-08-12T02:16:09.874Z"
   },
   {
    "duration": 49,
    "start_time": "2023-08-12T02:16:10.225Z"
   },
   {
    "duration": 2821,
    "start_time": "2023-08-12T02:16:10.276Z"
   },
   {
    "duration": 595,
    "start_time": "2023-08-12T02:16:13.100Z"
   },
   {
    "duration": 2689,
    "start_time": "2023-08-12T02:16:13.697Z"
   },
   {
    "duration": 578,
    "start_time": "2023-08-12T02:16:16.388Z"
   },
   {
    "duration": 8,
    "start_time": "2023-08-12T02:16:16.968Z"
   },
   {
    "duration": 24,
    "start_time": "2023-08-12T02:16:16.978Z"
   },
   {
    "duration": 68,
    "start_time": "2023-08-12T02:16:17.004Z"
   },
   {
    "duration": 110,
    "start_time": "2023-08-12T02:16:17.074Z"
   },
   {
    "duration": 114,
    "start_time": "2023-08-12T02:16:17.187Z"
   },
   {
    "duration": 5,
    "start_time": "2023-08-12T02:21:09.792Z"
   },
   {
    "duration": 35,
    "start_time": "2023-08-12T02:21:21.547Z"
   },
   {
    "duration": 592,
    "start_time": "2023-08-12T02:21:24.732Z"
   },
   {
    "duration": 46,
    "start_time": "2023-08-12T02:21:31.423Z"
   },
   {
    "duration": 154,
    "start_time": "2023-08-12T02:21:35.139Z"
   },
   {
    "duration": 646,
    "start_time": "2023-08-12T02:21:45.283Z"
   },
   {
    "duration": 101,
    "start_time": "2023-08-12T02:22:40.047Z"
   },
   {
    "duration": 133,
    "start_time": "2023-08-12T02:23:33.129Z"
   },
   {
    "duration": 20,
    "start_time": "2023-08-12T02:24:05.867Z"
   },
   {
    "duration": 4,
    "start_time": "2023-08-12T02:24:27.667Z"
   },
   {
    "duration": 4,
    "start_time": "2023-08-12T02:32:04.278Z"
   },
   {
    "duration": 13,
    "start_time": "2023-08-12T02:35:41.451Z"
   },
   {
    "duration": 8,
    "start_time": "2023-08-12T02:35:46.225Z"
   },
   {
    "duration": 22,
    "start_time": "2023-08-12T02:36:18.950Z"
   },
   {
    "duration": 33,
    "start_time": "2023-08-12T02:36:25.449Z"
   },
   {
    "duration": 1429,
    "start_time": "2023-08-12T02:36:48.826Z"
   },
   {
    "duration": 146,
    "start_time": "2023-08-12T02:36:50.258Z"
   },
   {
    "duration": 26,
    "start_time": "2023-08-12T02:36:50.406Z"
   },
   {
    "duration": 48,
    "start_time": "2023-08-12T02:36:50.438Z"
   },
   {
    "duration": 104,
    "start_time": "2023-08-12T02:36:50.489Z"
   },
   {
    "duration": 18,
    "start_time": "2023-08-12T02:36:50.595Z"
   },
   {
    "duration": 92,
    "start_time": "2023-08-12T02:36:50.615Z"
   },
   {
    "duration": 33,
    "start_time": "2023-08-12T02:36:50.714Z"
   },
   {
    "duration": 24,
    "start_time": "2023-08-12T02:36:50.756Z"
   },
   {
    "duration": 31,
    "start_time": "2023-08-12T02:36:50.782Z"
   },
   {
    "duration": 43,
    "start_time": "2023-08-12T02:36:50.815Z"
   },
   {
    "duration": 24,
    "start_time": "2023-08-12T02:36:50.860Z"
   },
   {
    "duration": 95,
    "start_time": "2023-08-12T02:36:50.886Z"
   },
   {
    "duration": 32,
    "start_time": "2023-08-12T02:36:50.986Z"
   },
   {
    "duration": 41,
    "start_time": "2023-08-12T02:36:51.020Z"
   },
   {
    "duration": 27,
    "start_time": "2023-08-12T02:36:51.063Z"
   },
   {
    "duration": 88,
    "start_time": "2023-08-12T02:36:51.092Z"
   },
   {
    "duration": 53,
    "start_time": "2023-08-12T02:36:51.182Z"
   },
   {
    "duration": 46,
    "start_time": "2023-08-12T02:36:51.241Z"
   },
   {
    "duration": 4,
    "start_time": "2023-08-12T02:36:51.289Z"
   },
   {
    "duration": 100,
    "start_time": "2023-08-12T02:36:51.295Z"
   },
   {
    "duration": 646,
    "start_time": "2023-08-12T02:36:51.398Z"
   },
   {
    "duration": 36,
    "start_time": "2023-08-12T02:36:52.046Z"
   },
   {
    "duration": 345,
    "start_time": "2023-08-12T02:36:52.084Z"
   },
   {
    "duration": 32,
    "start_time": "2023-08-12T02:36:52.430Z"
   },
   {
    "duration": 337,
    "start_time": "2023-08-12T02:36:52.464Z"
   },
   {
    "duration": 43,
    "start_time": "2023-08-12T02:36:52.804Z"
   },
   {
    "duration": 1153,
    "start_time": "2023-08-12T02:36:52.854Z"
   },
   {
    "duration": 27,
    "start_time": "2023-08-12T02:36:54.009Z"
   },
   {
    "duration": 54,
    "start_time": "2023-08-12T02:36:54.038Z"
   },
   {
    "duration": 40,
    "start_time": "2023-08-12T02:36:54.094Z"
   },
   {
    "duration": 31,
    "start_time": "2023-08-12T02:36:54.136Z"
   },
   {
    "duration": 328,
    "start_time": "2023-08-12T02:36:54.169Z"
   },
   {
    "duration": 49,
    "start_time": "2023-08-12T02:36:54.499Z"
   },
   {
    "duration": 402,
    "start_time": "2023-08-12T02:36:54.551Z"
   },
   {
    "duration": 24,
    "start_time": "2023-08-12T02:36:54.959Z"
   },
   {
    "duration": 539,
    "start_time": "2023-08-12T02:36:54.985Z"
   },
   {
    "duration": 25,
    "start_time": "2023-08-12T02:36:55.526Z"
   },
   {
    "duration": 285,
    "start_time": "2023-08-12T02:36:55.553Z"
   },
   {
    "duration": 33,
    "start_time": "2023-08-12T02:36:55.844Z"
   },
   {
    "duration": 374,
    "start_time": "2023-08-12T02:36:55.883Z"
   },
   {
    "duration": 66,
    "start_time": "2023-08-12T02:36:56.259Z"
   },
   {
    "duration": 2890,
    "start_time": "2023-08-12T02:36:56.327Z"
   },
   {
    "duration": 596,
    "start_time": "2023-08-12T02:36:59.223Z"
   },
   {
    "duration": 2630,
    "start_time": "2023-08-12T02:36:59.821Z"
   },
   {
    "duration": 515,
    "start_time": "2023-08-12T02:37:02.453Z"
   },
   {
    "duration": 10,
    "start_time": "2023-08-12T02:37:02.970Z"
   },
   {
    "duration": 29,
    "start_time": "2023-08-12T02:37:02.982Z"
   },
   {
    "duration": 19,
    "start_time": "2023-08-12T02:37:03.018Z"
   },
   {
    "duration": 127,
    "start_time": "2023-08-12T02:37:03.040Z"
   },
   {
    "duration": 147,
    "start_time": "2023-08-12T02:37:03.169Z"
   },
   {
    "duration": 43,
    "start_time": "2023-08-12T02:38:40.066Z"
   },
   {
    "duration": 206,
    "start_time": "2023-08-12T02:40:09.330Z"
   },
   {
    "duration": 1327,
    "start_time": "2023-08-12T02:52:01.690Z"
   },
   {
    "duration": 176,
    "start_time": "2023-08-12T02:52:03.021Z"
   },
   {
    "duration": 22,
    "start_time": "2023-08-12T02:52:03.199Z"
   },
   {
    "duration": 44,
    "start_time": "2023-08-12T02:52:03.225Z"
   },
   {
    "duration": 84,
    "start_time": "2023-08-12T02:52:03.272Z"
   },
   {
    "duration": 61,
    "start_time": "2023-08-12T02:52:03.357Z"
   },
   {
    "duration": 79,
    "start_time": "2023-08-12T02:52:03.419Z"
   },
   {
    "duration": 21,
    "start_time": "2023-08-12T02:52:03.500Z"
   },
   {
    "duration": 54,
    "start_time": "2023-08-12T02:52:03.523Z"
   },
   {
    "duration": 32,
    "start_time": "2023-08-12T02:52:03.581Z"
   },
   {
    "duration": 72,
    "start_time": "2023-08-12T02:52:03.615Z"
   },
   {
    "duration": 55,
    "start_time": "2023-08-12T02:52:03.689Z"
   },
   {
    "duration": 38,
    "start_time": "2023-08-12T02:52:03.746Z"
   },
   {
    "duration": 19,
    "start_time": "2023-08-12T02:52:03.786Z"
   },
   {
    "duration": 25,
    "start_time": "2023-08-12T02:52:03.806Z"
   },
   {
    "duration": 24,
    "start_time": "2023-08-12T02:52:03.837Z"
   },
   {
    "duration": 39,
    "start_time": "2023-08-12T02:52:03.862Z"
   },
   {
    "duration": 30,
    "start_time": "2023-08-12T02:52:03.903Z"
   },
   {
    "duration": 82,
    "start_time": "2023-08-12T02:52:03.938Z"
   },
   {
    "duration": 8,
    "start_time": "2023-08-12T02:52:04.026Z"
   },
   {
    "duration": 56,
    "start_time": "2023-08-12T02:52:04.037Z"
   },
   {
    "duration": 544,
    "start_time": "2023-08-12T02:52:04.096Z"
   },
   {
    "duration": 24,
    "start_time": "2023-08-12T02:52:04.643Z"
   },
   {
    "duration": 316,
    "start_time": "2023-08-12T02:52:04.668Z"
   },
   {
    "duration": 51,
    "start_time": "2023-08-12T02:52:04.986Z"
   },
   {
    "duration": 257,
    "start_time": "2023-08-12T02:52:05.038Z"
   },
   {
    "duration": 64,
    "start_time": "2023-08-12T02:52:05.297Z"
   },
   {
    "duration": 1281,
    "start_time": "2023-08-12T02:52:05.366Z"
   },
   {
    "duration": 20,
    "start_time": "2023-08-12T02:52:06.649Z"
   },
   {
    "duration": 49,
    "start_time": "2023-08-12T02:52:06.671Z"
   },
   {
    "duration": 31,
    "start_time": "2023-08-12T02:52:06.723Z"
   },
   {
    "duration": 26,
    "start_time": "2023-08-12T02:52:06.756Z"
   },
   {
    "duration": 310,
    "start_time": "2023-08-12T02:52:06.784Z"
   },
   {
    "duration": 38,
    "start_time": "2023-08-12T02:52:07.096Z"
   },
   {
    "duration": 520,
    "start_time": "2023-08-12T02:52:07.138Z"
   },
   {
    "duration": 24,
    "start_time": "2023-08-12T02:52:07.659Z"
   },
   {
    "duration": 438,
    "start_time": "2023-08-12T02:52:07.685Z"
   },
   {
    "duration": 32,
    "start_time": "2023-08-12T02:52:08.131Z"
   },
   {
    "duration": 335,
    "start_time": "2023-08-12T02:52:08.165Z"
   },
   {
    "duration": 42,
    "start_time": "2023-08-12T02:52:08.502Z"
   },
   {
    "duration": 245,
    "start_time": "2023-08-12T02:52:08.547Z"
   },
   {
    "duration": 59,
    "start_time": "2023-08-12T02:52:08.794Z"
   },
   {
    "duration": 2638,
    "start_time": "2023-08-12T02:52:08.855Z"
   },
   {
    "duration": 567,
    "start_time": "2023-08-12T02:52:11.495Z"
   },
   {
    "duration": 2524,
    "start_time": "2023-08-12T02:52:12.063Z"
   },
   {
    "duration": 526,
    "start_time": "2023-08-12T02:52:14.589Z"
   },
   {
    "duration": 19,
    "start_time": "2023-08-12T02:52:15.120Z"
   },
   {
    "duration": 24,
    "start_time": "2023-08-12T02:52:15.146Z"
   },
   {
    "duration": 16,
    "start_time": "2023-08-12T02:52:15.173Z"
   },
   {
    "duration": 159,
    "start_time": "2023-08-12T02:52:15.191Z"
   },
   {
    "duration": 109,
    "start_time": "2023-08-12T02:52:15.353Z"
   },
   {
    "duration": 1283,
    "start_time": "2023-08-12T19:50:45.066Z"
   },
   {
    "duration": 210,
    "start_time": "2023-08-12T19:50:46.351Z"
   },
   {
    "duration": 18,
    "start_time": "2023-08-12T19:50:46.563Z"
   },
   {
    "duration": 5,
    "start_time": "2023-08-12T19:50:46.583Z"
   },
   {
    "duration": 61,
    "start_time": "2023-08-12T19:50:46.590Z"
   },
   {
    "duration": 13,
    "start_time": "2023-08-12T19:50:46.653Z"
   },
   {
    "duration": 77,
    "start_time": "2023-08-12T19:50:46.668Z"
   },
   {
    "duration": 19,
    "start_time": "2023-08-12T19:50:46.747Z"
   },
   {
    "duration": 21,
    "start_time": "2023-08-12T19:50:46.768Z"
   },
   {
    "duration": 15,
    "start_time": "2023-08-12T19:50:46.793Z"
   },
   {
    "duration": 30,
    "start_time": "2023-08-12T19:50:46.809Z"
   },
   {
    "duration": 6,
    "start_time": "2023-08-12T19:50:46.840Z"
   },
   {
    "duration": 31,
    "start_time": "2023-08-12T19:50:46.848Z"
   },
   {
    "duration": 22,
    "start_time": "2023-08-12T19:50:46.881Z"
   },
   {
    "duration": 47,
    "start_time": "2023-08-12T19:50:46.905Z"
   },
   {
    "duration": 36,
    "start_time": "2023-08-12T19:50:46.954Z"
   },
   {
    "duration": 42,
    "start_time": "2023-08-12T19:50:46.993Z"
   },
   {
    "duration": 19,
    "start_time": "2023-08-12T19:50:47.037Z"
   },
   {
    "duration": 46,
    "start_time": "2023-08-12T19:50:47.058Z"
   },
   {
    "duration": 18,
    "start_time": "2023-08-12T19:50:47.106Z"
   },
   {
    "duration": 42,
    "start_time": "2023-08-12T19:50:47.126Z"
   },
   {
    "duration": 475,
    "start_time": "2023-08-12T19:50:47.173Z"
   },
   {
    "duration": 22,
    "start_time": "2023-08-12T19:50:47.650Z"
   },
   {
    "duration": 297,
    "start_time": "2023-08-12T19:50:47.674Z"
   },
   {
    "duration": 26,
    "start_time": "2023-08-12T19:50:47.973Z"
   },
   {
    "duration": 307,
    "start_time": "2023-08-12T19:50:48.001Z"
   },
   {
    "duration": 37,
    "start_time": "2023-08-12T19:50:48.310Z"
   },
   {
    "duration": 1029,
    "start_time": "2023-08-12T19:50:48.351Z"
   },
   {
    "duration": 19,
    "start_time": "2023-08-12T19:50:49.382Z"
   },
   {
    "duration": 40,
    "start_time": "2023-08-12T19:50:49.403Z"
   },
   {
    "duration": 27,
    "start_time": "2023-08-12T19:50:49.446Z"
   },
   {
    "duration": 27,
    "start_time": "2023-08-12T19:50:49.476Z"
   },
   {
    "duration": 323,
    "start_time": "2023-08-12T19:50:49.505Z"
   },
   {
    "duration": 26,
    "start_time": "2023-08-12T19:50:49.829Z"
   },
   {
    "duration": 288,
    "start_time": "2023-08-12T19:50:49.857Z"
   },
   {
    "duration": 22,
    "start_time": "2023-08-12T19:50:50.147Z"
   },
   {
    "duration": 354,
    "start_time": "2023-08-12T19:50:50.171Z"
   },
   {
    "duration": 29,
    "start_time": "2023-08-12T19:50:50.527Z"
   },
   {
    "duration": 282,
    "start_time": "2023-08-12T19:50:50.558Z"
   },
   {
    "duration": 20,
    "start_time": "2023-08-12T19:50:50.841Z"
   },
   {
    "duration": 313,
    "start_time": "2023-08-12T19:50:50.862Z"
   },
   {
    "duration": 68,
    "start_time": "2023-08-12T19:50:51.177Z"
   },
   {
    "duration": 2725,
    "start_time": "2023-08-12T19:50:51.247Z"
   },
   {
    "duration": 427,
    "start_time": "2023-08-12T19:50:53.974Z"
   },
   {
    "duration": 2174,
    "start_time": "2023-08-12T19:50:54.403Z"
   },
   {
    "duration": 443,
    "start_time": "2023-08-12T19:50:56.579Z"
   },
   {
    "duration": 14,
    "start_time": "2023-08-12T19:50:57.024Z"
   },
   {
    "duration": 20,
    "start_time": "2023-08-12T19:50:57.041Z"
   },
   {
    "duration": 18,
    "start_time": "2023-08-12T19:50:57.062Z"
   },
   {
    "duration": 113,
    "start_time": "2023-08-12T19:50:57.082Z"
   },
   {
    "duration": 110,
    "start_time": "2023-08-12T19:50:57.198Z"
   },
   {
    "duration": 1159,
    "start_time": "2023-08-12T19:51:49.506Z"
   },
   {
    "duration": 127,
    "start_time": "2023-08-12T19:51:50.667Z"
   },
   {
    "duration": 11,
    "start_time": "2023-08-12T19:51:50.796Z"
   },
   {
    "duration": 15,
    "start_time": "2023-08-12T19:51:50.808Z"
   },
   {
    "duration": 45,
    "start_time": "2023-08-12T19:51:50.825Z"
   },
   {
    "duration": 11,
    "start_time": "2023-08-12T19:51:50.872Z"
   },
   {
    "duration": 48,
    "start_time": "2023-08-12T19:51:50.884Z"
   },
   {
    "duration": 10,
    "start_time": "2023-08-12T19:51:50.938Z"
   },
   {
    "duration": 18,
    "start_time": "2023-08-12T19:51:50.950Z"
   },
   {
    "duration": 29,
    "start_time": "2023-08-12T19:51:50.970Z"
   },
   {
    "duration": 9,
    "start_time": "2023-08-12T19:51:51.001Z"
   },
   {
    "duration": 11,
    "start_time": "2023-08-12T19:51:51.012Z"
   },
   {
    "duration": 25,
    "start_time": "2023-08-12T19:51:51.025Z"
   },
   {
    "duration": 19,
    "start_time": "2023-08-12T19:51:51.053Z"
   },
   {
    "duration": 8,
    "start_time": "2023-08-12T19:51:51.074Z"
   },
   {
    "duration": 18,
    "start_time": "2023-08-12T19:51:51.083Z"
   },
   {
    "duration": 54,
    "start_time": "2023-08-12T19:51:51.103Z"
   },
   {
    "duration": 22,
    "start_time": "2023-08-12T19:51:51.159Z"
   },
   {
    "duration": 41,
    "start_time": "2023-08-12T19:51:51.183Z"
   },
   {
    "duration": 3,
    "start_time": "2023-08-12T19:51:51.226Z"
   },
   {
    "duration": 28,
    "start_time": "2023-08-12T19:51:51.230Z"
   },
   {
    "duration": 506,
    "start_time": "2023-08-12T19:51:51.259Z"
   },
   {
    "duration": 27,
    "start_time": "2023-08-12T19:51:51.768Z"
   },
   {
    "duration": 370,
    "start_time": "2023-08-12T19:51:51.798Z"
   },
   {
    "duration": 21,
    "start_time": "2023-08-12T19:51:52.170Z"
   },
   {
    "duration": 308,
    "start_time": "2023-08-12T19:51:52.193Z"
   },
   {
    "duration": 23,
    "start_time": "2023-08-12T19:51:52.503Z"
   },
   {
    "duration": 1001,
    "start_time": "2023-08-12T19:51:52.538Z"
   },
   {
    "duration": 17,
    "start_time": "2023-08-12T19:51:53.541Z"
   },
   {
    "duration": 23,
    "start_time": "2023-08-12T19:51:53.559Z"
   },
   {
    "duration": 16,
    "start_time": "2023-08-12T19:51:53.584Z"
   },
   {
    "duration": 44,
    "start_time": "2023-08-12T19:51:53.601Z"
   },
   {
    "duration": 257,
    "start_time": "2023-08-12T19:51:53.647Z"
   },
   {
    "duration": 18,
    "start_time": "2023-08-12T19:51:53.905Z"
   },
   {
    "duration": 280,
    "start_time": "2023-08-12T19:51:53.937Z"
   },
   {
    "duration": 28,
    "start_time": "2023-08-12T19:51:54.219Z"
   },
   {
    "duration": 392,
    "start_time": "2023-08-12T19:51:54.248Z"
   },
   {
    "duration": 19,
    "start_time": "2023-08-12T19:51:54.641Z"
   },
   {
    "duration": 247,
    "start_time": "2023-08-12T19:51:54.661Z"
   },
   {
    "duration": 29,
    "start_time": "2023-08-12T19:51:54.910Z"
   },
   {
    "duration": 260,
    "start_time": "2023-08-12T19:51:54.943Z"
   },
   {
    "duration": 48,
    "start_time": "2023-08-12T19:51:55.204Z"
   },
   {
    "duration": 2227,
    "start_time": "2023-08-12T19:51:55.253Z"
   },
   {
    "duration": 395,
    "start_time": "2023-08-12T19:51:57.481Z"
   },
   {
    "duration": 1971,
    "start_time": "2023-08-12T19:51:57.878Z"
   },
   {
    "duration": 409,
    "start_time": "2023-08-12T19:51:59.851Z"
   },
   {
    "duration": 8,
    "start_time": "2023-08-12T19:52:00.261Z"
   },
   {
    "duration": 37,
    "start_time": "2023-08-12T19:52:00.271Z"
   },
   {
    "duration": 20,
    "start_time": "2023-08-12T19:52:00.309Z"
   },
   {
    "duration": 82,
    "start_time": "2023-08-12T19:52:00.331Z"
   },
   {
    "duration": 82,
    "start_time": "2023-08-12T19:52:00.415Z"
   }
  ],
  "kernelspec": {
   "display_name": "Python 3 (ipykernel)",
   "language": "python",
   "name": "python3"
  },
  "language_info": {
   "codemirror_mode": {
    "name": "ipython",
    "version": 3
   },
   "file_extension": ".py",
   "mimetype": "text/x-python",
   "name": "python",
   "nbconvert_exporter": "python",
   "pygments_lexer": "ipython3",
   "version": "3.9.5"
  },
  "toc": {
   "base_numbering": 1,
   "nav_menu": {},
   "number_sections": true,
   "sideBar": true,
   "skip_h1_title": true,
   "title_cell": "Table of Contents",
   "title_sidebar": "Contents",
   "toc_cell": false,
   "toc_position": {},
   "toc_section_display": true,
   "toc_window_display": false
  }
 },
 "nbformat": 4,
 "nbformat_minor": 2
}
